{
 "cells": [
  {
   "cell_type": "code",
   "execution_count": 1,
   "id": "8ee63318",
   "metadata": {},
   "outputs": [],
   "source": [
    "import numpy as np\n",
    "import matplotlib.pyplot as plt\n",
    "from celmech.disturbing_function import df_coefficient_Ctilde\n",
    "from celmech.disturbing_function import evaluate_df_coefficient_dict\n",
    "from celmech.disturbing_function import laplace_b as b\n",
    "import scipy.optimize as opt"
   ]
  },
  {
   "cell_type": "code",
   "execution_count": 2,
   "id": "00bbf00f",
   "metadata": {},
   "outputs": [],
   "source": [
    "def b1(alpha):\n",
    "    return b(1.5, 1, 0, alpha)\n",
    "def b2(alpha):\n",
    "    return b(1.5, 2, 0, alpha)"
   ]
  },
  {
   "cell_type": "code",
   "execution_count": 56,
   "id": "e7a6c992",
   "metadata": {},
   "outputs": [],
   "source": [
    "def Mprime(alpha, mass):\n",
    "    m1, m2, m3 = mass\n",
    "    m_tot = m1+m2+m3\n",
    "    alpha12, alpha23 = alpha\n",
    "    alpha13 = alpha12*alpha23\n",
    "    \n",
    "    R = np.array([[np.sqrt(m1/m_tot), np.sqrt(m2/m_tot), np.sqrt(m3/m_tot)],\n",
    "             [-np.sqrt(m3/(m1+m3)), 0, np.sqrt(m1/(m1+m3))],\n",
    "             [np.sqrt(m1*m2/(m1+m3)/m_tot), -np.sqrt((m1+m3)/m_tot), np.sqrt(m2*m3/(m1+m3)/m_tot)]])\n",
    "       \n",
    "    M = np.array([[b1(alpha12)*m2+b1(alpha13)*m3, -b2(alpha12)*np.sqrt(m1*m2), -b2(alpha13)*np.sqrt(m1*m3)],\n",
    "             [-b2(alpha12)*np.sqrt(m1*m2), b1(alpha12)*m1+ b1(alpha23)*m3, -b2(alpha23)*np.sqrt(m2*m3)],\n",
    "             [-b2(alpha13)*np.sqrt(m1*m3), -b2(alpha23)*np.sqrt(m2*m3), b1(alpha13)*m1+b1(alpha23)*m2]])*(-2*alpha12)*np.pi/4\n",
    "    \n",
    "    return np.matmul(np.matmul(R, M), np.transpose(R))"
   ]
  },
  {
   "cell_type": "code",
   "execution_count": 57,
   "id": "c52fb7fb",
   "metadata": {},
   "outputs": [
    {
     "data": {
      "text/plain": [
       "array([[-5.93896550e-06, -6.58671790e-22,  0.00000000e+00],\n",
       "       [ 1.95526536e-21, -6.47072591e-05,  0.00000000e+00],\n",
       "       [ 0.00000000e+00,  0.00000000e+00, -2.38408100e-04]])"
      ]
     },
     "execution_count": 57,
     "metadata": {},
     "output_type": "execute_result"
    }
   ],
   "source": [
    "Mprime((0.85,0.85),(3e-6,0,3e-6))"
   ]
  },
  {
   "cell_type": "markdown",
   "id": "7266e32b",
   "metadata": {},
   "source": [
    "$$ R \\cdot \\begin{pmatrix}\\vec{G_1}\\\\ \\vec{G_2}\\\\ \\vec{G_3} \\end{pmatrix} = \\begin{pmatrix}\\vec{S_1}\\\\ \\vec{S_2}\\\\ \\vec{S_3} \\end{pmatrix} $$"
   ]
  },
  {
   "cell_type": "code",
   "execution_count": 5,
   "id": "40e0c19f",
   "metadata": {},
   "outputs": [],
   "source": [
    "def StoG(mass, amp, phi):\n",
    "    m1, m3 = mass\n",
    "    A1, A2, A3 = amp\n",
    "    p1, p2, p3 = phi\n",
    "    \n",
    "    e1_x = A1*np.cos(p1) - np.sqrt(m3/m1)*A2*np.cos(p2)\n",
    "    e2_x = A1*np.cos(p1) - A3*np.cos(p3)\n",
    "    e3_x = A1*np.cos(p1) + np.sqrt(m1/m3)*A2*np.cos(p2)\n",
    "    \n",
    "    e1_y = A1*np.sin(p1) - np.sqrt(m3/m1)*A2*np.sin(p2)\n",
    "    e2_y = A1*np.sin(p1) - A3*np.sin(p3)\n",
    "    e3_y = A1*np.sin(p1) + np.sqrt(m1/m3)*A2*np.sin(p2)\n",
    "    \n",
    "    e1, e2, e3 = np.sqrt(e1_x**2 + e1_y**2), np.sqrt(e2_x**2 + e2_y**2), np.sqrt(e3_x**2 + e3_y**2)\n",
    "    pom1, pom2, pom3 = np.arctan2(e1_y,e1_x), np.arctan2(e2_y,e2_x), np.arctan2(e3_y,e3_x)\n",
    "    \n",
    "    return (e1, e2, e3), (pom1, pom2, pom3)"
   ]
  },
  {
   "cell_type": "code",
   "execution_count": 6,
   "id": "0ec076df",
   "metadata": {},
   "outputs": [],
   "source": [
    "def GtoS(alpha, mass, ecc, pomega):\n",
    "    alpha12, alpha23 = alpha\n",
    "    alpha13 = alpha12*alpha23\n",
    "    m1, m3 = mass\n",
    "    ecc1, ecc2, ecc3 = ecc\n",
    "    pom1, pom2, pom3 = pomega\n",
    "\n",
    "    e1_x, e2_x, e3_x = ecc1*np.cos(pom1), ecc2*np.cos(pom2), ecc3*np.cos(pom3)\n",
    "    e1_y, e2_y, e3_y = ecc1*np.sin(pom1), ecc2*np.sin(pom2), ecc3*np.sin(pom3)\n",
    "    \n",
    "    amp1 = 1/(m1+m3) * np.sqrt((m1*e1_y + m3*e3_y)**2 + (m1*e1_x + m3*e3_x)**2)\n",
    "    amp2 = np.sqrt(m1*m3)/(m1+m3) * np.sqrt((e3_y-e1_y)**2 + (e3_x-e1_x)**2)\n",
    "    amp3 = 1/(m1+m3) * np.sqrt((m3*(e3_y-e2_y)-m1*(e2_y-e1_y))**2+(m3*(e3_x-e2_x)-m1*(e2_x-e1_x))**2)\n",
    "    \n",
    "    phase1 = np.arctan2(m1*e1_y+m3*e3_y, m1*e1_x+m3*e3_x)\n",
    "    phase2 = np.arctan2(e3_y-e1_y, e3_x-e1_x)\n",
    "    phase3 = np.arctan2(m3*(e3_y-e2_y)-m1*(e2_y-e1_y), m3*(e3_x-e2_x)-m1*(e2_x-e1_x))\n",
    "    \n",
    "    omega2 = (alpha12+alpha13+alpha23)/3 * (m1+m3)/(2*(1-alpha13)**2)\n",
    "    omega3 = (alpha12+alpha13+alpha23)/3 * (m1/(2*(1-alpha12)**2) + m3/(2*(1-alpha23)**2))\n",
    "    \n",
    "    return amp1, amp2, amp3, phase1, phase2, phase3, omega2, omega3"
   ]
  },
  {
   "cell_type": "code",
   "execution_count": 7,
   "id": "71d30397",
   "metadata": {},
   "outputs": [],
   "source": [
    "# set A2 to zero\n",
    "def breathingON1(mass, A3_p):\n",
    "    m1, m3 = mass\n",
    "    \n",
    "    x1 = np.sqrt(m3/m1)\n",
    "    x2 = 1\n",
    "    y1 = np.sqrt(m1/m3)\n",
    "    y2 = 1\n",
    "\n",
    "    if m1==m3:\n",
    "        A3_b = A3_p / np.sqrt(2)\n",
    "        A2_b = A3_b*x2/x1\n",
    "        theta = np.pi/2\n",
    "    else:\n",
    "        def A2(theta):\n",
    "            return np.fabs(2*A3_p*x2*y2*np.cos(theta) / np.sqrt((x1*y2-x2*y1)**2 + 4*x1*x2*y1*y2*(np.cos(theta))**2))\n",
    "        def A3(theta):\n",
    "            return np.fabs(A3_p*(x1*y2-x2*y1) / np.sqrt((x1*y2-x2*y1)**2 + 4*x1*x2*y1*y2*(np.cos(theta))**2))\n",
    "        def e21_min(theta):\n",
    "            return -(x1*A2(theta) + x2*A3(theta))**2\n",
    "        def e32_min(theta):\n",
    "            return -(y1*A2(theta) + y2*A3(theta))**2\n",
    "        \n",
    "        minimizer_kwargs = dict(method=\"L-BFGS-B\", bounds=[(0,2*np.pi)])\n",
    "        result21 = opt.basinhopping(e21_min, x0=0, minimizer_kwargs=minimizer_kwargs, niter=50)\n",
    "        result32 = opt.basinhopping(e32_min, x0=0, minimizer_kwargs=minimizer_kwargs, niter=50)\n",
    "        \n",
    "        if np.fabs(result21.fun) > np.fabs(result32.fun):\n",
    "            theta = result21.x\n",
    "            A2_b, A3_b = A2(theta), A3(theta)\n",
    "        else:\n",
    "            theta = result32.x\n",
    "            A2_b, A3_b = A2(theta), A3(theta)\n",
    "    \n",
    "    return A2_b, A3_b, theta"
   ]
  },
  {
   "cell_type": "code",
   "execution_count": 8,
   "id": "38bcd39f",
   "metadata": {},
   "outputs": [],
   "source": [
    "# set A3 to zero\n",
    "def breathingON2(mass, A2_p):\n",
    "    m1, m3 = mass\n",
    "    \n",
    "    x1 = np.sqrt(m3/m1)\n",
    "    x2 = 1\n",
    "    y1 = np.sqrt(m1/m3)\n",
    "    y2 = 1\n",
    "\n",
    "    if m1==m3:\n",
    "        A2_b = A2_p / np.sqrt(2)\n",
    "        A3_b = A2_b*x1/x2\n",
    "        theta = np.pi/2\n",
    "    else:\n",
    "        def A2(theta):\n",
    "            return np.fabs(A2_p*(x1*y2-x2*y1) / np.sqrt((x1*y2-x2*y1)**2 + 4*x1*x2*y1*y2*(np.cos(theta))**2))\n",
    "        def A3(theta):\n",
    "            return np.fabs(2*A2_p*x1*y1*np.cos(theta) / np.sqrt((x1*y2-x2*y1)**2 + 4*x1*x2*y1*y2*(np.cos(theta))**2))\n",
    "        def e21_min(theta):\n",
    "            return -(x1*A2(theta) + x2*A3(theta))**2\n",
    "        def e32_min(theta):\n",
    "            return -(y1*A2(theta) + y2*A3(theta))**2\n",
    "        \n",
    "        minimizer_kwargs = dict(method=\"L-BFGS-B\", bounds=[(0,2*np.pi)])\n",
    "        result21 = opt.basinhopping(e21_min, x0=0, minimizer_kwargs=minimizer_kwargs, niter=50)\n",
    "        result32 = opt.basinhopping(e32_min, x0=0, minimizer_kwargs=minimizer_kwargs, niter=50)\n",
    "        \n",
    "        if np.fabs(result21.fun) > np.fabs(result32.fun):\n",
    "            theta = result21.x\n",
    "            A2_b, A3_b = A2(theta), A3(theta)\n",
    "        else:\n",
    "            theta = result32.x\n",
    "            A2_b, A3_b = A2(theta), A3(theta)\n",
    "    \n",
    "    return A2_b, A3_b, theta"
   ]
  },
  {
   "cell_type": "code",
   "execution_count": 15,
   "id": "d457c464",
   "metadata": {},
   "outputs": [],
   "source": [
    "def plotEcc(alpha, mass, ecc, pomega, time):\n",
    "    m1, m3 = mass\n",
    "    A1, A2, A3, p1, p2, p3, w2, w3 = GtoS(alpha, mass, ecc, pomega)\n",
    "\n",
    "    t = np.linspace(0,time,400)\n",
    "    \n",
    "    e1_x = A1*np.cos(p1) - np.sqrt(m3/m1)*A2*np.cos(w2*t+p2)\n",
    "    e2_x = A1*np.cos(p1) - A3*np.cos(w3*t+p3)\n",
    "    e3_x = A1*np.cos(p1) + np.sqrt(m1/m3)*A2*np.cos(w2*t+p2)\n",
    "    \n",
    "    e1_y = A1*np.sin(p1) - np.sqrt(m3/m1)*A2*np.sin(w2*t+p2)\n",
    "    e2_y = A1*np.sin(p1) - A3*np.sin(w3*t+p3)\n",
    "    e3_y = A1*np.sin(p1) + np.sqrt(m1/m3)*A2*np.sin(w2*t+p2)\n",
    "    \n",
    "    e1 = np.sqrt(e1_x**2 + e1_y**2)\n",
    "    e2 = np.sqrt(e2_x**2 + e2_y**2)\n",
    "    e3 = np.sqrt(e3_x**2 + e3_y**2)\n",
    "    \n",
    "    e21 = np.sqrt((e2_x-e1_x)**2 + (e2_y-e1_y)**2)\n",
    "    e32 = np.sqrt((e3_x-e2_x)**2 + (e3_y-e2_y)**2)\n",
    "    \n",
    "    fig, axarr = plt.subplots(nrows=5, figsize=(5,4))\n",
    "    axarr[0].plot(t, e1, 'k.')\n",
    "    axarr[0].set_ylabel(r\"$e_{1}$\")\n",
    "    \n",
    "    axarr[1].plot(t, e2, 'k.')\n",
    "    axarr[1].set_ylabel(r\"$e_{2}$\")\n",
    "    \n",
    "    axarr[2].plot(t, e3, 'k.')\n",
    "    axarr[2].set_ylabel(r\"$e_{3}$\")\n",
    "    \n",
    "    axarr[3].plot(t, e21, 'k.')\n",
    "    axarr[3].set_ylabel(r\"$e_{21}$\")\n",
    "    \n",
    "    axarr[4].plot(t, e32, 'k.')\n",
    "    axarr[4].set_ylabel(r\"$e_{32}$\")\n",
    "    "
   ]
  },
  {
   "cell_type": "code",
   "execution_count": 95,
   "id": "5f6cae94",
   "metadata": {},
   "outputs": [],
   "source": [
    "alpha = 0.85,0.85\n",
    "mass = 3e-6,3e-6\n",
    "ecc = 0.02,1e-4,0.02\n",
    "pomega = 0, 0, np.pi"
   ]
  },
  {
   "cell_type": "code",
   "execution_count": 96,
   "id": "3e4ed07e",
   "metadata": {},
   "outputs": [
    {
     "name": "stdout",
     "output_type": "stream",
     "text": [
      "1.2246467991473532e-18 0.02 0.00010000000000000089\n"
     ]
    },
    {
     "data": {
      "image/png": "[encoded data removed]",
      "text/plain": [
       "<Figure size 500x400 with 5 Axes>"
      ]
     },
     "metadata": {},
     "output_type": "display_data"
    }
   ],
   "source": [
    "amp1, amp2, amp3, phase1, phase2, phase3, omega2, omega3 = GtoS(alpha, mass, ecc, pomega)\n",
    "# ecc, pomega = StoG(mass, (0, amp2, 0), (phase1, phase2, phase3))\n",
    "# print(ecc)\n",
    "# print(pomega)\n",
    "print(amp1, amp2, amp3)\n",
    "plotEcc(alpha, mass, ecc, pomega,1e5)"
   ]
  },
  {
   "cell_type": "code",
   "execution_count": 62,
   "id": "f2b2f356",
   "metadata": {},
   "outputs": [
    {
     "data": {
      "image/png": "[encoded data removed]",
      "text/plain": [
       "<Figure size 500x400 with 5 Axes>"
      ]
     },
     "metadata": {},
     "output_type": "display_data"
    }
   ],
   "source": [
    "# A2, A3, theta = breathingON1(mass,amp3)\n",
    "# print(theta)\n",
    "# ecc, pomega = StoG(mass, (amp1, A2, A3), (phase1, phase2, phase2+theta))\n",
    "plotEcc(alpha, mass, ecc, pomega, 5e6)"
   ]
  },
  {
   "cell_type": "code",
   "execution_count": null,
   "id": "e4e6a574",
   "metadata": {},
   "outputs": [],
   "source": []
  }
 ],
 "metadata": {
  "kernelspec": {
   "display_name": "Python 3 (ipykernel)",
   "language": "python",
   "name": "python3"
  },
  "language_info": {
   "codemirror_mode": {
    "name": "ipython",
    "version": 3
   },
   "file_extension": ".py",
   "mimetype": "text/x-python",
   "name": "python",
   "nbconvert_exporter": "python",
   "pygments_lexer": "ipython3",
   "version": "3.10.9"
  }
 },
 "nbformat": 4,
 "nbformat_minor": 5
}
