{
 "cells": [
  {
   "cell_type": "code",
   "execution_count": null,
   "id": "b16ee68d",
   "metadata": {},
   "outputs": [],
   "source": [
    "import pandas as pd\n",
    "import numpy as np\n",
    "import rebound\n",
    "import matplotlib.pyplot as plt\n",
    "from scipy.optimize import curve_fit\n",
    "from matplotlib import colors\n",
    "from rebound.interruptible_pool import InterruptiblePool"
   ]
  },
  {
   "cell_type": "code",
   "execution_count": null,
   "id": "1cf33889",
   "metadata": {},
   "outputs": [],
   "source": [
    "def line(x, a, b):\n",
    "    return a*x + b"
   ]
  },
  {
   "cell_type": "code",
   "execution_count": null,
   "id": "806dda91",
   "metadata": {},
   "outputs": [],
   "source": [
    "def simulation(param):\n",
    "    P1, P2 = param\n",
    "    ecc1, ecc0, ecc2 = 0.05, 0.070, 0.05\n",
    "    mu1, mu2 = 36e-6, 28e-6\n",
    "    omega1, omega0, omega2 = -0.4, -0.86, 0\n",
    "    P_0, lambda_0 = 0.05, 0\n",
    "\n",
    "    # start simulation\n",
    "    sim = rebound.Simulation()\n",
    "    sim.units = ('yr', 'AU', 'Msun')\n",
    "\n",
    "    # add star, planet 1, planet 2\n",
    "    sim.add(m=1.)\n",
    "    sim.add(m=mu1, P=P1, e=ecc1, omega=omega1)\n",
    "    sim.add(m=mu2, P=P2, e=ecc2, omega=omega2)\n",
    "    ps = sim.particles\n",
    "    ps[1].r = ps[1].a*(ps[1].m/3/ps[0].m)**(1/3)\n",
    "    ps[2].r = ps[2].a*(ps[2].m/3/ps[0].m)**(1/3)\n",
    "    \n",
    "    # add test particle\n",
    "    sim.add(P=P_0, l=lambda_0, e=ecc0, omega=omega0)\n",
    "    sim.move_to_com()\n",
    "    sim.integrator = \"whfast\"\n",
    "    sim.dt = sim.particles[1].P/20\n",
    "    sim.collision = \"direct\"\n",
    "    \n",
    "    sim.init_megno()\n",
    "    \n",
    "    # calculate megno\n",
    "    time = np.logspace(0,5,num=100)*P_0\n",
    "    for T in time:\n",
    "        sim.integrate(T, exact_finish_time=0)\n",
    "        if sim.calculate_megno() >= 2.5:\n",
    "            megno = np.zeros(200)\n",
    "            sim_time = np.linspace(sim.t, 50*sim.t, num=200)\n",
    "            for i, t in enumerate(sim_time):\n",
    "                try:\n",
    "                    sim.integrate(t, exact_finish_time=0)\n",
    "                    m = sim.calculate_megno()\n",
    "                    megno[i] = m\n",
    "                    if m >= 50:\n",
    "                        break\n",
    "                except rebound.Collision:\n",
    "                    break\n",
    "            y = megno[megno != 0]\n",
    "            x = sim_time[0:len(y)]\n",
    "            try:\n",
    "                (popt, pcov) = curve_fit(line, x, y, maxfev=90000)\n",
    "                ly = 1/popt[0]\n",
    "                return ly\n",
    "            except:\n",
    "                return 55555\n",
    "    return 666666"
   ]
  },
  {
   "cell_type": "code",
   "execution_count": null,
   "id": "1baa1e56",
   "metadata": {},
   "outputs": [],
   "source": [
    "Ngrid_x = 30\n",
    "Ngrid_y = 30\n",
    "P_0 = 0.05\n",
    "\n",
    "r10 = np.linspace(0.49,0.76,Ngrid_x)\n",
    "r20 = np.linspace(1.3,2.04,Ngrid_y)\n",
    "parameters = [[P_0*x, P_0*y] for x in r10 for y in r20]\n",
    "\n",
    "pool = InterruptiblePool()\n",
    "results = pool.map(simulation,parameters)\n",
    "np.savetxt(\"lyapunov_high_e.csv\", results, delimiter=\",\")"
   ]
  },
  {
   "cell_type": "code",
   "execution_count": null,
   "id": "aa9b2298",
   "metadata": {},
   "outputs": [],
   "source": [
    "def rescale(results):\n",
    "    failed = np.zeros(len(results))\n",
    "    ly_rescaled = np.zeros(len(results))\n",
    "    for i in range(0,len(results)):\n",
    "        ly = results[i][0]\n",
    "        if ly == 55555 || ly == 666666:\n",
    "            failed[i] = i\n",
    "            ly_rescaled[i] = 7  # make failed points blank\n",
    "        elif ly > 0:\n",
    "            x = round(np.log10(ly/0.05))\n",
    "            if x > 6:\n",
    "                ly_rescaled[i] = 7\n",
    "            else:\n",
    "                ly_rescaled[i] = x\n",
    "        else:\n",
    "            failed[i] = i\n",
    "            ly_rescaled[i] = 7\n",
    "    return ly_rescaled, failed[failed != 0]"
   ]
  },
  {
   "cell_type": "code",
   "execution_count": null,
   "id": "7c37caeb",
   "metadata": {},
   "outputs": [],
   "source": [
    "dataframe = pd.read_csv('lyapunov_high_e.csv', header=None)\n",
    "data = dataframe.values\n",
    "ly_rescaled, fail_index = rescale(data)\n",
    "results2d = np.array(ly_rescaled).reshape(Ngrid_y,Ngrid_x)\n",
    "\n",
    "fig = plt.figure(figsize=(7,5))\n",
    "ax = plt.subplot(111)\n",
    "extent = [min(r10),max(r10),min(r20),max(r20)]\n",
    "ax.set_xlim(extent[0],extent[1])\n",
    "ax.set_xlabel(r\"$P_1$ [$P$]\")\n",
    "ax.set_ylim(extent[2],extent[3])\n",
    "ax.set_ylabel(r\"$P_2$ [$P$]\")\n",
    "im = ax.imshow(results2d.transpose(), interpolation=\"none\", vmin=1, vmax=7, cmap=colors.ListedColormap(['r','y','g','b','m','w']), origin=\"lower\", aspect='auto', extent=extent)\n",
    "cb = plt.colorbar(im, ax=ax)\n",
    "cb.set_label(r\"$\\log_{10}$ ($t_{lyap}$ [$P$])\")"
   ]
  },
  {
   "cell_type": "code",
   "execution_count": null,
   "id": "e3f527da",
   "metadata": {},
   "outputs": [],
   "source": [
    "fail_index"
   ]
  }
 ],
 "metadata": {
  "kernelspec": {
   "display_name": "Python 3 (ipykernel)",
   "language": "python",
   "name": "python3"
  },
  "language_info": {
   "codemirror_mode": {
    "name": "ipython",
    "version": 3
   },
   "file_extension": ".py",
   "mimetype": "text/x-python",
   "name": "python",
   "nbconvert_exporter": "python",
   "pygments_lexer": "ipython3",
   "version": "3.10.9"
  }
 },
 "nbformat": 4,
 "nbformat_minor": 5
}
