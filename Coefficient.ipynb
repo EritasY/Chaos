{
 "cells": [
  {
   "cell_type": "code",
   "execution_count": 2,
   "id": "8ee63318",
   "metadata": {},
   "outputs": [],
   "source": [
    "import numpy as np\n",
    "from celmech.disturbing_function import df_coefficient_Ctilde\n",
    "from celmech.disturbing_function import evaluate_df_coefficient_dict"
   ]
  },
  {
   "cell_type": "code",
   "execution_count": 57,
   "id": "e7a6c992",
   "metadata": {},
   "outputs": [],
   "source": [
    "def Mprime(alpha, m):\n",
    "    m1, m2, m3 = m\n",
    "    m_tot = m1+m2+m3\n",
    "    b1=evaluate_df_coefficient_dict({(0,(1.5, 1,0)):1},alpha)\n",
    "    b2=evaluate_df_coefficient_dict({(0,(1.5, 2,0)):1},alpha)\n",
    "    \n",
    "    R = np.array([[np.sqrt(m1/m_tot), np.sqrt(m2/m_tot), np.sqrt(m3/m_tot)],\n",
    "             [-np.sqrt(m3/(m1+m3)), 0, np.sqrt(m1/(m1+m3))],\n",
    "             [np.sqrt(m1*m2/(m1+m3)/m_tot), -np.sqrt((m1+m3)/m_tot), np.sqrt(m2*m3/(m1+m3)/m_tot)]])\n",
    "    M = np.array([[b1*(m2+m3), -b2*np.sqrt(m1*m2), -b2*np.sqrt(m1*m3)],\n",
    "             [-b2*np.sqrt(m1*m2), b1*(m1+m3), -b2*np.sqrt(m2*m3)],\n",
    "             [-b2*np.sqrt(m1*m3), -b2*np.sqrt(m2*m3), b1*(m1+m2)]])*(-alpha)*2*np.pi/4\n",
    "    \n",
    "    print(f\"eccentricity matrix =\")\n",
    "    print(M)\n",
    "    \n",
    "    return np.matmul(np.matmul(R, M), np.transpose(R))"
   ]
  },
  {
   "cell_type": "code",
   "execution_count": 59,
   "id": "37b6bddd",
   "metadata": {},
   "outputs": [
    {
     "name": "stdout",
     "output_type": "stream",
     "text": [
      "eccentricity matrix =\n",
      "[[-0.00797948  0.00398898  0.00398898]\n",
      " [ 0.00398898 -0.00797948  0.00398898]\n",
      " [ 0.00398898  0.00398898 -0.00797948]]\n"
     ]
    },
    {
     "data": {
      "text/plain": [
       "array([[-1.51638763e-06,  2.59456378e-19, -2.04298800e-19],\n",
       "       [ 2.39414733e-19, -1.19684664e-02, -1.35330262e-19],\n",
       "       [-2.45023798e-19,  1.00366551e-19, -1.19684664e-02]])"
      ]
     },
     "execution_count": 59,
     "metadata": {},
     "output_type": "execute_result"
    }
   ],
   "source": [
    "Mprime(0.995, (1e-7, 1e-7, 1e-7))"
   ]
  },
  {
   "cell_type": "code",
   "execution_count": 60,
   "id": "35299908",
   "metadata": {},
   "outputs": [],
   "source": [
    "# Two-body case\n",
    "\n",
    "def test(alpha, mass):\n",
    "    m1, m2 = mass\n",
    "    b1=evaluate_df_coefficient_dict({(0,(1.5, 1,0)):1},alpha)\n",
    "    b2=evaluate_df_coefficient_dict({(0,(1.5, 2,0)):1},alpha)\n",
    "    M = np.array([[alpha**(1/2)*b1*m2, -alpha**(3/4)*b2*np.sqrt(m1*m2)],\n",
    "                 [-alpha**(3/4)*b2*np.sqrt(m1*m2), alpha*b1*m1]])*(2*np.pi)/4\n",
    "    print(M)"
   ]
  },
  {
   "cell_type": "code",
   "execution_count": 61,
   "id": "bc000e42",
   "metadata": {},
   "outputs": [
    {
     "name": "stdout",
     "output_type": "stream",
     "text": [
      "[[ 3.99975345 -3.99398521]\n",
      " [-3.99398521  3.98974153]]\n"
     ]
    }
   ],
   "source": [
    "test(0.995, (1e-4, 1e-4))"
   ]
  },
  {
   "cell_type": "code",
   "execution_count": null,
   "id": "dcf3edf3",
   "metadata": {},
   "outputs": [],
   "source": []
  }
 ],
 "metadata": {
  "kernelspec": {
   "display_name": "Python 3 (ipykernel)",
   "language": "python",
   "name": "python3"
  },
  "language_info": {
   "codemirror_mode": {
    "name": "ipython",
    "version": 3
   },
   "file_extension": ".py",
   "mimetype": "text/x-python",
   "name": "python",
   "nbconvert_exporter": "python",
   "pygments_lexer": "ipython3",
   "version": "3.10.9"
  }
 },
 "nbformat": 4,
 "nbformat_minor": 5
}
