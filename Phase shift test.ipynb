{
 "cells": [
  {
   "cell_type": "code",
   "execution_count": null,
   "id": "0a375c76",
   "metadata": {},
   "outputs": [],
   "source": [
    "import numpy as np\n",
    "import rebound\n",
    "from scipy.integrate import odeint\n",
    "import matplotlib.pyplot as plt\n",
    "from celmech.disturbing_function import df_coefficient_Ctilde\n",
    "from celmech.disturbing_function import evaluate_df_coefficient_dict"
   ]
  },
  {
   "cell_type": "code",
   "execution_count": null,
   "id": "ba9c7c1c",
   "metadata": {},
   "outputs": [],
   "source": [
    "def wrapRad(theta, k):\n",
    "    return (theta + k*np.pi) % (2*k*np.pi) - k*np.pi"
   ]
  },
  {
   "cell_type": "markdown",
   "id": "b72d7355",
   "metadata": {},
   "source": [
    "$$ param: \\qquad\n",
    "r = \\frac{j_2}{j_1},\\qquad\n",
    "\\epsilon_1 = \\mu_1 |C_1| e^{k_1},\\qquad\n",
    "\\epsilon_2 = \\mu_2 |C_2| e^{k_2}, \\qquad\n",
    "\\nu = \\frac{1}{\\sqrt{3}}\\frac{n_{r2}-n_{r1}}{n_{r1}} = \\frac{1}{\\sqrt{3}}\\left(\\frac{j_1(j_2+k_2)}{j_2(j_1-k_1)}\\frac{n_2}{n_1}-1\\right)$$"
   ]
  },
  {
   "cell_type": "code",
   "execution_count": null,
   "id": "44449a0a",
   "metadata": {},
   "outputs": [],
   "source": [
    "def param2OE(param, userDefined):\n",
    "    r, nu, epsilon1, epsilon2 = param\n",
    "    ecc, P1, j1, k1, k2 = userDefined\n",
    "    \n",
    "    j2 = r*j1\n",
    "    \n",
    "    #calculate C1 and C2\n",
    "    coeff1 = (j1,-(j1-k1),0,-k1,0,0)\n",
    "    C1 = df_coefficient_Ctilde(*coeff1,*(0,0,0,0))\n",
    "    alpha1 = ((j1-k1)/j1)**(2/3)\n",
    "    Cval1 = evaluate_df_coefficient_dict(C1,alpha1)\n",
    "\n",
    "    coeff2 = (j2+k2,-j2,-k2,0,0,0)\n",
    "    C2 = df_coefficient_Ctilde(*coeff2,*(0,0,0,0))\n",
    "    alpha2 = (j2/(j2+k2))**(2/3)\n",
    "    Cval2 = evaluate_df_coefficient_dict(C2,alpha2)\n",
    "\n",
    "    # get mu1 and mu2\n",
    "    mu1 = epsilon1 / (abs(Cval1) * ecc**k1)\n",
    "    mu2 = epsilon2 / (abs(Cval2) * ecc**k2)\n",
    "    \n",
    "    # get P2\n",
    "    P2 = P1 * j1*(j2+k2) / (j2*(j1-k1)*(np.sqrt(3)*nu + 1))\n",
    "    print(Cval1, Cval2)\n",
    "\n",
    "    return mu1, mu2, P1, P2"
   ]
  },
  {
   "cell_type": "markdown",
   "id": "bc4d8d3c",
   "metadata": {},
   "source": [
    "$$ ICs: \\qquad\n",
    "\\phi = j_1(\\lambda-n_{r1}t),\\qquad \n",
    "p = -\\sqrt{3}\\left[\\left(\\frac{n_{r1}}{2\\pi/P_0}\\right)^{1/3}-1\\right]$$"
   ]
  },
  {
   "cell_type": "code",
   "execution_count": null,
   "id": "ecced792",
   "metadata": {},
   "outputs": [],
   "source": [
    "def param2OE_IC(j1, k1, P1, IC):\n",
    "    n_r1 = (j1-k1)*2*np.pi / (j1*P1)\n",
    "    return [[phi_0/j1 ,(1-p_0/np.sqrt(3))**3 * (2*np.pi/n_r1)] for phi_0, p_0 in IC]\n",
    "\n",
    "def OE2param_IC(j1, k1, P1, IC):\n",
    "    n_r1 = (j1-k1)*2*np.pi / (j1*P1)\n",
    "    return [[j1*lambda_0, -np.sqrt(3) * ((n_r1 / (2*np.pi/P_0))**(1/3) - 1)] for lambda_0, P_0 in IC]"
   ]
  },
  {
   "cell_type": "code",
   "execution_count": null,
   "id": "0c88230c",
   "metadata": {},
   "outputs": [],
   "source": [
    "# ecc, P1, j1, k1, j2, k2 = 0.05, 1, 5, 2, 2, 1\n",
    "# r, epsilon1, epsilon2 = j2/j1, 9.5e-7, 3.3e-6\n",
    "# nu = 10*np.sqrt(epsilon1)\n",
    "\n",
    "s = 1/4000\n",
    "nu = 0.0015\n",
    "ecc, P1, j1, k1, k2 = 0.05, 1, 5, 1, 1\n",
    "r, epsilon1, epsilon2 = 1, s**2, 0.4*s**2\n",
    "j2 = r*j1\n",
    "mu1, mu2, P1, P2 = param2OE((r, nu, epsilon1, epsilon2), (ecc, P1, j1, k1, k2))"
   ]
  },
  {
   "cell_type": "code",
   "execution_count": null,
   "id": "3f8d0c55",
   "metadata": {},
   "outputs": [],
   "source": [
    "# set lambda_0 and P_0\n",
    "ic_param = [[0,x] for x in np.linspace(-nu, 1.5*nu, 20)]\n",
    "ic_OE = param2OE_IC(j1, k1, P1, ic_param)"
   ]
  },
  {
   "cell_type": "code",
   "execution_count": null,
   "id": "c5cd3897",
   "metadata": {},
   "outputs": [],
   "source": [
    "span=1"
   ]
  },
  {
   "cell_type": "code",
   "execution_count": null,
   "id": "ec7dc81f",
   "metadata": {
    "scrolled": false
   },
   "outputs": [],
   "source": [
    "# Plot surface of section by rebound and by Hamiltonian\n",
    "\n",
    "#---------------------------------REBOUND-------------------------------------\n",
    "n_r1 = (j1-k1) * 2*np.pi / (j1*P1)\n",
    "n_r2 = (j2+k2) * 2*np.pi / (j2*P2)\n",
    "omega1, omega2, omega0 = 0, 0, 0\n",
    "    \n",
    "for lambda_0, P_0 in ic_OE:\n",
    "    # start simulation\n",
    "    sim = rebound.Simulation()\n",
    "    sim.units = ('yr', 'AU', 'Msun')\n",
    "\n",
    "    # add star, planet 1, planet 2\n",
    "    sim.add(m=1.)\n",
    "    sim.add(m=mu1, P=P1, omega=omega1, l=np.pi/(j1-k1))\n",
    "    sim.add(m=mu2, P=P2, omega=omega2, l=0)\n",
    "    ps = sim.particles\n",
    "    ps[1].r = ps[1].a*(ps[1].m/3/ps[0].m)**(1/3)\n",
    "    ps[2].r = ps[2].a*(ps[2].m/3/ps[0].m)**(1/3)\n",
    "    \n",
    "    # add test particle\n",
    "    sim.add(P=P_0, l=lambda_0, e=ecc, omega=omega0)\n",
    "    sim.move_to_com()\n",
    "    sim.integrator = \"whfast\"\n",
    "    sim.dt = sim.particles[1].P/20\n",
    "    sim.collision = \"direct\"\n",
    "    \n",
    "    # track how system develops in time\n",
    "    num = 201\n",
    "    time = np.linspace(0,num-1,num)* 2*np.pi/(r*nu) / (n_r1*j1*np.sqrt(3))  # Note: t is the unscaled time\n",
    "\n",
    "    phi, p = np.zeros(num), np.zeros(num)\n",
    "    for i,t in enumerate(time):\n",
    "        try:\n",
    "            sim.integrate(t)\n",
    "        except rebound.Collision:\n",
    "            print('Collision')\n",
    "        info = sim.particles[3].calculate_orbit(primary=sim.particles[0])\n",
    "        \n",
    "        phi[i] = wrapRad(j1*(info.l - n_r1*t) - info.omega, span)\n",
    "        p[i] = -np.sqrt(3)*((n_r1 / info.n)**(1/3) - 1)\n",
    "    plt.scatter(phi,p,[1],color='black')\n",
    "plt.show()\n",
    "\n"
   ]
  },
  {
   "cell_type": "code",
   "execution_count": null,
   "id": "0af53c73",
   "metadata": {},
   "outputs": [],
   "source": [
    "def hamilton(y, t, epsilon1, epsilon2, r, nu):\n",
    "    phi, p = y\n",
    "    dydt = [p, -epsilon1*np.sin(phi) - r*epsilon2*np.sin(r*(phi-nu*t))]\n",
    "    return dydt"
   ]
  },
  {
   "cell_type": "code",
   "execution_count": null,
   "id": "205bd5bb",
   "metadata": {},
   "outputs": [],
   "source": [
    "t = np.linspace(0,num-1,num)*2*np.pi/(r*nu)  # Note: t is the rescaled time\n",
    "for y0 in ic_param:\n",
    "    sol = odeint(hamilton, y0, t, args=(epsilon1,epsilon2,r,nu))\n",
    "    phi = (sol[:,0] + span*np.pi*np.ones(num)) % (2*span*np.pi) - span*np.pi*np.ones(num)  # wrap into [-pi,pi]\n",
    "    plt.scatter(phi, sol[:,1], [1], color='black')\n",
    "plt.show()"
   ]
  },
  {
   "cell_type": "code",
   "execution_count": null,
   "id": "847e8b37",
   "metadata": {},
   "outputs": [],
   "source": []
  }
 ],
 "metadata": {
  "kernelspec": {
   "display_name": "Python 3 (ipykernel)",
   "language": "python",
   "name": "python3"
  },
  "language_info": {
   "codemirror_mode": {
    "name": "ipython",
    "version": 3
   },
   "file_extension": ".py",
   "mimetype": "text/x-python",
   "name": "python",
   "nbconvert_exporter": "python",
   "pygments_lexer": "ipython3",
   "version": "3.10.9"
  }
 },
 "nbformat": 4,
 "nbformat_minor": 5
}
