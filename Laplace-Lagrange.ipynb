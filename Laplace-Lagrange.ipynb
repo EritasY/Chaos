{
 "cells": [
  {
   "cell_type": "code",
   "execution_count": 66,
   "id": "2cd5b138",
   "metadata": {},
   "outputs": [],
   "source": [
    "import numpy as np\n",
    "from sympy import *\n",
    "import matplotlib.pyplot as plt\n",
    "%matplotlib inline\n",
    "from celmech.nbody_simulation_utilities import set_time_step,align_simulation\n",
    "from celmech.nbody_simulation_utilities import get_simarchive_integration_results\n",
    "import rebound as rb\n",
    "from os.path import isfile\n",
    "from sympy import init_printing\n",
    "init_printing()"
   ]
  },
  {
   "cell_type": "code",
   "execution_count": 67,
   "id": "537a955b",
   "metadata": {},
   "outputs": [],
   "source": [
    "from celmech.secular import LaplaceLagrangeSystem\n",
    "from celmech.poincare import Poincare"
   ]
  },
  {
   "cell_type": "code",
   "execution_count": 68,
   "id": "e75c3995",
   "metadata": {},
   "outputs": [],
   "source": [
    "def eccMatrix(alpha, mass):\n",
    "    mu1, mu2, mu3 = mass\n",
    "    alpha12, alpha23 = alpha\n",
    "    P1, P2, P3 = alpha12**(3/2), 1, 1/alpha23**(3/2)\n",
    "\n",
    "    sim = rb.Simulation()\n",
    "    sim.add(m=1.)\n",
    "    sim.add(m=mu1, P=P1)\n",
    "    sim.add(m=mu2, P=P2)\n",
    "    sim.add(m=mu3, P=P3)\n",
    "    ps = sim.particles\n",
    "    ps[1].r = ps[1].a*(ps[1].m/3/ps[0].m)**(1/3)\n",
    "    ps[2].r = ps[2].a*(ps[2].m/3/ps[0].m)**(1/3)\n",
    "\n",
    "    sim.move_to_com()\n",
    "    sim.integrator = \"whfast\"\n",
    "    sim.dt = sim.particles[1].P/20\n",
    "    sim.collision = \"direct\"\n",
    "    align_simulation(sim)\n",
    "    \n",
    "    pvars = Poincare.from_Simulation(sim)\n",
    "    alpha12 = pvars.particles[1].a/pvars.particles[2].a\n",
    "    alpha23 = pvars.particles[2].a/pvars.particles[3].a\n",
    "    alpha13 = pvars.particles[1].a/pvars.particles[3].a\n",
    "#     print(f\"alpha = {alpha12, alpha23, alpha13}\")\n",
    "\n",
    "    lsys = LaplaceLagrangeSystem.from_Simulation(sim)  \n",
    "    M = lsys.Neccentricity_matrix\n",
    "#     print(f\"eccentricity matrix =\")\n",
    "#     print(M)\n",
    "    \n",
    "    return M"
   ]
  },
  {
   "cell_type": "code",
   "execution_count": 113,
   "id": "1dbccd23",
   "metadata": {},
   "outputs": [],
   "source": [
    "def eccMatrix_diag(alpha, mass):\n",
    "    m1, m2, m3 = mass\n",
    "    m_tot = m1+m2+m3\n",
    "    alpha12, alpha23 = alpha\n",
    "    alpha13 = alpha12*alpha23\n",
    "    \n",
    "    R2 = np.array([[np.sqrt(m1/m_tot), np.sqrt(m2/m_tot), np.sqrt(m3/m_tot)],\n",
    "             [-np.sqrt(m3/(m1+m3)), 0, np.sqrt(m1/(m1+m3))],\n",
    "             [np.sqrt(m1*m2/(m1+m3)/m_tot), -np.sqrt((m1+m3)/m_tot), np.sqrt(m2*m3/(m1+m3)/m_tot)]])\n",
    "    M = eccMatrix(alpha, mass)\n",
    "    \n",
    "    w2 = 2*m2/(m1+m3) * (m1/(np.pi*(1-alpha23)**2) + m3/(np.pi*(1-alpha12)**2)) + 2*(m1+m3)/(np.pi*(1-alpha13)**2)\n",
    "    w3 = 2*m_tot/(m1+m3) * (m1/(np.pi*(1-alpha12)**2) + m3/(np.pi*(1-alpha23)**2))\n",
    "    k = np.sqrt(m1*m2*m3*m_tot)/(m1+m3) * (2/(np.pi*(1-alpha23)**2) - 2/(np.pi*(1-alpha12)**2))\n",
    "    phi = 1/2*np.arctan2(2*k, w2-w3) - np.pi/2\n",
    "    R1 = np.array([[1, 0, 0],\n",
    "                [0, np.cos(phi), np.sin(phi)],\n",
    "                [0, -np.sin(phi), np.cos(phi)]])\n",
    "    R = np.matmul(R1, R2)\n",
    "    print(np.matmul(np.matmul(R2, M), np.transpose(R2)))\n",
    "    print(f'phi={phi}')\n",
    "    \n",
    "#     vals, k = np.linalg.eigh(M)\n",
    "    \n",
    "    return np.matmul(np.matmul(R, M), np.transpose(R))"
   ]
  },
  {
   "cell_type": "code",
   "execution_count": 117,
   "id": "6a8fa368",
   "metadata": {},
   "outputs": [
    {
     "name": "stdout",
     "output_type": "stream",
     "text": [
      "[[-7.90497353e-08  6.66435985e-08  1.10587531e-08]\n",
      " [ 6.66435985e-08 -7.17814235e-06 -1.57219897e-06]\n",
      " [ 1.10587531e-08 -1.57219897e-06 -1.45622280e-05]]\n",
      "phi=-0.2351222803666817\n",
      "[[-7.90497353e-08  6.22336892e-08  2.62799006e-08]\n",
      " [ 6.22336892e-08 -6.86651576e-06  2.71331965e-07]\n",
      " [ 2.62799006e-08  2.71331965e-07 -1.48738546e-05]]\n"
     ]
    }
   ],
   "source": [
    "x = eccMatrix_diag((0.95,0.96), (1e-8, 1e-8, 1e-8))\n",
    "print(x)\n",
    "# print(f\"sine = {np.sin(psi)}, cosine = {np.cos(psi)}\")\n",
    "# print(f\"sine = {k/delta}, cosine = {np.sqrt(1-(k/delta)**2)}\")"
   ]
  },
  {
   "cell_type": "code",
   "execution_count": 77,
   "id": "f334dc11",
   "metadata": {},
   "outputs": [
    {
     "data": {
      "image/png": "[encoded data removed]",
      "text/latex": [
       "$\\displaystyle \\left( -2.18086887923795 \\cdot 10^{-6}, \\  -1.87210728587862 \\cdot 10^{-5}\\right)$"
      ],
      "text/plain": [
       "(-2.180868879237953e-06, -1.8721072858786223e-05)"
      ]
     },
     "execution_count": 77,
     "metadata": {},
     "output_type": "execute_result"
    }
   ],
   "source": [
    "k, delta"
   ]
  },
  {
   "cell_type": "code",
   "execution_count": 74,
   "id": "f52e589f",
   "metadata": {},
   "outputs": [
    {
     "data": {
      "image/png": "[encoded data removed]",
      "text/latex": [
       "$\\displaystyle 0.226068387993884$"
      ],
      "text/plain": [
       "0.22606838799388393"
      ]
     },
     "execution_count": 74,
     "metadata": {},
     "output_type": "execute_result"
    }
   ],
   "source": [
    "np.arctan(0.23)"
   ]
  },
  {
   "cell_type": "code",
   "execution_count": 75,
   "id": "934d445c",
   "metadata": {},
   "outputs": [
    {
     "data": {
      "image/png": "[encoded data removed]",
      "text/latex": [
       "$\\displaystyle 0.226068387993884$"
      ],
      "text/plain": [
       "0.2260683879938839"
      ]
     },
     "execution_count": 75,
     "metadata": {},
     "output_type": "execute_result"
    }
   ],
   "source": [
    "np.arctan2(0.23, 1)"
   ]
  },
  {
   "cell_type": "code",
   "execution_count": null,
   "id": "a39f2d16",
   "metadata": {},
   "outputs": [],
   "source": []
  }
 ],
 "metadata": {
  "kernelspec": {
   "display_name": "Python 3 (ipykernel)",
   "language": "python",
   "name": "python3"
  },
  "language_info": {
   "codemirror_mode": {
    "name": "ipython",
    "version": 3
   },
   "file_extension": ".py",
   "mimetype": "text/x-python",
   "name": "python",
   "nbconvert_exporter": "python",
   "pygments_lexer": "ipython3",
   "version": "3.10.9"
  }
 },
 "nbformat": 4,
 "nbformat_minor": 5
}
