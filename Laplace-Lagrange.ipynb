{
 "cells": [
  {
   "cell_type": "code",
   "execution_count": 13,
   "id": "2cd5b138",
   "metadata": {},
   "outputs": [],
   "source": [
    "import numpy as np\n",
    "from sympy import *\n",
    "import matplotlib.pyplot as plt\n",
    "%matplotlib inline\n",
    "from celmech.nbody_simulation_utilities import set_time_step,align_simulation\n",
    "from celmech.nbody_simulation_utilities import get_simarchive_integration_results\n",
    "import rebound as rb\n",
    "from os.path import isfile\n",
    "from sympy import init_printing\n",
    "init_printing()"
   ]
  },
  {
   "cell_type": "code",
   "execution_count": 2,
   "id": "537a955b",
   "metadata": {},
   "outputs": [],
   "source": [
    "from celmech.secular import LaplaceLagrangeSystem\n",
    "from celmech.poincare import Poincare"
   ]
  },
  {
   "cell_type": "code",
   "execution_count": 3,
   "id": "e75c3995",
   "metadata": {},
   "outputs": [],
   "source": [
    "def eccMatrix(alpha, mass):\n",
    "    mu1, mu2, mu3 = mass\n",
    "    P1, P2, P3 = alpha**(3/2), 1, 1/alpha**(3/2)\n",
    "\n",
    "    sim = rb.Simulation()\n",
    "    sim.add(m=1.)\n",
    "    sim.add(m=mu1, P=P1)\n",
    "    sim.add(m=mu2, P=P2)\n",
    "    sim.add(m=mu3, P=P3)\n",
    "    ps = sim.particles\n",
    "    ps[1].r = ps[1].a*(ps[1].m/3/ps[0].m)**(1/3)\n",
    "    ps[2].r = ps[2].a*(ps[2].m/3/ps[0].m)**(1/3)\n",
    "\n",
    "    sim.move_to_com()\n",
    "    sim.integrator = \"whfast\"\n",
    "    sim.dt = sim.particles[1].P/20\n",
    "    sim.collision = \"direct\"\n",
    "    align_simulation(sim)\n",
    "    \n",
    "    pvars = Poincare.from_Simulation(sim)\n",
    "    alpha12 = pvars.particles[1].a/pvars.particles[2].a\n",
    "    alpha23 = pvars.particles[2].a/pvars.particles[3].a\n",
    "    alpha13 = pvars.particles[1].a/pvars.particles[3].a\n",
    "    print(f\"alpha = {alpha12, alpha23, alpha13}\")\n",
    "\n",
    "    lsys = LaplaceLagrangeSystem.from_Simulation(sim)  \n",
    "    M = lsys.Neccentricity_matrix\n",
    "    print(f\"eccentricity matrix =\")\n",
    "    print(M)\n",
    "    \n",
    "    return M"
   ]
  },
  {
   "cell_type": "code",
   "execution_count": 17,
   "id": "1dbccd23",
   "metadata": {},
   "outputs": [],
   "source": [
    "def eccMatrix_rotated(alpha, mass):\n",
    "    m1, m2, m3 = mass\n",
    "    m_tot = m1+m2+m3\n",
    "    \n",
    "    R = np.array([[np.sqrt(m1/m_tot), np.sqrt(m2/m_tot), np.sqrt(m3/m_tot)],\n",
    "             [-np.sqrt(m3/(m1+m3)), 0, np.sqrt(m1/(m1+m3))],\n",
    "             [np.sqrt(m1*m2/(m1+m3)/m_tot), -np.sqrt((m1+m3)/m_tot), np.sqrt(m2*m3/(m1+m3)/m_tot)]])\n",
    "    M = eccMatrix(alpha, mass)\n",
    "    \n",
    "    vals, k = np.linalg.eigh(M)\n",
    "    print(\"diagonalized\")\n",
    "    print(vals)\n",
    "    \n",
    "    return np.matmul(np.matmul(R, M), np.transpose(R))"
   ]
  },
  {
   "cell_type": "code",
   "execution_count": 19,
   "id": "6a8fa368",
   "metadata": {},
   "outputs": [
    {
     "name": "stdout",
     "output_type": "stream",
     "text": [
      "alpha = (0.8999999754755369, 0.899999981291701, 0.8099999610905145)\n",
      "eccentricity matrix =\n",
      "[[-2.35358584e-07  9.27220801e-08  1.93764278e-07]\n",
      " [ 9.27220801e-08 -1.77628054e-06  7.91675071e-08]\n",
      " [ 1.93764278e-07  7.91675071e-08 -2.10935812e-07]]\n",
      "diagonalized\n",
      "[-1.78477587e-06 -4.17167272e-07 -2.06318020e-08]\n"
     ]
    },
    {
     "data": {
      "text/plain": [
       "array([[-2.09705115e-08,  1.15049309e-08,  2.57486995e-09],\n",
       "       [ 1.15049309e-08, -4.16911477e-07,  1.04219834e-08],\n",
       "       [ 2.57486995e-09,  1.04219834e-08, -1.78469295e-06]])"
      ]
     },
     "execution_count": 19,
     "metadata": {},
     "output_type": "execute_result"
    }
   ],
   "source": [
    "eccMatrix_rotated(0.9, (1e-8, 1e-10, 1e-8))"
   ]
  },
  {
   "cell_type": "code",
   "execution_count": null,
   "id": "6bd3ab18",
   "metadata": {},
   "outputs": [],
   "source": []
  }
 ],
 "metadata": {
  "kernelspec": {
   "display_name": "Python 3 (ipykernel)",
   "language": "python",
   "name": "python3"
  },
  "language_info": {
   "codemirror_mode": {
    "name": "ipython",
    "version": 3
   },
   "file_extension": ".py",
   "mimetype": "text/x-python",
   "name": "python",
   "nbconvert_exporter": "python",
   "pygments_lexer": "ipython3",
   "version": "3.10.9"
  }
 },
 "nbformat": 4,
 "nbformat_minor": 5
}
