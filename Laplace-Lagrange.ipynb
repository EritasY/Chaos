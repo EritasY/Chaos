{
 "cells": [
  {
   "cell_type": "code",
   "execution_count": 1,
   "id": "2cd5b138",
   "metadata": {},
   "outputs": [],
   "source": [
    "import numpy as np\n",
    "from sympy import *\n",
    "import matplotlib.pyplot as plt\n",
    "%matplotlib inline\n",
    "from celmech.nbody_simulation_utilities import set_time_step,align_simulation\n",
    "from celmech.nbody_simulation_utilities import get_simarchive_integration_results\n",
    "import rebound as rb\n",
    "from os.path import isfile\n",
    "from sympy import init_printing\n",
    "init_printing()"
   ]
  },
  {
   "cell_type": "code",
   "execution_count": 2,
   "id": "537a955b",
   "metadata": {},
   "outputs": [],
   "source": [
    "from celmech.secular import LaplaceLagrangeSystem\n",
    "from celmech.poincare import Poincare"
   ]
  },
  {
   "cell_type": "code",
   "execution_count": 10,
   "id": "e75c3995",
   "metadata": {},
   "outputs": [],
   "source": [
    "def eccMatrix(alpha, mass):\n",
    "    mu1, mu2, mu3 = mass\n",
    "    alpha12, alpha23 = alpha\n",
    "    P1, P2, P3 = alpha12**(3/2), 1, 1/alpha23**(3/2)\n",
    "\n",
    "    sim = rb.Simulation()\n",
    "    sim.add(m=1.)\n",
    "    sim.add(m=mu1, P=P1)\n",
    "    sim.add(m=mu2, P=P2)\n",
    "    sim.add(m=mu3, P=P3)\n",
    "    ps = sim.particles\n",
    "    ps[1].r = ps[1].a*(ps[1].m/3/ps[0].m)**(1/3)\n",
    "    ps[2].r = ps[2].a*(ps[2].m/3/ps[0].m)**(1/3)\n",
    "\n",
    "    sim.move_to_com()\n",
    "    sim.integrator = \"whfast\"\n",
    "    sim.dt = sim.particles[1].P/20\n",
    "    sim.collision = \"direct\"\n",
    "    align_simulation(sim)\n",
    "    \n",
    "    pvars = Poincare.from_Simulation(sim)\n",
    "    alpha12 = pvars.particles[1].a/pvars.particles[2].a\n",
    "    alpha23 = pvars.particles[2].a/pvars.particles[3].a\n",
    "    alpha13 = pvars.particles[1].a/pvars.particles[3].a\n",
    "    print(f\"alpha = {alpha12, alpha23, alpha13}\")\n",
    "\n",
    "    lsys = LaplaceLagrangeSystem.from_Simulation(sim)  \n",
    "    M = lsys.Neccentricity_matrix\n",
    "    print(f\"eccentricity matrix =\")\n",
    "    print(M)\n",
    "    \n",
    "    return M"
   ]
  },
  {
   "cell_type": "code",
   "execution_count": 14,
   "id": "1dbccd23",
   "metadata": {},
   "outputs": [],
   "source": [
    "def eccMatrix_diag(alpha, mass):\n",
    "    m1, m2, m3 = mass\n",
    "    m_tot = m1+m2+m3\n",
    "    \n",
    "    R = np.array([[np.sqrt(m1/m_tot), np.sqrt(m2/m_tot), np.sqrt(m3/m_tot)],\n",
    "             [-np.sqrt(m3/(m1+m3)), 0, np.sqrt(m1/(m1+m3))],\n",
    "             [np.sqrt(m1*m2/(m1+m3)/m_tot), -np.sqrt((m1+m3)/m_tot), np.sqrt(m2*m3/(m1+m3)/m_tot)]])\n",
    "    M = eccMatrix(alpha, mass)\n",
    "    \n",
    "    vals, k = np.linalg.eigh(M)\n",
    "    \n",
    "    return vals"
   ]
  },
  {
   "cell_type": "code",
   "execution_count": 15,
   "id": "6a8fa368",
   "metadata": {},
   "outputs": [
    {
     "name": "stdout",
     "output_type": "stream",
     "text": [
      "alpha = (0.8999999556192644, 0.9399999525825911, 0.8459999156064426)\n",
      "eccentricity matrix =\n",
      "[[-1.35752791e-06  9.27220410e-07  3.32624966e-07]\n",
      " [ 9.27220410e-07 -3.45180680e-06  2.44200545e-06]\n",
      " [ 3.32624966e-07  2.44200545e-06 -2.78247383e-06]]\n"
     ]
    },
    {
     "data": {
      "text/plain": [
       "array([-5.63775391e-06, -1.89193560e-06, -6.21190338e-08])"
      ]
     },
     "execution_count": 15,
     "metadata": {},
     "output_type": "execute_result"
    }
   ],
   "source": [
    "eccMatrix_diag((0.9,0.94), (1e-8, 1e-8, 1e-8))"
   ]
  },
  {
   "cell_type": "code",
   "execution_count": null,
   "id": "6bd3ab18",
   "metadata": {},
   "outputs": [],
   "source": []
  }
 ],
 "metadata": {
  "kernelspec": {
   "display_name": "Python 3 (ipykernel)",
   "language": "python",
   "name": "python3"
  },
  "language_info": {
   "codemirror_mode": {
    "name": "ipython",
    "version": 3
   },
   "file_extension": ".py",
   "mimetype": "text/x-python",
   "name": "python",
   "nbconvert_exporter": "python",
   "pygments_lexer": "ipython3",
   "version": "3.10.9"
  }
 },
 "nbformat": 4,
 "nbformat_minor": 5
}
