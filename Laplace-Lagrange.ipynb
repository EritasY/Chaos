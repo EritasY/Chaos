{
 "cells": [
  {
   "cell_type": "code",
   "execution_count": 1,
   "id": "2cd5b138",
   "metadata": {},
   "outputs": [],
   "source": [
    "import numpy as np\n",
    "import matplotlib.pyplot as plt\n",
    "%matplotlib inline\n",
    "from celmech.nbody_simulation_utilities import set_time_step,align_simulation\n",
    "from celmech.nbody_simulation_utilities import get_simarchive_integration_results\n",
    "import rebound as rb\n",
    "from os.path import isfile\n",
    "from sympy import init_printing\n",
    "init_printing()"
   ]
  },
  {
   "cell_type": "code",
   "execution_count": 2,
   "id": "537a955b",
   "metadata": {},
   "outputs": [],
   "source": [
    "from celmech.secular import LaplaceLagrangeSystem"
   ]
  },
  {
   "cell_type": "code",
   "execution_count": 72,
   "id": "e75c3995",
   "metadata": {},
   "outputs": [],
   "source": [
    "def eccMatrix(alpha, mass):\n",
    "    mu1, mu2, mu3 = mass\n",
    "    P1, P2, P3 = alpha**(3/2), 1, 1/alpha**(3/2)\n",
    "\n",
    "    sim = rb.Simulation()\n",
    "    sim.add(m=1.)\n",
    "    sim.add(m=mu1, P=P1)\n",
    "    sim.add(m=mu2, P=P2)\n",
    "    sim.add(m=mu3, P=P3)\n",
    "    ps = sim.particles\n",
    "    ps[1].r = ps[1].a*(ps[1].m/3/ps[0].m)**(1/3)\n",
    "    ps[2].r = ps[2].a*(ps[2].m/3/ps[0].m)**(1/3)\n",
    "\n",
    "    sim.move_to_com()\n",
    "    sim.integrator = \"whfast\"\n",
    "    sim.dt = sim.particles[1].P/20\n",
    "    sim.collision = \"direct\"\n",
    "    align_simulation(sim)\n",
    "\n",
    "    lsys = LaplaceLagrangeSystem.from_Simulation(sim)\n",
    "#     eigvals = lsys.eccentricity_eigenvalues()\n",
    "#     Tsec = np.max(np.abs(2 * np.pi / eigvals))\n",
    "#     sim.automateSimulationArchive('sa_laplace_lagrange.bin',interval=Tsec/2048,deletefile=True)\n",
    "#     sim.integrate(0.05*3e5)\n",
    "#     sa = rb.SimulationArchive('sa_laplace_lagrange.bin')\n",
    "    \n",
    "#     nb_results = get_simarchive_integration_results(sa)\n",
    "#     sim = sa[0]\n",
    "#     lsys = LaplaceLagrangeSystem.from_Simulation(sim)\n",
    "#     sec_soln = lsys.secular_solution(nb_results['time'])\n",
    "    \n",
    "    M = lsys.Neccentricity_matrix\n",
    "    print(f\"eccentricity matrix =\")\n",
    "    print(M)\n",
    "    \n",
    "    return M"
   ]
  },
  {
   "cell_type": "code",
   "execution_count": 73,
   "id": "1dbccd23",
   "metadata": {},
   "outputs": [],
   "source": [
    "def eccMatrix_rotated(alpha, mass):\n",
    "    m1, m2, m3 = mass\n",
    "    m_tot = m1+m2+m3\n",
    "    \n",
    "    R = np.array([[np.sqrt(m1/m_tot), np.sqrt(m2/m_tot), np.sqrt(m3/m_tot)],\n",
    "             [-np.sqrt(m3/(m1+m3)), 0, np.sqrt(m1/(m1+m3))],\n",
    "             [np.sqrt(m1*m2/(m1+m3)/m_tot), -np.sqrt((m1+m3)/m_tot), np.sqrt(m2*m3/(m1+m3)/m_tot)]])\n",
    "    M = eccMatrix(alpha, mass)\n",
    "    \n",
    "    return np.matmul(np.matmul(R, M), np.transpose(R))"
   ]
  },
  {
   "cell_type": "code",
   "execution_count": 75,
   "id": "6a8fa368",
   "metadata": {},
   "outputs": [
    {
     "name": "stdout",
     "output_type": "stream",
     "text": [
      "eccentricity matrix =\n",
      "[[-0.00499597  0.00399314  0.00099391]\n",
      " [ 0.00399314 -0.00795785  0.00396323]\n",
      " [ 0.00099391  0.00396323 -0.00495109]]\n"
     ]
    },
    {
     "data": {
      "text/plain": [
       "array([[-1.44951531e-06,  6.10939182e-06,  2.24915354e-08],\n",
       "       [ 6.10939182e-06, -5.96743828e-03,  3.02258006e-05],\n",
       "       [ 2.24915354e-08,  3.02258006e-05, -1.19360129e-02]])"
      ]
     },
     "execution_count": 75,
     "metadata": {},
     "output_type": "execute_result"
    }
   ],
   "source": [
    "eccMatrix_rotated(0.995, (1e-7, 1e-7, 1e-7))"
   ]
  },
  {
   "cell_type": "code",
   "execution_count": 76,
   "id": "80303b7f",
   "metadata": {},
   "outputs": [],
   "source": [
    "# Two-body case\n",
    "\n",
    "def test(alpha, mass):\n",
    "    mu1, mu2 = mass\n",
    "    P1, P2 = alpha**(3/2), 1\n",
    "\n",
    "    sim = rb.Simulation()\n",
    "    sim.units = ('yr', 'AU', 'Msun')\n",
    "    sim.add(m=1.)\n",
    "    sim.add(m=mu1, P=P1)\n",
    "    sim.add(m=mu2, P=P2)\n",
    "    ps = sim.particles\n",
    "    ps[1].r = ps[1].a*(ps[1].m/3/ps[0].m)**(1/3)\n",
    "    ps[2].r = ps[2].a*(ps[2].m/3/ps[0].m)**(1/3)\n",
    "\n",
    "    sim.move_to_com()\n",
    "    sim.integrator = \"whfast\"\n",
    "    sim.dt = sim.particles[1].P/20\n",
    "    sim.collision = \"direct\"\n",
    "    align_simulation(sim)\n",
    "    \n",
    "    lsys = LaplaceLagrangeSystem.from_Simulation(sim)\n",
    "    M = lsys.Neccentricity_matrix\n",
    "    print(f\"eccentricity matrix =\")\n",
    "    print(M)"
   ]
  },
  {
   "cell_type": "code",
   "execution_count": 77,
   "id": "b807fd3d",
   "metadata": {},
   "outputs": [
    {
     "name": "stdout",
     "output_type": "stream",
     "text": [
      "eccentricity matrix =\n",
      "[[-3.26933276  3.26406044]\n",
      " [ 3.26406044 -3.26028217]]\n"
     ]
    }
   ],
   "source": [
    "test(0.995, (1e-4, 1e-4))"
   ]
  },
  {
   "cell_type": "code",
   "execution_count": null,
   "id": "af8ff5cf",
   "metadata": {},
   "outputs": [],
   "source": []
  }
 ],
 "metadata": {
  "kernelspec": {
   "display_name": "Python 3 (ipykernel)",
   "language": "python",
   "name": "python3"
  },
  "language_info": {
   "codemirror_mode": {
    "name": "ipython",
    "version": 3
   },
   "file_extension": ".py",
   "mimetype": "text/x-python",
   "name": "python",
   "nbconvert_exporter": "python",
   "pygments_lexer": "ipython3",
   "version": "3.10.9"
  }
 },
 "nbformat": 4,
 "nbformat_minor": 5
}
