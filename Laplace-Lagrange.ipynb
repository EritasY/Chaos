{
 "cells": [
  {
   "cell_type": "code",
   "execution_count": 22,
   "id": "2cd5b138",
   "metadata": {},
   "outputs": [],
   "source": [
    "import numpy as np\n",
    "import matplotlib.pyplot as plt\n",
    "%matplotlib inline\n",
    "from celmech.nbody_simulation_utilities import set_time_step,align_simulation\n",
    "from celmech.nbody_simulation_utilities import get_simarchive_integration_results\n",
    "import rebound\n",
    "from celmech.disturbing_function import laplace_b"
   ]
  },
  {
   "cell_type": "code",
   "execution_count": 23,
   "id": "537a955b",
   "metadata": {},
   "outputs": [],
   "source": [
    "from celmech.secular import LaplaceLagrangeSystem\n",
    "from celmech.poincare import Poincare"
   ]
  },
  {
   "cell_type": "code",
<<<<<<< HEAD
   "execution_count": 67,
=======
   "execution_count": 46,
>>>>>>> 91ab56357258b1501ee4509d2984914c26ff595e
   "id": "e75c3995",
   "metadata": {},
   "outputs": [],
   "source": [
    "def make_sim(alpha, mass, ecc, pom):\n",
    "    alpha12, alpha23 = alpha\n",
    "    P1, P2, P3 = alpha12**(3/2), 1, 1/alpha23**(3/2)\n",
    "    mu1, mu2, mu3 = mass\n",
    "    ecc1, ecc2, ecc3 = ecc\n",
    "    pomega1, pomega2, pomega3 = pom\n",
    "    \n",
    "    # start simulation\n",
    "    sim = rebound.Simulation()\n",
    "    sim.units = ('yr', 'AU', 'Msun')\n",
    "\n",
    "    # add star, planet 1, planet 2\n",
    "    sim.add(m=1.)\n",
    "    sim.add(m=mu1, P=P1, e=ecc1, pomega=pomega1)\n",
    "    sim.add(m=mu2, P=P2, e=ecc2, pomega=pomega2)\n",
    "    sim.add(m=mu3, P=P3, e=ecc3, pomega=pomega3)\n",
    "    ps = sim.particles\n",
    "    ps[1].r = ps[1].a*(ps[1].m/3/ps[0].m)**(1/3)\n",
    "    ps[2].r = ps[2].a*(ps[2].m/3/ps[0].m)**(1/3)\n",
    "\n",
    "    sim.move_to_com()\n",
    "    sim.integrator = \"whfast\"\n",
    "    sim.ri_whfast.safe_mode = 0\n",
    "    sim.dt = sim.particles[1].P/12\n",
    "    sim.collision = \"direct\"\n",
    "    \n",
<<<<<<< HEAD
    "    \n",
    "#     pvars = Poincare.from_Simulation(sim)\n",
    "#     print((pvars.particles[1].a+pvars.particles[2].a+pvars.particles[3].a)/3)\n",
    "#     alpha12 = pvars.particles[1].a/pvars.particles[2].a\n",
    "#     alpha23 = pvars.particles[2].a/pvars.particles[3].a\n",
    "#     alpha13 = pvars.particles[1].a/pvars.particles[3].a\n",
    "#     print(f\"alpha = {alpha12, alpha23, alpha13}\")\n",
    "\n",
    "    lsys = LaplaceLagrangeSystem.from_Simulation(sim)  \n",
    "    M = lsys.Neccentricity_matrix\n",
    "#     print(f\"eccentricity matrix =\")\n",
    "#     print(M)\n",
=======
    "    print(ps[1].a/ps[2].a, ps[2].a/ps[3].a)\n",
>>>>>>> 91ab56357258b1501ee4509d2984914c26ff595e
    "    \n",
    "    return sim"
   ]
  },
  {
   "cell_type": "code",
<<<<<<< HEAD
   "execution_count": 79,
=======
   "execution_count": 70,
>>>>>>> 91ab56357258b1501ee4509d2984914c26ff595e
   "id": "1dbccd23",
   "metadata": {},
   "outputs": [],
   "source": [
    "def run(sim):\n",
    "    ps = sim.particles\n",
    "    lsys = LaplaceLagrangeSystem.from_Simulation(sim)  \n",
    "    M = lsys.Neccentricity_matrix\n",
    "    vals,T = np.linalg.eigh(M) # T returned by eigh is R^T in paper. Could define R = T.T\n",
    "    Mdiag = T.T @ lsys.Neccentricity_matrix @ T\n",
    "    print(M)\n",
    "    \n",
<<<<<<< HEAD
    "    R2 = np.array([[np.sqrt(m1/m_tot), np.sqrt(m2/m_tot), np.sqrt(m3/m_tot)],\n",
    "             [-np.sqrt(m3/(m1+m3)), 0, np.sqrt(m1/(m1+m3))],\n",
    "             [np.sqrt(m1*m2/(m1+m3)/m_tot), -np.sqrt((m1+m3)/m_tot), np.sqrt(m2*m3/(m1+m3)/m_tot)]])\n",
    "    M = eccMatrix(alpha, mass)\n",
    "    \n",
    "    vals,T = np.linalg.eigh(M) # T returned by eigh is R^T in paper. Could define R = T.T\n",
    "    print(T.T)\n",
    "    \n",
    "#     print(np.matmul(np.matmul(R2, M), np.transpose(R2)))\n",
    "    \n",
    "# #     R1 = np.array([[1, 0, 0],\n",
    "# #                 [0, np.cos(phi), np.sin(phi)],\n",
    "# #                 [0, -np.sin(phi), np.cos(phi)]])\n",
    "# #     R = np.matmul(R1, R2)\n",
    "    \n",
    "    vals, k = np.linalg.eigh(M)\n",
    "    \n",
    "#     return np.matmul(np.matmul(R, M), np.transpose(R))"
=======
    "    return Mdiag"
>>>>>>> 91ab56357258b1501ee4509d2984914c26ff595e
   ]
  },
  {
   "cell_type": "code",
<<<<<<< HEAD
   "execution_count": 80,
=======
   "execution_count": 73,
>>>>>>> 91ab56357258b1501ee4509d2984914c26ff595e
   "id": "6a8fa368",
   "metadata": {},
   "outputs": [
    {
     "name": "stdout",
     "output_type": "stream",
     "text": [
<<<<<<< HEAD
      "[[ 0.00000000e+00 -1.00000000e+00  0.00000000e+00]\n",
      " [-7.40719746e-01  0.00000000e+00  6.71814154e-01]\n",
      " [ 6.71814154e-01 -1.11022302e-16  7.40719746e-01]]\n"
     ]
    }
   ],
   "source": [
    "x = eccMatrix_diag((0.85,0.85), (3e-6,1e-100,3e-6))\n",
    "# print(x)\n",
    "# print(f\"sine = {np.sin(psi)}, cosine = {np.cos(psi)}\")\n",
    "# print(f\"sine = {k/delta}, cosine = {np.sqrt(1-(k/delta)**2)}\")"
=======
      "0.7999999733333379 0.7499999750000065\n",
      "[[-2.70306585e-06  2.01449690e-06  2.07274774e-07]\n",
      " [ 2.01449690e-06 -3.08101809e-06  7.64469447e-07]\n",
      " [ 2.07274774e-07  7.64469447e-07 -1.08703627e-06]]\n"
     ]
    },
    {
     "data": {
      "text/plain": [
       "array([[-4.96348180e-06, -2.64697796e-22,  0.00000000e+00],\n",
       "       [-7.41153829e-22, -1.62327414e-06,  0.00000000e+00],\n",
       "       [ 1.38966343e-22,  7.94093388e-23, -2.84364260e-07]])"
      ]
     },
     "execution_count": 73,
     "metadata": {},
     "output_type": "execute_result"
    }
   ],
   "source": [
    "alpha = 0.8, 0.75 #0.735, 0.735\n",
    "mass = 1e-7,1e-7,1e-7\n",
    "ecc = 0.005, 0.005, 0.005\n",
    "pomega = 0, 0, np.pi\n",
    "sim = make_sim(alpha, mass, ecc, pomega)\n",
    "run(sim)"
>>>>>>> 91ab56357258b1501ee4509d2984914c26ff595e
   ]
  },
  {
   "cell_type": "code",
   "execution_count": null,
   "id": "9c83cae3",
   "metadata": {},
   "outputs": [],
   "source": []
  }
 ],
 "metadata": {
  "kernelspec": {
   "display_name": "Python 3 (ipykernel)",
   "language": "python",
   "name": "python3"
  },
  "language_info": {
   "codemirror_mode": {
    "name": "ipython",
    "version": 3
   },
   "file_extension": ".py",
   "mimetype": "text/x-python",
   "name": "python",
   "nbconvert_exporter": "python",
   "pygments_lexer": "ipython3",
   "version": "3.10.11"
  }
 },
 "nbformat": 4,
 "nbformat_minor": 5
}
