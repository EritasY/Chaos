{
 "cells": [
  {
   "cell_type": "code",
   "execution_count": 101,
   "id": "2cd5b138",
   "metadata": {},
   "outputs": [],
   "source": [
    "import numpy as np\n",
    "import matplotlib.pyplot as plt\n",
    "%matplotlib inline\n",
    "from celmech.nbody_simulation_utilities import set_time_step,align_simulation\n",
    "from celmech.nbody_simulation_utilities import get_simarchive_integration_results\n",
    "import rebound\n",
    "from celmech.disturbing_function import laplace_b as b"
   ]
  },
  {
   "cell_type": "code",
   "execution_count": 102,
   "id": "537a955b",
   "metadata": {},
   "outputs": [],
   "source": [
    "from celmech.secular import LaplaceLagrangeSystem\n",
    "from celmech.poincare import Poincare"
   ]
  },
  {
   "cell_type": "code",
   "execution_count": 103,
   "id": "ee596459",
   "metadata": {},
   "outputs": [],
   "source": [
    "def b1(alpha):\n",
    "    return b(1.5, 1, 0, alpha)\n",
    "def b2(alpha):\n",
    "    return b(1.5, 2, 0, alpha)"
   ]
  },
  {
   "cell_type": "code",
   "execution_count": 104,
   "id": "e75c3995",
   "metadata": {},
   "outputs": [],
   "source": [
    "def make_sim(alpha, mass, ecc, pom):\n",
    "    alpha12, alpha23 = alpha\n",
    "    P1, P2, P3 = alpha12**(3/2), 1, 1/alpha23**(3/2)\n",
    "    mu1, mu2, mu3 = mass\n",
    "    ecc1, ecc2, ecc3 = ecc\n",
    "    pomega1, pomega2, pomega3 = pom\n",
    "    \n",
    "    # start simulation\n",
    "    sim = rebound.Simulation()\n",
    "    sim.units = ('yr', 'AU', 'Msun')\n",
    "\n",
    "    # add star, planet 1, planet 2\n",
    "    sim.add(m=1.)\n",
    "    sim.add(m=mu1, P=P1, e=ecc1, pomega=pomega1)\n",
    "    sim.add(m=mu2, P=P2, e=ecc2, pomega=pomega2)\n",
    "    sim.add(m=mu3, P=P3, e=ecc3, pomega=pomega3)\n",
    "    ps = sim.particles\n",
    "    ps[1].r = ps[1].a*(ps[1].m/3/ps[0].m)**(1/3)\n",
    "    ps[2].r = ps[2].a*(ps[2].m/3/ps[0].m)**(1/3)\n",
    "\n",
    "    sim.move_to_com()\n",
    "    sim.integrator = \"whfast\"\n",
    "    sim.ri_whfast.safe_mode = 0\n",
    "    sim.dt = sim.particles[1].P/12\n",
    "    sim.collision = \"direct\"\n",
    "    \n",
    "    return sim"
   ]
  },
  {
   "cell_type": "code",
   "execution_count": 248,
   "id": "c8230a60",
   "metadata": {},
   "outputs": [],
   "source": [
    "def norun(sim):\n",
    "    ps = sim.particles\n",
    "    lsys = LaplaceLagrangeSystem.from_Simulation(sim)  \n",
    "    M = lsys.Neccentricity_matrix\n",
    "    vals,T = np.linalg.eigh(M) # T returned by eigh is R^T in paper. Could define R = T.T\n",
    "    Mdiag = T.T @ lsys.Neccentricity_matrix @ T\n",
    "    \n",
    "    ec13 = 1-ps[1].a/ps[3].a\n",
    "    m_tot = ps[1].m + ps[2].m + ps[3].m\n",
    "    Tsec = 2*np.pi/(1/2*m_tot/ps[0].m/ec13**2)*ps[1].P\n",
    "    \n",
    "    Nout = 1000\n",
    "    times = np.linspace(0,2*Tsec, Nout)\n",
    "     \n",
    "    m1, m2, m3 = ps[1].m, ps[2].m, ps[3].m\n",
    "    alpha12, alpha23 = ps[1].a/ps[2].a, ps[2].a/ps[3].a\n",
    "    alpha13 = alpha12*alpha23\n",
    "    ec12, ec23, ec13 = 1-alpha12, 1-alpha23, 1-alpha13\n",
    "    \n",
    "    R2 = np.array([[np.sqrt(m1*m2/(m1+m3)/m_tot), -np.sqrt((m1+m3)/m_tot), np.sqrt(m2*m3/(m1+m3)/m_tot)],\n",
    "                   [-np.sqrt(m3/(m1+m3)), 0, np.sqrt(m1/(m1+m3))],\n",
    "                   [np.sqrt(m1/m_tot), np.sqrt(m2/m_tot), np.sqrt(m3/m_tot)]])\n",
    "    \n",
    "    massprefac = -1/(m1+m3)\n",
    "    w2 = massprefac*(alpha23**(5/2)*m1*m2/ec23**2 + alpha12**(1/2)*m2*m3/ec12**2 + alpha12**(1/2)*alpha23**(5/2)*(m1+m3)**2/ec13**2)\n",
    "    w1 = massprefac*(m_tot * (alpha23**(5/2)*m3/ec23**2 + alpha12**(1/2)*m1/ec12**2))\n",
    "    k = massprefac * np.sqrt(m1*m2*m3*m_tot) * (alpha23**(5/2)*1/ec23**2 - alpha12**(1/2)*1/ec12**2)\n",
    "\n",
    "#     kp = massprefac * np.sqrt(m1*m2*m3/m_tot) * (m2*(alpha23**(5/2)/ec23**2-alpha12**(1/2)/ec12**2) + (m1+m3)*(alpha23**(9/4)/ec23**2 - alpha12**(3/4)/ec12**2))\n",
    "    delta = -np.pi/2*massprefac*np.sqrt(m1*m2*m3/m_tot) * (m3*alpha13*alpha23*alpha12**(-1/2)*b1(alpha13) - m1*alpha13*alpha23**(3/2)*b1(alpha13) + (m1-m3)*alpha13*alpha23**(5/4)*alpha12**(-1/4)*b2(alpha13))\n",
    "    phi = 1/2*np.arctan2(2*k, w2-w1)\n",
    "    R1 = np.array([[np.cos(phi), -np.sin(phi), 0],\n",
    "                [np.sin(phi), np.cos(phi), 0],\n",
    "                [0,0,1]])\n",
    "    R = np.matmul(R1, R2)\n",
    "    \n",
    "    print('Mdiag elements:', Mdiag[0][0],Mdiag[1][1],Mdiag[2][2])\n",
    "    Mdiagapprox = R2 @ lsys.Neccentricity_matrix @ R2.T\n",
    "    Mp = R1 @ Mdiagapprox @ R1.T\n",
    "    print('Mapprox elements:', Mp[0][0],Mp[1][1],Mp[2][2])\n",
    "    \n",
    "#     print('kp:', Mdiagapprox[1,0], kp+delta, (Mdiagapprox[1,0]-(kp+delta))/Mdiagapprox[1,0])\n",
    "    print('-------------------------------------------------------------')\n",
    "    print('w1:', Mdiagapprox[0,0], w1, (Mdiagapprox[0,0]-w1)/Mdiagapprox[0,0])\n",
    "    print('w2:', Mdiagapprox[1,1], w2, (Mdiagapprox[1,1]-w2)/Mdiagapprox[1,1])\n",
    "    print('w2-w1:', Mdiagapprox[1,1]-Mdiagapprox[0,0], w2-w1, ((Mdiagapprox[1,1]-Mdiagapprox[0,0])-(w2-w1))/(Mdiagapprox[1,1]-Mdiagapprox[0,0]))\n",
    "    print('k:', Mdiagapprox[1,0], k, (Mdiagapprox[1,0]-k)/Mdiagapprox[1,0])\n",
    "    \n",
    "    tanphi = 2*Mdiagapprox[1,0]/(Mdiagapprox[1,1]-Mdiagapprox[0,0])\n",
    "    print('tan phi:', tanphi, 2*k/(w2-w1), (tanphi-2*k/(w2-w1))/tanphi)"
   ]
  },
  {
   "cell_type": "code",
   "execution_count": 252,
   "id": "e9e53146",
   "metadata": {},
   "outputs": [
    {
     "name": "stdout",
     "output_type": "stream",
     "text": [
      "Mdiag elements: -4.8003868358066545e-05 -1.0876664475056001e-05 -9.64253294520452e-07\n",
      "Mapprox elements: -4.797381355395936e-05 -1.0880813340427219e-05 -9.901592332564177e-07\n",
      "-------------------------------------------------------------\n",
      "w1: -2.300948471472688e-05 -2.2525390140561976e-05 0.021038914176772745\n",
      "w2: -3.584514217965971e-05 -3.404736634253388e-05 0.05015396028045261\n",
      "w2-w1: -1.283565746493283e-05 -1.1521976201971903e-05 0.1023462387142941\n",
      "k: 1.740763066014729e-05 1.7000392985062325e-05 0.02339420470456593\n",
      "tan phi: -2.712386289164407 -2.9509508936761786 -0.08795377172669055\n"
     ]
    }
   ],
   "source": [
    "alpha = 0.85, 0.75 #0.735, 0.735\n",
    "mass = 1e-7,1e-6,3e-7\n",
    "ecc = 0.005, 0.005, 0.005\n",
    "pomega = 0, 0, np.pi\n",
    "sim = make_sim(alpha, mass, ecc, pomega)\n",
    "norun(sim)"
   ]
  },
  {
   "cell_type": "code",
   "execution_count": null,
   "id": "8b20ffa1",
   "metadata": {},
   "outputs": [],
   "source": []
  }
 ],
 "metadata": {
  "kernelspec": {
   "display_name": "Python 3 (ipykernel)",
   "language": "python",
   "name": "python3"
  },
  "language_info": {
   "codemirror_mode": {
    "name": "ipython",
    "version": 3
   },
   "file_extension": ".py",
   "mimetype": "text/x-python",
   "name": "python",
   "nbconvert_exporter": "python",
   "pygments_lexer": "ipython3",
   "version": "3.10.11"
  }
 },
 "nbformat": 4,
 "nbformat_minor": 5
}
