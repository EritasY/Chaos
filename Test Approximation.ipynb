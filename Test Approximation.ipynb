{
 "cells": [
  {
   "cell_type": "code",
   "execution_count": 1,
   "id": "2cd5b138",
   "metadata": {},
   "outputs": [],
   "source": [
    "import numpy as np\n",
    "from numpy.linalg import eig\n",
    "import matplotlib.pyplot as plt\n",
    "%matplotlib inline\n",
    "from celmech.nbody_simulation_utilities import set_time_step,align_simulation\n",
    "from celmech.nbody_simulation_utilities import get_simarchive_integration_results\n",
    "import rebound\n",
    "from celmech.disturbing_function import laplace_b as b"
   ]
  },
  {
   "cell_type": "code",
   "execution_count": 2,
   "id": "537a955b",
   "metadata": {},
   "outputs": [],
   "source": [
    "from celmech.secular import LaplaceLagrangeSystem\n",
    "from celmech.poincare import Poincare"
   ]
  },
  {
   "cell_type": "code",
   "execution_count": 3,
   "id": "ee596459",
   "metadata": {},
   "outputs": [],
   "source": [
    "def b1(alpha):\n",
    "    return b(1.5, 1, 0, alpha)\n",
    "def b2(alpha):\n",
    "    return b(1.5, 2, 0, alpha)"
   ]
  },
  {
   "cell_type": "code",
   "execution_count": 4,
   "id": "3eae0bff",
   "metadata": {},
   "outputs": [
    {
     "name": "stdout",
     "output_type": "stream",
     "text": [
      "6396.852582070809 6392.63898501517\n",
      "636936.3717901479 636930.0087515671\n"
     ]
    }
   ],
   "source": [
    "print(b1(0.99), b2(0.99))\n",
    "print(b1(0.999), b2(0.999))"
   ]
  },
  {
   "cell_type": "code",
   "execution_count": 5,
   "id": "e75c3995",
   "metadata": {},
   "outputs": [],
   "source": [
    "def make_sim(alpha, mass, ecc, pom):\n",
    "    alpha12, alpha23 = alpha\n",
    "    P1, P2, P3 = alpha12**(3/2), 1, 1/alpha23**(3/2)\n",
    "    mu1, mu2, mu3 = mass\n",
    "    ecc1, ecc2, ecc3 = ecc\n",
    "    pomega1, pomega2, pomega3 = pom\n",
    "    \n",
    "    # start simulation\n",
    "    sim = rebound.Simulation()\n",
    "    sim.units = ('yr', 'AU', 'Msun')\n",
    "\n",
    "    # add star, planet 1, planet 2\n",
    "    sim.add(m=1.)\n",
    "    sim.add(m=mu1, P=P1, e=ecc1, pomega=pomega1)\n",
    "    sim.add(m=mu2, P=P2, e=ecc2, pomega=pomega2)\n",
    "    sim.add(m=mu3, P=P3, e=ecc3, pomega=pomega3)\n",
    "    ps = sim.particles\n",
    "    ps[1].r = ps[1].a*(ps[1].m/3/ps[0].m)**(1/3)\n",
    "    ps[2].r = ps[2].a*(ps[2].m/3/ps[0].m)**(1/3)\n",
    "\n",
    "    sim.move_to_com()\n",
    "    sim.integrator = \"whfast\"\n",
    "    sim.ri_whfast.safe_mode = 0\n",
    "    sim.dt = sim.particles[1].P/12\n",
    "    sim.collision = \"direct\"\n",
    "    \n",
    "    return sim"
   ]
  },
  {
   "cell_type": "code",
   "execution_count": 6,
   "id": "05e9d225",
   "metadata": {},
   "outputs": [],
   "source": [
    "def run(sim):\n",
    "    ps = sim.particles\n",
    "    lsys = LaplaceLagrangeSystem.from_Simulation(sim)  \n",
    "    M = lsys.Neccentricity_matrix\n",
    "    vals,T = np.linalg.eigh(M) # T returned by eigh is R^T in paper. Could define R = T.T\n",
    "    Mdiag = T.T @ lsys.Neccentricity_matrix @ T\n",
    "    \n",
    "    ec13 = 1-ps[1].a/ps[3].a\n",
    "    m_tot = ps[1].m + ps[2].m + ps[3].m\n",
    "    Tsec = 2*np.pi/(1/2*m_tot/ps[0].m/ec13**2)*ps[1].P\n",
    "    \n",
    "    Nout = 1000\n",
    "    times = np.linspace(0,2*Tsec, Nout)\n",
    "    Gx, Gy = np.zeros((Nout,3)), np.zeros((Nout,3))\n",
    "    for i, time in enumerate(times):\n",
    "        sim.integrate(time)\n",
    "        Gx[i] = [np.sqrt(2*p.m*np.sqrt(sim.G*ps[0].m*p.a)*(1-np.sqrt(1-p.e**2)))*np.cos(-p.pomega) for p in ps[1:]]\n",
    "        Gy[i] = [np.sqrt(2*p.m*np.sqrt(sim.G*ps[0].m*p.a)*(1-np.sqrt(1-p.e**2)))*np.sin(-p.pomega) for p in ps[1:]]\n",
    "    \n",
    "    Sx = T.T @ Gx.T\n",
    "    Sy = T.T @ Gy.T\n",
    "    \n",
    "    m1, m2, m3 = ps[1].m, ps[2].m, ps[3].m\n",
    "    alpha12, alpha23 = ps[1].a/ps[2].a, ps[2].a/ps[3].a\n",
    "    alpha13 = alpha12*alpha23\n",
    "    ec12, ec23, ec13 = 1-alpha12, 1-alpha23, 1-alpha13\n",
    "    \n",
    "    R2 = np.array([[np.sqrt(m1*m2/(m1+m3)/m_tot), -np.sqrt((m1+m3)/m_tot), np.sqrt(m2*m3/(m1+m3)/m_tot)],\n",
    "                   [-np.sqrt(m3/(m1+m3)), 0, np.sqrt(m1/(m1+m3))],\n",
    "                   [np.sqrt(m1/m_tot), np.sqrt(m2/m_tot), np.sqrt(m3/m_tot)]])\n",
    "    \n",
    "    massprefac = -1/(m1+m3)\n",
    "    w2 = massprefac*(alpha23**(5/2)*m1*m2/ec23**2 + alpha12**(1/2)*m2*m3/ec12**2 + alpha12**(1/2)*alpha23**(5/2)*(m1+m3)**2/ec13**2)\n",
    "    w1 = massprefac*(m_tot * (alpha23**(5/2)*m3/ec23**2 + alpha12**(1/2)*m1/ec12**2))\n",
    "    k = massprefac * np.sqrt(m1*m2*m3*m_tot) * (alpha23**(5/2)*1/ec23**2 - alpha12**(1/2)*1/ec12**2)\n",
    "    \n",
    "    phi = 1/2*np.arctan2(2*k, w2-w1)\n",
    "    R1 = np.array([[np.cos(phi), -np.sin(phi), 0],\n",
    "                [np.sin(phi), np.cos(phi), 0],\n",
    "                [0,0,1]])\n",
    "    R = np.matmul(R1, R2)\n",
    "    \n",
    "    print('Theoretical rotation matrix is')\n",
    "    print(T.T)\n",
    "    print('Calculated rotation matrix is')\n",
    "    print(R)\n",
    "\n",
    "    Sxapprox = R @ Gx.T\n",
    "    Syapprox = R @ Gy.T\n",
    "    \n",
    "    G1, G2, G3 = np.sqrt(Gx**2 + Gy**2).T\n",
    "    S1, S2, S3 = np.sqrt(Sx**2 + Sy**2)\n",
    "    S1a, S2a, S3a = np.sqrt(Sxapprox**2 + Syapprox**2)\n",
    "    \n",
    "    return times, G1, G2, G3, S1, S2, S3, S1a, S2a, S3a"
   ]
  },
  {
   "cell_type": "code",
   "execution_count": 7,
   "id": "c8230a60",
   "metadata": {},
   "outputs": [],
   "source": [
    "def norun(sim):\n",
    "    ps = sim.particles\n",
    "    lsys = LaplaceLagrangeSystem.from_Simulation(sim)  \n",
    "    M = lsys.Neccentricity_matrix\n",
    "    vals,T = np.linalg.eigh(M) # T returned by eigh is R^T in paper. Could define R = T.T\n",
    "    Mdiag = T.T @ lsys.Neccentricity_matrix @ T\n",
    "    \n",
    "\n",
    "    ec13 = 1-ps[1].a/ps[3].a\n",
    "    m_tot = ps[1].m + ps[2].m + ps[3].m\n",
    "    Tsec = 2*np.pi/(1/2*m_tot/ps[0].m/ec13**2)*ps[1].P\n",
    "    \n",
    "    Nout = 1000\n",
    "    times = np.linspace(0,2*Tsec, Nout)\n",
    "     \n",
    "    m1, m2, m3 = ps[1].m, ps[2].m, ps[3].m\n",
    "    alpha12, alpha23 = ps[1].a/ps[2].a, ps[2].a/ps[3].a\n",
    "    alpha13 = alpha12*alpha23\n",
    "    ec12, ec23, ec13 = 1-alpha12, 1-alpha23, 1-alpha13\n",
    "    \n",
    "    R2 = np.array([[np.sqrt(m1*m2/(m1+m3)/m_tot), -np.sqrt((m1+m3)/m_tot), np.sqrt(m2*m3/(m1+m3)/m_tot)],\n",
    "                   [-np.sqrt(m3/(m1+m3)), 0, np.sqrt(m1/(m1+m3))],\n",
    "                   [np.sqrt(m1/m_tot), np.sqrt(m2/m_tot), np.sqrt(m3/m_tot)]])\n",
    "    \n",
    "    massprefac = -1/(m1+m3)\n",
    "    w2 = massprefac*(alpha23**(5/2)*m1*m2/ec23**2 + alpha12**(1/2)*m2*m3/ec12**2 + alpha12**(1/2)*alpha23**(5/2)*(m1+m3)**2/ec13**2)\n",
    "    w1 = massprefac*(m_tot * (alpha23**(5/2)*m3/ec23**2 + alpha12**(1/2)*m1/ec12**2))\n",
    "    k = massprefac * np.sqrt(m1*m2*m3*m_tot) * (alpha23**(5/2)*1/ec23**2 - alpha12**(1/2)*1/ec12**2)\n",
    "\n",
    "    phi = 1/2*np.arctan2(2*k, w2-w1)\n",
    "    R1 = np.array([[np.cos(phi), -np.sin(phi), 0],\n",
    "                [np.sin(phi), np.cos(phi), 0],\n",
    "                [0,0,1]])\n",
    "    R = R1@R2\n",
    "    \n",
    "    return R\n",
    "    \n",
    "#     print('Theoretical rotation matrix is')\n",
    "#     print(T.T)\n",
    "#     print('Calculated rotation matrix is')\n",
    "#     print(R)\n",
    "    \n",
    "#     print('-------------------------------------------------------------')\n",
    "#     print('Mdiag eigenvals:', Mdiag[0][0],Mdiag[1][1],Mdiag[2][2])\n",
    "#     Mdiagapprox = R2 @ lsys.Neccentricity_matrix @ R2.T\n",
    "#     Mp = R1 @ Mdiagapprox @ R1.T\n",
    "#     print('Mapprox eigenvals:', Mp[0][0],Mp[1][1],Mp[2][2])\n",
    "#     print('Error:', (Mdiag[0][0]-Mp[0][0])/Mdiag[0][0], (Mdiag[1][1]-Mp[1][1])/Mdiag[1][1], (Mdiag[2][2]-Mp[2][2])/Mdiag[2][2])\n",
    "    \n",
    "#     print('-------------------------------------------------------------')\n",
    "#     print('w1:', Mdiagapprox[0,0], w1, (Mdiagapprox[0,0]-w1)/Mdiagapprox[0,0])\n",
    "#     print('w2:', Mdiagapprox[1,1], w2, (Mdiagapprox[1,1]-w2)/Mdiagapprox[1,1])\n",
    "#     print('w2-w1:', Mdiagapprox[1,1]-Mdiagapprox[0,0], w2-w1, ((Mdiagapprox[1,1]-Mdiagapprox[0,0])-(w2-w1))/(Mdiagapprox[1,1]-Mdiagapprox[0,0]))\n",
    "#     print('k:', Mdiagapprox[1,0], k, (Mdiagapprox[1,0]-k)/Mdiagapprox[1,0])\n",
    "    \n",
    "#     angle = 1/2*np.arctan(2*Mdiagapprox[1,0]/(Mdiagapprox[1,1]-Mdiagapprox[0,0]))\n",
    "#     print('phi:', angle, phi, (angle-phi)/angle)"
   ]
  },
  {
   "cell_type": "code",
   "execution_count": 8,
   "id": "c42aece0",
   "metadata": {},
   "outputs": [
    {
     "data": {
      "image/png": "[encoded data removed]",
      "text/latex": [
       "$\\displaystyle \\left[\\begin{matrix}\\frac{e_{1} \\sqrt{m_{1}}}{\\sqrt{m_{2}}}\\\\e_{2}\\\\\\frac{e_{3} \\sqrt{m_{3}}}{\\sqrt{m_{2}}}\\end{matrix}\\right]$"
      ],
      "text/plain": [
       "⎡     ____⎤\n",
       "⎢e₁⋅╲╱ m₁ ⎥\n",
       "⎢─────────⎥\n",
       "⎢    ____ ⎥\n",
       "⎢  ╲╱ m₂  ⎥\n",
       "⎢         ⎥\n",
       "⎢   e₂    ⎥\n",
       "⎢         ⎥\n",
       "⎢     ____⎥\n",
       "⎢e₃⋅╲╱ m₃ ⎥\n",
       "⎢─────────⎥\n",
       "⎢    ____ ⎥\n",
       "⎣  ╲╱ m₂  ⎦"
      ]
     },
     "execution_count": 8,
     "metadata": {},
     "output_type": "execute_result"
    }
   ],
   "source": [
    "from sympy import *\n",
    "init_printing()\n",
    "m1, m2, m3, Mstar, e12, e23, e13, b1_12, b1_23, b1_13, b2_12, b2_23, b2_13, alpha12, alpha23, alpha13, e1, e2, e3 = symbols(\"m1, m2, m3, Mstar, e_{12}, e_{23}, e_{13}, b1_{12}, b1_{23}, b1_{13}, b2_{12}, b2_{23}, b2_{13}, a_{12}, a_{23}, a_{13}, e_1, e_2, e_3\", positive=True, real=True)\n",
    "eps12, eps23, eps13 = symbols(r\"\\epsilon_{12}, \\epsilon_{23}, \\epsilon_{13}\", positive=True, real=True)\n",
    "\n",
    "G = Matrix([sqrt(m1/m2)*e1, sqrt(m2/m2)*e2, sqrt(m3/m2)*e3])\n",
    "G"
   ]
  },
  {
   "cell_type": "markdown",
   "id": "2f0a6339",
   "metadata": {},
   "source": [
    "# The eigenmodes by numerically diagonalizing M"
   ]
  },
  {
   "cell_type": "code",
   "execution_count": 9,
   "id": "9d135909",
   "metadata": {},
   "outputs": [
    {
     "name": "stdout",
     "output_type": "stream",
     "text": [
      "CPU times: user 220 ms, sys: 4.65 ms, total: 225 ms\n",
      "Wall time: 223 ms\n"
     ]
    },
    {
     "data": {
      "image/png": "[encoded data removed]",
      "text/latex": [
       "$\\displaystyle \\left[\\begin{matrix}0.998531574971424 e_{1} - 0.999999995014659 e_{2} + 0.0017039264858565 e_{3}\\\\7080.8360186217 e_{1} + 7.05840646462175 \\cdot 10^{-5} e_{2} - 7061.28605702804 e_{3}\\\\- 7061.28602170485 e_{1} - 7.06298231190061 \\cdot 10^{-5} e_{2} - 7080.83605380173 e_{3}\\end{matrix}\\right]$"
      ],
      "text/plain": [
       "⎡0.998531574971424⋅e₁ - 0.999999995014659⋅e₂ + 0.0017039264858565⋅e₃⎤\n",
       "⎢                                                                   ⎥\n",
       "⎢ 7080.8360186217⋅e₁ + 7.05840646462175e-5⋅e₂ - 7061.28605702804⋅e₃ ⎥\n",
       "⎢                                                                   ⎥\n",
       "⎣-7061.28602170485⋅e₁ - 7.06298231190061e-5⋅e₂ - 7080.83605380173⋅e₃⎦"
      ]
     },
     "execution_count": 9,
     "metadata": {},
     "output_type": "execute_result"
    }
   ],
   "source": [
    "%%time\n",
    "alpha = 0.999, 0.99\n",
    "mass = 1e-7,1e-15,1e-7\n",
    "ecc = 0.005, 0.005, 0.005\n",
    "pomega = 0, 0, np.pi\n",
    "sim = make_sim(alpha, mass, ecc, pomega)\n",
    "ps = sim.particles\n",
    "lsys = LaplaceLagrangeSystem.from_Simulation(sim)  \n",
    "M = lsys.Neccentricity_matrix\n",
    "vals,T = np.linalg.eigh(M)\n",
    "\n",
    "T.T*G.subs(m1, mass[0]).subs(m2, mass[1]).subs(m3, mass[2])"
   ]
  },
  {
   "cell_type": "markdown",
   "id": "cabf0e02",
   "metadata": {},
   "source": [
    "# R is the theoretical rotation matrix we calculate. Below is the theoretical eigenmodes."
   ]
  },
  {
   "cell_type": "code",
   "execution_count": 10,
   "id": "75158258",
   "metadata": {},
   "outputs": [
    {
     "data": {
      "image/png": "[encoded data removed]",
      "text/latex": [
       "$\\displaystyle \\left[\\begin{matrix}0.99830650768244 e_{1} - 0.999999995016906 e_{2} + 0.00169348733446625 e_{3}\\\\- 7071.06775907176 e_{1} - 7.04711823145079 \\cdot 10^{-5} e_{2} + 7071.06782954294 e_{3}\\\\7071.06779418781 e_{1} + 7.07106779418781 \\cdot 10^{-5} e_{2} + 7071.06779418781 e_{3}\\end{matrix}\\right]$"
      ],
      "text/plain": [
       "⎡0.99830650768244⋅e₁ - 0.999999995016906⋅e₂ + 0.00169348733446625⋅e₃⎤\n",
       "⎢                                                                   ⎥\n",
       "⎢-7071.06775907176⋅e₁ - 7.04711823145079e-5⋅e₂ + 7071.06782954294⋅e₃⎥\n",
       "⎢                                                                   ⎥\n",
       "⎣7071.06779418781⋅e₁ + 7.07106779418781e-5⋅e₂ + 7071.06779418781⋅e₃ ⎦"
      ]
     },
     "execution_count": 10,
     "metadata": {},
     "output_type": "execute_result"
    }
   ],
   "source": [
    "R = norun(sim)\n",
    "R*G.subs(m1, mass[0]).subs(m2, mass[1]).subs(m3, mass[2])"
   ]
  },
  {
   "cell_type": "code",
   "execution_count": null,
   "id": "43f1ea91",
   "metadata": {},
   "outputs": [],
   "source": []
  },
  {
   "cell_type": "code",
   "execution_count": null,
   "id": "e9e53146",
   "metadata": {},
   "outputs": [],
   "source": [
    "alpha = 0.999, 0.99\n",
    "mass = 1e-7,1e-15,1e-7\n",
    "ecc = 0.005, 0.005, 0.005\n",
    "pomega = 0, 0, np.pi\n",
    "sim = make_sim(alpha, mass, ecc, pomega)\n",
    "norun(sim)"
   ]
  },
  {
   "cell_type": "code",
   "execution_count": null,
   "id": "8b20ffa1",
   "metadata": {},
   "outputs": [],
   "source": [
    "times, G1, G2, G3, S1, S2, S3, S1a, S2a, S3a = run(sim)"
   ]
  },
  {
   "cell_type": "code",
   "execution_count": null,
   "id": "537f1882",
   "metadata": {},
   "outputs": [],
   "source": [
    "fig, ax = plt.subplots()\n",
    "ax.plot(times, G1/G1[0], color='darkblue', label='G1')\n",
    "ax.plot(times, G2/G2[0], color='darkgreen', label='G2')\n",
    "ax.plot(times, G3/G3[0], color='darkorange', label='G3')\n",
    "ax.plot(times, S1/S1[0], color='blue', linestyle='-.', label='S1a')\n",
    "ax.plot(times, S2/S2[0], color='green', linestyle='-.', label='S2a')\n",
    "ax.plot(times, S3/S3[0], color='orange', linestyle='-.', label='S3a')\n",
    "ax.legend()"
   ]
  },
  {
   "cell_type": "code",
   "execution_count": null,
   "id": "e742f85c",
   "metadata": {},
   "outputs": [],
   "source": [
    "fig, ax = plt.subplots()\n",
    "ax.plot(times, G1/G1[0], color='darkblue', label='G1')\n",
    "ax.plot(times, G2/G2[0], color='darkgreen', label='G2')\n",
    "ax.plot(times, G3/G3[0], color='darkorange', label='G3')\n",
    "ax.plot(times, S1a/S1a[0], color='blue', linestyle='-.', label='S1a')\n",
    "ax.plot(times, S2a/S2a[0], color='green', linestyle='-.', label='S2a')\n",
    "ax.plot(times, S3a/S3a[0], color='orange', linestyle='-.', label='S3a')\n",
    "ax.legend()"
   ]
  },
  {
   "cell_type": "code",
   "execution_count": null,
   "id": "27e17898",
   "metadata": {},
   "outputs": [],
   "source": [
    "alpha = 0.76, 0.85\n",
    "mass = 1e-6,1e-7,1e-7\n",
    "ecc = 0.005, 0.005, 0.005\n",
    "pomega = 0, 0, np.pi\n",
    "sim = make_sim(alpha, mass, ecc, pomega)\n",
    "norun(sim)"
   ]
  },
  {
   "cell_type": "code",
   "execution_count": null,
   "id": "82c76cb5",
   "metadata": {},
   "outputs": [],
   "source": [
    "times, G1, G2, G3, S1, S2, S3, S1a, S2a, S3a = run(sim)"
   ]
  },
  {
   "cell_type": "code",
   "execution_count": null,
   "id": "ea2f3a8e",
   "metadata": {},
   "outputs": [],
   "source": [
    "fig, ax = plt.subplots()\n",
    "ax.plot(times, G1/G1[0], label='G1')\n",
    "ax.plot(times, G2/G2[0], label='G2')\n",
    "ax.plot(times, G3/G3[0], label='G3')\n",
    "ax.plot(times, S1/S1[0], linestyle='--', label='S1')\n",
    "ax.plot(times, S2/S2[0], linestyle='--', label='S2')\n",
    "ax.plot(times, S3/S3[0], linestyle='--', label='S3')\n",
    "ax.legend()"
   ]
  },
  {
   "cell_type": "code",
   "execution_count": null,
   "id": "1d4219ac",
   "metadata": {},
   "outputs": [],
   "source": [
    "fig, ax = plt.subplots()\n",
    "ax.plot(times, G1/G1[0], label='G1')\n",
    "ax.plot(times, G2/G2[0], label='G2')\n",
    "ax.plot(times, G3/G3[0], label='G3')\n",
    "ax.plot(times, S1a/S1a[0], linestyle='-.', label='S1a')\n",
    "ax.plot(times, S2a/S2a[0], linestyle='-.', label='S2a')\n",
    "ax.plot(times, S3a/S3a[0], linestyle='-.', label='S3a')\n",
    "ax.legend()"
   ]
  }
 ],
 "metadata": {
  "kernelspec": {
   "display_name": "Python 3 (ipykernel)",
   "language": "python",
   "name": "python3"
  },
  "language_info": {
   "codemirror_mode": {
    "name": "ipython",
    "version": 3
   },
   "file_extension": ".py",
   "mimetype": "text/x-python",
   "name": "python",
   "nbconvert_exporter": "python",
   "pygments_lexer": "ipython3",
   "version": "3.10.9"
  }
 },
 "nbformat": 4,
 "nbformat_minor": 5
}
