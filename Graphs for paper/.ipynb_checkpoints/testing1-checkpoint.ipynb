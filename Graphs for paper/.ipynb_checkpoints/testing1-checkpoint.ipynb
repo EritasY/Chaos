{
 "cells": [
  {
   "cell_type": "code",
   "execution_count": 1,
   "id": "239208d0",
   "metadata": {},
   "outputs": [],
   "source": [
    "%run function.ipynb"
   ]
  },
  {
   "cell_type": "code",
   "execution_count": 77,
   "id": "6f38383d",
   "metadata": {},
   "outputs": [
    {
     "name": "stdout",
     "output_type": "stream",
     "text": [
      "[[ 9.68375091e-05 -9.99999995e-01  2.07781427e-06]\n",
      " [ 7.59614119e-01  7.22077830e-05 -6.50374035e-01]\n",
      " [ 6.50374032e-01  6.45589386e-05  7.59614122e-01]]\n",
      "0.8999889682215709 0.9999877424684148 1.4285543939960261\n"
     ]
    }
   ],
   "source": [
    "alpha = 0.9, 0.7\n",
    "mass = 1e-6, 1e-14, 1e-6\n",
    "ecc = 0.01, 0.01, 0.01\n",
    "pomega = np.pi/3, 0, -2*np.pi/5\n",
    "sim = make_sim(alpha, mass, ecc, pomega)\n",
    "ps = sim.particles\n",
    "lsys = LaplaceLagrangeSystem.from_Simulation(sim)  \n",
    "M = lsys.Neccentricity_matrix\n",
    "vals,T = np.linalg.eigh(M) # T returned by eigh is R^T in paper. Could define R = T.T\n",
    "print(T.T)\n",
    "print(ps[1].a, ps[2].a, ps[3].a)"
   ]
  },
  {
   "cell_type": "code",
   "execution_count": 78,
   "id": "67629fba",
   "metadata": {},
   "outputs": [
    {
     "name": "stdout",
     "output_type": "stream",
     "text": [
      "[7.46658541e-01 5.17075687e-05 6.65207502e-01]\n",
      "[ 7.59614119e-01  7.22077830e-05 -6.50374035e-01]\n"
     ]
    }
   ],
   "source": [
    "a1, a2, a3 = ps[1].a, ps[2].a, ps[3].a\n",
    "m1, m2, m3 = ps[1].m, ps[2].m, ps[3].m\n",
    "R2 = np.array([np.sqrt(m3)*a3**(1/4), np.sqrt(m2)*(np.abs(a3-a2-a2+a1))**(1/4), np.sqrt(m1)*a1**(1/4)])\n",
    "print(R2 / np.linalg.norm(R2))\n",
    "print(T.T[1] / np.linalg.norm(T.T[1]))"
   ]
  },
  {
   "cell_type": "code",
   "execution_count": 79,
   "id": "d0ad1736",
   "metadata": {},
   "outputs": [
    {
     "ename": "SyntaxError",
     "evalue": "invalid syntax (3824956796.py, line 5)",
     "output_type": "error",
     "traceback": [
      "\u001b[0;36m  Cell \u001b[0;32mIn[79], line 5\u001b[0;36m\u001b[0m\n\u001b[0;31m    mass = 1e-6, i 1e-6\u001b[0m\n\u001b[0m                   ^\u001b[0m\n\u001b[0;31mSyntaxError\u001b[0m\u001b[0;31m:\u001b[0m invalid syntax\n"
     ]
    }
   ],
   "source": [
    "# test\n",
    "test_mass = []\n",
    "for i in np.arange(1e-14, 1e-6, 1e-14):\n",
    "    alpha = 0.9, 0.7\n",
    "    mass = 1e-6, i, 1e-6\n",
    "    ecc = 0.01, 0.01, 0.01\n",
    "    pomega = np.pi/3, 0, -2*np.pi/5\n",
    "    sim = make_sim(alpha, mass, ecc, pomega)\n",
    "    ps = sim.particles\n",
    "\n",
    "\n",
    "    a1, a2, a3 = ps[1].a, ps[2].a, ps[3].a\n",
    "    m1, m2, m3 = ps[1].m, ps[2].m, ps[3].m\n",
    "    x = np.sqrt(m2)*(np.abs(a3-a2-a2+a1))**(1/4)\n",
    "    R2 = np.array([np.sqrt(m3)*a3**(1/4), x, np.sqrt(m1)*a1**(1/4)])\n",
    "    test_mass.append(R2[1])\n",
    "    #print(R2 / np.linalg.norm(R2))\n",
    "    #print(T.T[1] / np.linalg.norm(T.T[1]))\n",
    "plt.plot(test_mass)"
   ]
  },
  {
   "cell_type": "code",
   "execution_count": null,
   "id": "9386bd7b",
   "metadata": {},
   "outputs": [],
   "source": [
    "modeDistance(sim, 'no', 2)"
   ]
  },
  {
   "cell_type": "code",
   "execution_count": 2,
   "id": "8dded940",
   "metadata": {},
   "outputs": [],
   "source": [
    "def solveAlpha(a13, Delta, simplified):\n",
    "    if simplified == 'yes':\n",
    "        dfunc = lambda a1 : ((1-a1) - (1-(a13/a1))) / ((1-a13)) - Delta\n",
    "    elif simplified == 'no':\n",
    "        dfunc = lambda a1 : (a1**(-1/4)*(a13/a1)**(5/8)*(1-a1) - a1**(1/8)*(a13/a1)**(-1/2)*(1-(a13/a1))) / (a13**(-1/2)*(1-a13)) - Delta\n",
    "    a1_initial_guess = 0.8\n",
    "    a1_val = fsolve(dfunc, a1_initial_guess)\n",
    "    return a1_val[0], a13/a1_val[0]"
   ]
  },
  {
   "cell_type": "code",
   "execution_count": 3,
   "id": "9f133835",
   "metadata": {},
   "outputs": [],
   "source": [
    "def plotAlpha13(alpha_param, mass, ecc, pomega, simp):\n",
    "    data = np.zeros(len(alpha_param))\n",
    "    for i, (alpha1, alpha2) in enumerate(alpha_param):\n",
    "        sim = make_sim((alpha1, alpha2), mass, ecc, pomega)\n",
    "        dist = modeDistance(sim, simp, 1)\n",
    "        data[i] = dist\n",
    "    return data"
   ]
  },
  {
   "cell_type": "code",
   "execution_count": 4,
   "id": "6dbba32a",
   "metadata": {},
   "outputs": [],
   "source": [
    "def plotDelta(alpha_param, mass_param, ecc, pomega, simp):\n",
    "    data = np.zeros((len(mass_param)*len(alpha_param),6))\n",
    "    for i, mu2 in enumerate(mass_param):\n",
    "        mass = (1-mu2)/2*1e-7, mu2*1e-7, (1-mu2)/2*1e-7\n",
    "        for j, (alpha1, alpha2) in enumerate(alpha_param):\n",
    "            sim = make_sim((alpha1, alpha2), mass, ecc, pomega)\n",
    "            dist1 = modeDistance(sim, simp, 1)\n",
    "            dist2 = modeDistance(sim, simp, 2)\n",
    "            psi_theo, psi_approx, err = calcPsi(sim, simp)\n",
    "            data[i*len(alpha_param)+j][:] = mu2, dist1, dist2, psi_theo, psi_approx, err\n",
    "    df = pd.DataFrame(data, columns=['m2','dist1','dist2','psi_theo', 'psi_approx', 'err'], index=None)    \n",
    "    return df"
   ]
  },
  {
   "cell_type": "code",
   "execution_count": null,
   "id": "ac802f36",
   "metadata": {},
   "outputs": [],
   "source": [
    "a13 = np.linspace(0.55,0.99,20)\n",
    "mu2 = 1e-10\n",
    "ecc = 0.01, 0.01, 0.01\n",
    "pomega = 0, 2*np.pi/3, -2*np.pi/3\n",
    "mass = (1-mu2)/2*1e-7, mu2*1e-7, (1-mu2)/2*1e-7"
   ]
  },
  {
   "cell_type": "code",
   "execution_count": null,
   "id": "82110e05",
   "metadata": {},
   "outputs": [],
   "source": [
    "alpha_param1 = [[solveAlpha(x,0,'yes')[0], solveAlpha(x,0,'yes')[1]] for x in a13]\n",
    "data1 = plotAlpha13(alpha_param1, mass, ecc, pomega, 'yes')\n",
    "alpha_param2 = [[solveAlpha(x,0,'no')[0], solveAlpha(x,0,'no')[1]] for x in a13]\n",
    "data2 = plotAlpha13(alpha_param2, mass, ecc, pomega, 'no')\n",
    "\n",
    "f, (ax1,ax2) = plt.subplots(2,1)\n",
    "ax1.plot(a13,data1,color='k')\n",
    "ax2.plot(a13,data2,color='k')"
   ]
  },
  {
   "cell_type": "code",
   "execution_count": null,
   "id": "a02e8813",
   "metadata": {},
   "outputs": [],
   "source": [
    "mass_param = np.array([1e-10, 1/10, 1/5, 1/3])\n",
    "a13 = 0.99\n",
    "delta = np.linspace(-0.99,0.99,100)\n",
    "ecc = 0.01, 0.01, 0.01\n",
    "pomega = 0, 2*np.pi/3, -2*np.pi/3\n",
    "\n",
    "alpha_param1 = [[solveAlpha(a13,d,'yes')[0], solveAlpha(a13,d,'yes')[1]] for d in delta]\n",
    "d1 = plotDelta(alpha_param1, mass_param, ecc, pomega, 'yes')\n",
    "# alpha_param2 = [[solveAlpha(a13,d,'no')[0], solveAlpha(a13,d,'no')[1]] for d in delta]\n",
    "# d2 = plotDelta(alpha_param2, mass_param, ecc, pomega, 'no')"
   ]
  },
  {
   "cell_type": "code",
   "execution_count": null,
   "id": "5d5e4a52",
   "metadata": {},
   "outputs": [],
   "source": [
    "df11, df12, df13, df14 = d1[d1['m2']<1/20], d1[d1['m2'] == 1/10], d1[d1['m2'] == 1/5], d1[d1['m2'] == 1/3]\n",
    "y1 = [np.abs((df11.iloc[i]['psi_approx'])-df11.iloc[i]['psi_theo']) for i in range(len(df11))]\n",
    "y2 = [np.abs((df12.iloc[i]['psi_approx'])-df12.iloc[i]['psi_theo']) for i in range(len(df12))]\n",
    "y3 = [np.abs((df13.iloc[i]['psi_approx'])-df13.iloc[i]['psi_theo']) for i in range(len(df13))]\n",
    "y4 = [np.abs((df14.iloc[i]['psi_approx'])-df14.iloc[i]['psi_theo']) for i in range(len(df14))]\n",
    "\n",
    "f,ax1 = plt.subplots()\n",
    "c1, c2, c3, c4 = 'orange','green','blue','purple'\n",
    "ax1.plot(delta,y1,color=c1,label=r'$\\tilde{m}_2=0$')\n",
    "ax1.plot(delta,y2,color=c2,label=r'$\\tilde{m}_2=1/10$')\n",
    "ax1.plot(delta,y3,color=c3,label=r'$\\tilde{m}_2=1/5$')\n",
    "ax1.plot(delta,y4,color=c4,label=r'$\\tilde{m}_2=1/3$')\n",
    "\n",
    "ax1.legend()\n",
    "ax1.set_title(r\"$S_{-}^{(1)}$\")\n",
    "ax1.set_xlabel(r\"$\\eta$\")\n",
    "ax1.set_ylabel(\"distance\")"
   ]
  },
  {
   "cell_type": "code",
   "execution_count": null,
   "id": "e27d2f29",
   "metadata": {},
   "outputs": [],
   "source": [
    "df11, df12, df13, df14 = d1[d1['m2']<1/20], d1[d1['m2'] == 1/10], d1[d1['m2'] == 1/5], d1[d1['m2'] == 1/3]\n",
    "y1 = [(df11.iloc[i]['dist2']) for i in range(len(df11))]\n",
    "y2 = [(df12.iloc[i]['dist2']) for i in range(len(df12))]\n",
    "y3 = [(df13.iloc[i]['dist2']) for i in range(len(df13))]\n",
    "y4 = [(df14.iloc[i]['dist2']) for i in range(len(df14))]\n",
    "\n",
    "df21, df22, df23, df24 = d2[d2['m2']<1/20], d2[d2['m2'] == 1/10], d2[d2['m2'] == 1/5], d2[d2['m2'] == 1/3]\n",
    "z1 = [(df21.iloc[i]['dist2']) for i in range(len(df21))]\n",
    "z2 = [(df22.iloc[i]['dist2']) for i in range(len(df22))]\n",
    "z3 = [(df23.iloc[i]['dist2']) for i in range(len(df23))]\n",
    "z4 = [(df24.iloc[i]['dist2']) for i in range(len(df24))]\n",
    "\n",
    "f, (ax1,ax2) = plt.subplots(2,1)\n",
    "c1, c2, c3, c4 = 'orange','green','blue','purple'\n",
    "ax1.plot(delta,y1,color=c1,label=r'$\\tilde{m}_2=0$')\n",
    "ax1.plot(delta,y2,color=c2,label=r'$\\tilde{m}_2=1/10$')\n",
    "ax1.plot(delta,y3,color=c3,label=r'$\\tilde{m}_2=1/5$')\n",
    "ax1.plot(delta,y4,color=c4,label=r'$\\tilde{m}_2=1/3$')\n",
    "ax1.legend()\n",
    "ax1.set_title(r\"$\\alpha_{13}=0.78$\")\n",
    "ax1.set_ylabel(\"distance\")\n",
    "\n",
    "ax2.plot(delta,z1,color=c1,label=r'$\\tilde{m}_2=0$')\n",
    "ax2.plot(delta,z2,color=c2,label=r'$\\tilde{m}_2=1/10$')\n",
    "ax2.plot(delta,z3,color=c3,label=r'$\\tilde{m}_2=1/5$')\n",
    "ax2.plot(delta,z4,color=c4,label=r'$\\tilde{m}_2=1/3$')\n",
    "ax2.set_ylabel(\"distance\")\n",
    "ax2.set_xlabel(r\"$\\eta$\")"
   ]
  },
  {
   "cell_type": "code",
   "execution_count": null,
   "id": "35c1c77b",
   "metadata": {},
   "outputs": [],
   "source": [
    "P = 1, 1.18, 1.46\n",
    "alpha = (P[0]/P[1])**(2/3), (P[1]/P[2])**(2/3)\n",
    "mass = 3e-6, 1e-20, 3e-6\n",
    "ecc = 0.0172976980492149, 0.0122330360389433, 0.0100394044742797\n",
    "pomega = 0.840034557372923, 1.1053912875334, -0.730761769421974\n",
    "\n",
    "sim = make_sim(alpha, mass, ecc, pomega)\n",
    "times, e12, e23, eminus, e13, ecom, e1, e2, e3 = run(sim,'yes')"
   ]
  },
  {
   "cell_type": "code",
   "execution_count": null,
   "id": "4857e3cb",
   "metadata": {},
   "outputs": [],
   "source": [
    "f, ax = plt.subplots()\n",
    "ax.plot(times, (eminus-np.mean(eminus))/np.mean(eminus), color='green', linestyle='-.',lw=2, label=r\"$e_{-}$\")\n",
    "ax.plot(times, (e13-np.mean(e13))/np.mean(e13), color='orange', linestyle='-.', lw=2,label=r\"$e_{13}$\")\n",
    "ax.plot(times, (ecom-np.mean(ecom))/np.mean(ecom), color='blue', linestyle='-.', lw=2,label=r\"$e_{com}$\")\n",
    "ax.legend(loc=\"lower right\")"
   ]
  },
  {
   "cell_type": "code",
   "execution_count": null,
   "id": "69852965",
   "metadata": {},
   "outputs": [],
   "source": [
    "P = 1, 1.18, 1.46\n",
    "alpha = (P[0]/P[1])**(2/3), (P[1]/P[2])**(2/3)\n",
    "mass = 3e-6, 1e-20, 3e-6\n",
    "ecc = 0.0172976980492149, 0.0122330360389433, 0.0100394044742797\n",
    "pomega = 0.840034557372923, 1.1053912875334, -0.730761769421974\n",
    "\n",
    "sim = make_sim(alpha, mass, ecc, pomega)\n",
    "times, G1, G2, G3, S1, S2, S3, S1a, S2a, S3a = run(sim,'no')"
   ]
  },
  {
   "cell_type": "code",
   "execution_count": null,
   "id": "4c088e51",
   "metadata": {},
   "outputs": [],
   "source": [
    "f, ax = plt.subplots()\n",
    "ax.plot(times, (S1a-np.mean(S1a))/np.mean(S1a), color='green', linestyle='-.',lw=2, label=r\"$e_{-}$\")\n",
    "ax.plot(times, (S2a-np.mean(S2a))/np.mean(S2a), color='orange', linestyle='-.', lw=2,label=r\"$e_{13}$\")\n",
    "ax.plot(times, (S3a-np.mean(S3a))/np.mean(S3a), color='blue', linestyle='-.', lw=2,label=r\"$e_{com}$\")\n",
    "ax.legend(loc=\"lower right\")"
   ]
  },
  {
   "cell_type": "code",
   "execution_count": 5,
   "id": "6ee80d2e",
   "metadata": {},
   "outputs": [],
   "source": [
    "def getT(mass, alpha):    \n",
    "    m1, m2, m3 = mass\n",
    "    m_tot = m1 + m2 + m3\n",
    "    mu1, mu2, mu3 = m1/m_tot, m2/m_tot, m3/m_tot\n",
    "    alpha12, alpha23 = alpha\n",
    "    alpha13 = alpha12*alpha23\n",
    "    \n",
    "    ec12, ec23, ec13 = 1-alpha12, 1-alpha23, 1-alpha13\n",
    "    \n",
    "    Delta = (ec12 - ec23)/ec13\n",
    "    a = (1-Delta)**3*(3+Delta)\n",
    "    b = (1+Delta)**3*(3-Delta)\n",
    "    A = mu1*a/(mu1*a+mu3*b)\n",
    "    B = mu3*b/(mu1*a+mu3*b)\n",
    "    \n",
    "    T = np.array([[A,-(A+B),B],[1,0,-1],[mu1,mu2,mu3]])\n",
    "    return T\n",
    "\n",
    "def StoE(mass,alpha,S,phi):\n",
    "    T = getT(mass,alpha)\n",
    "    S1, S2, S3 = S\n",
    "    p1, p2, p3 = phi\n",
    "    S_vec = np.array([[S1*cmath.exp(1j*p1)], [S2*cmath.exp(1j*p2)], [S3*cmath.exp(1j*p3)]])\n",
    "    e_vec = np.linalg.inv(T) @ S_vec\n",
    "    \n",
    "    e1, e2, e3 = np.abs(e_vec[0][0]), np.abs(e_vec[1][0]), np.abs(e_vec[2][0])\n",
    "    pom1, pom2, pom3 = cmath.phase(e_vec[0][0]), cmath.phase(e_vec[1][0]), cmath.phase(e_vec[2][0])\n",
    "    \n",
    "    return (e1, e2, e3), (pom1, pom2, pom3)\n",
    "\n",
    "def EtoS(mass,alpha,ecc,pomega):\n",
    "    e1, e2, e3 = ecc\n",
    "    pom1, pom2, pom3 = pomega\n",
    "    \n",
    "    T = getT(mass,alpha)\n",
    "    e_vec = np.array([[e1*cmath.exp(1j*pom1)], [e2*cmath.exp(1j*pom2)], [e3*cmath.exp(1j*pom3)]])\n",
    "    S_vec = T @ e_vec\n",
    "    \n",
    "    S1, S2, S3 = np.abs(S_vec[0][0]), np.abs(S_vec[1][0]), np.abs(S_vec[2][0])\n",
    "    phi1, phi2, phi3 = cmath.phase(S_vec[0][0]), cmath.phase(S_vec[1][0]), cmath.phase(S_vec[2][0])\n",
    "    \n",
    "    return (S1, S2, S3), (phi1, phi2, phi3)"
   ]
  },
  {
   "cell_type": "code",
   "execution_count": 67,
   "id": "4492ee87",
   "metadata": {},
   "outputs": [],
   "source": [
    "def eCOM(sim):\n",
    "    ps = sim.particles\n",
    "    lsys = LaplaceLagrangeSystem.from_Simulation(sim)  \n",
    "    M = lsys.Neccentricity_matrix\n",
    "    vals,T = np.linalg.eigh(M) # T returned by eigh is R^T in paper. Could define R = T.T\n",
    "    Mdiag = T.T @ lsys.Neccentricity_matrix @ T\n",
    "    \n",
    "    ec13 = 1-ps[1].a/ps[3].a\n",
    "    a1, a2, a3 = ps[1].a, ps[2].a, ps[3].a\n",
    "    m1, m2, m3 = ps[1].m, ps[2].m, ps[3].m\n",
    "    m_tot = m1 + m2 + m3\n",
    "    mu1, mu2, mu3 = m1/m_tot, m2/m_tot, m3/m_tot\n",
    "    Tsec = 2*np.pi/(1/2*m_tot/ps[0].m/ec13**2)*ps[1].P\n",
    "    \n",
    "    Nout = 1000\n",
    "    times = np.linspace(0,2*Tsec, Nout)\n",
    "    Gx, Gy = np.zeros((Nout,3)), np.zeros((Nout,3))\n",
    "    S1a, S2a, S3a = np.zeros(Nout), np.zeros(Nout), np.zeros(Nout)\n",
    "    for i, time in enumerate(times):\n",
    "        sim.integrate(time)    \n",
    "        e1x, e2x, e3x = [p.e*np.cos(p.pomega) for p in ps[1:]]\n",
    "        e1y, e2y, e3y = [p.e*np.sin(p.pomega) for p in ps[1:]]\n",
    "        Gx[i] = [np.sqrt(2*p.m*np.sqrt(sim.G*ps[0].m*p.a)*(1-np.sqrt(1-p.e**2)))*np.cos(-p.pomega) for p in ps[1:]]\n",
    "        Gy[i] = [np.sqrt(2*p.m*np.sqrt(sim.G*ps[0].m*p.a)*(1-np.sqrt(1-p.e**2)))*np.sin(-p.pomega) for p in ps[1:]]\n",
    "\n",
    "        S2a[i] = np.sqrt((e3x-e1x)**2 + (e3y-e1y)**2)\n",
    "        S3a[i] = np.sqrt((mu1*a1**(1/2)*e1x+mu2*a2**(1/2)*e2x+mu3*a3**(1/2)*e3x)**2+(mu1*a1**(1/2)*e1y+mu2*a2**(1/2)*e2y+mu3*a3**(1/2)*e3y)**2)\n",
    "    \n",
    "    Sx = T.T @ Gx.T\n",
    "    Sy = T.T @ Gy.T\n",
    "\n",
    "    S1, S2, S3 = np.sqrt(Sx**2 + Sy**2)\n",
    "    \n",
    "    return times, S2, S2a, S3, S3a"
   ]
  },
  {
   "cell_type": "code",
   "execution_count": 68,
   "id": "d7212a65",
   "metadata": {},
   "outputs": [
    {
     "name": "stdout",
     "output_type": "stream",
     "text": [
      "0\n",
      "1\n",
      "2\n",
      "3\n"
     ]
    }
   ],
   "source": [
    "mass_param = np.array([1e-20, 1/10, 1/5, 1/3])\n",
    "a13 = 0.78\n",
    "delta = np.linspace(-0.4,0.4,10)\n",
    "alpha_param = [[solveAlpha(a13,d,'yes')[0], solveAlpha(a13,d,'yes')[1]] for d in delta]\n",
    "data1 = np.zeros((len(mass_param)*len(alpha_param),5))\n",
    "\n",
    "for i, mu2 in enumerate(mass_param):\n",
    "    mass = (1-mu2)/2*1e-6, mu2*1e-6, (1-mu2)/2*1e-6\n",
    "    ecc, pomega = StoE(mass,(solveAlpha(a13,0,'yes')[0],solveAlpha(a13,0,'yes')[1]),(0.01,0.01,0.01),(-np.pi/4,np.pi/2.3,np.pi/6))\n",
    "    for j, (alpha1, alpha2) in enumerate(alpha_param):\n",
    "        sim = make_sim((alpha1, alpha2), mass, ecc, pomega)\n",
    "        times, S2, S2a, S3, S3a = eCOM(sim)\n",
    "        data1[i*len(alpha_param)+j][:] = mu2, amp(S2), amp(S2a), amp(S3), amp(S3a)\n",
    "    print(i)\n",
    "df1 = pd.DataFrame(data1, columns=['m2','S2','S2a','S3','S3a'], index=None)    "
   ]
  },
  {
   "cell_type": "code",
   "execution_count": 69,
   "id": "ef9dbc77",
   "metadata": {},
   "outputs": [
    {
     "data": {
      "text/plain": [
       "Text(0, 0.5, 'fractional variation')"
      ]
     },
     "execution_count": 69,
     "metadata": {},
     "output_type": "execute_result"
    },
    {
     "data": {
      "image/png": "[encoded data removed]",
      "text/plain": [
       "<Figure size 640x480 with 2 Axes>"
      ]
     },
     "metadata": {},
     "output_type": "display_data"
    }
   ],
   "source": [
    "df11, df12, df13, df14 = df1[df1['m2']<1/20], df1[df1['m2'] == 1/10], df1[df1['m2'] == 1/5], df1[df1['m2'] == 1/3]\n",
    "y1 = [(df11.iloc[i]['S3a']) for i in range(len(df11))]\n",
    "y2 = [(df12.iloc[i]['S3a']) for i in range(len(df12))]\n",
    "y3 = [(df13.iloc[i]['S3a']) for i in range(len(df13))]\n",
    "y4 = [(df14.iloc[i]['S3a']) for i in range(len(df14))]\n",
    "\n",
    "z1 = [(df11.iloc[i]['S2a']) for i in range(len(df11))]\n",
    "z2 = [(df12.iloc[i]['S2a']) for i in range(len(df12))]\n",
    "z3 = [(df13.iloc[i]['S2a']) for i in range(len(df13))]\n",
    "z4 = [(df14.iloc[i]['S2a']) for i in range(len(df14))]\n",
    "\n",
    "f, (ax1,ax2) = plt.subplots(2,1,sharex=True)\n",
    "c1, c2, c3, c4 = 'orange','green','blue','purple'\n",
    "ax1.plot(delta,y1,color=c1,label=r'$\\tilde{m}_2=0$')\n",
    "ax1.plot(delta,y2,color=c2,label=r'$\\tilde{m}_2=1/10$')\n",
    "ax1.plot(delta,y3,color=c3,label=r'$\\tilde{m}_2=1/5$')\n",
    "ax1.plot(delta,y4,color=c4,label=r'$\\tilde{m}_2=1/3$')\n",
    "ax1.legend()\n",
    "# ax1.set_title(r\"$\\tilde{m}_1\\vec{e_1}+\\tilde{m}_2\\vec{e_2}+\\tilde{m}_3\\vec{e_3}$\")\n",
    "ax1.set_ylabel(\"fractional variation\")\n",
    "\n",
    "ax2.plot(delta,z1,color=c1,label=r'$\\tilde{m}_2=0$')\n",
    "ax2.plot(delta,z2,color=c2,label=r'$\\tilde{m}_2=1/10$')\n",
    "ax2.plot(delta,z3,color=c3,label=r'$\\tilde{m}_2=1/5$')\n",
    "ax2.plot(delta,z4,color=c4,label=r'$\\tilde{m}_2=1/3$')\n",
    "ax2.set_xlabel(r\"$\\eta$\")\n",
    "ax2.set_ylabel(\"fractional variation\")\n",
    "# ax2.set_title(r\"$a_1^{1/4}\\tilde{m}_1\\vec{e_1}+a_2^{1/4}\\tilde{m}_2\\vec{e_2}+a_3^{1/4}\\tilde{m}_3\\vec{e_3}$\")"
   ]
  },
  {
   "cell_type": "code",
   "execution_count": null,
   "id": "e9b59d6c",
   "metadata": {},
   "outputs": [],
   "source": [
    "df11, df12, df13, df14 = df1[df1['m2']<1/20], df1[df1['m2'] == 1/10], df1[df1['m2'] == 1/5], df1[df1['m2'] == 1/3]\n",
    "y1 = [(df11.iloc[i]['S2a']) for i in range(len(df11))]\n",
    "y2 = [(df12.iloc[i]['S2a']) for i in range(len(df12))]\n",
    "y3 = [(df13.iloc[i]['S2a']) for i in range(len(df13))]\n",
    "y4 = [(df14.iloc[i]['S2a']) for i in range(len(df14))]\n",
    "\n",
    "df21, df22, df23, df24 = df2[df2['m2']<1/20], df2[df2['m2'] == 1/10], df2[df2['m2'] == 1/5], df2[df2['m2'] == 1/3]\n",
    "z1 = [(df21.iloc[i]['S2a']) for i in range(len(df21))]\n",
    "z2 = [(df22.iloc[i]['S2a']) for i in range(len(df22))]\n",
    "z3 = [(df23.iloc[i]['S2a']) for i in range(len(df23))]\n",
    "z4 = [(df24.iloc[i]['S2a']) for i in range(len(df24))]\n",
    "\n",
    "f, (ax1,ax2) = plt.subplots(2,1,sharex=True,sharey=True)\n",
    "c1, c2, c3, c4 = 'orange','green','blue','purple'\n",
    "ax1.plot(delta,y1,color=c1,label=r'$\\tilde{m}_2=0$')\n",
    "ax1.plot(delta,y2,color=c2,label=r'$\\tilde{m}_2=1/10$')\n",
    "ax1.plot(delta,y3,color=c3,label=r'$\\tilde{m}_2=1/5$')\n",
    "ax1.plot(delta,y4,color=c4,label=r'$\\tilde{m}_2=1/3$')\n",
    "ax1.legend()\n",
    "# ax1.set_title(r\"$\\tilde{m}_1\\vec{e_1}+\\tilde{m}_2\\vec{e_2}+\\tilde{m}_3\\vec{e_3}$\")\n",
    "ax1.set_ylabel(\"fractional variation\")\n",
    "\n",
    "ax2.plot(delta,z1,color=c1,label=r'$\\tilde{m}_2=0$')\n",
    "ax2.plot(delta,z2,color=c2,label=r'$\\tilde{m}_2=1/10$')\n",
    "ax2.plot(delta,z3,color=c3,label=r'$\\tilde{m}_2=1/5$')\n",
    "ax2.plot(delta,z4,color=c4,label=r'$\\tilde{m}_2=1/3$')\n",
    "ax2.set_xlabel(r\"$\\eta$\")\n",
    "ax2.set_ylabel(\"fractional variation\")\n",
    "# ax2.set_title(r\"$a_1^{1/4}\\tilde{m}_1\\vec{e_1}+a_2^{1/4}\\tilde{m}_2\\vec{e_2}+a_3^{1/4}\\tilde{m}_3\\vec{e_3}$\")"
   ]
  },
  {
   "cell_type": "code",
   "execution_count": null,
   "id": "a2f7849b",
   "metadata": {},
   "outputs": [],
   "source": [
    "df11, df12, df13, df14 = df1[df1['m2']<1/20], df1[df1['m2'] == 1/10], df1[df1['m2'] == 1/5], df1[df1['m2'] == 1/3]\n",
    "y1 = [(df11.iloc[i]['S1a']) for i in range(len(df11))]\n",
    "y2 = [(df12.iloc[i]['S1a']) for i in range(len(df12))]\n",
    "y3 = [(df13.iloc[i]['S1a']) for i in range(len(df13))]\n",
    "y4 = [(df14.iloc[i]['S1a']) for i in range(len(df14))]\n",
    "\n",
    "df21, df22, df23, df24 = df2[df2['m2']<1/20], df2[df2['m2'] == 1/10], df2[df2['m2'] == 1/5], df2[df2['m2'] == 1/3]\n",
    "z1 = [(df21.iloc[i]['S1a']) for i in range(len(df21))]\n",
    "z2 = [(df22.iloc[i]['S1a']) for i in range(len(df22))]\n",
    "z3 = [(df23.iloc[i]['S1a']) for i in range(len(df23))]\n",
    "z4 = [(df24.iloc[i]['S1a']) for i in range(len(df24))]\n",
    "\n",
    "f, (ax1,ax2) = plt.subplots(2,1,sharex=True,sharey=True)\n",
    "c1, c2, c3, c4 = 'orange','green','blue','purple'\n",
    "ax1.plot(delta,y1,color=c1,label=r'$\\tilde{m}_2=0$')\n",
    "ax1.plot(delta,y2,color=c2,label=r'$\\tilde{m}_2=1/10$')\n",
    "ax1.plot(delta,y3,color=c3,label=r'$\\tilde{m}_2=1/5$')\n",
    "ax1.plot(delta,y4,color=c4,label=r'$\\tilde{m}_2=1/3$')\n",
    "ax1.legend()\n",
    "ax1.set_title(r\"$\\chi_{23}\\vec{e_{23}}-\\chi_{12}\\vec{e_{12}}$\")\n",
    "ax1.set_ylabel(\"fractional variation\")\n",
    "\n",
    "ax2.plot(delta,z1,color=c1,label=r'$\\tilde{m}_2=0$')\n",
    "ax2.plot(delta,z2,color=c2,label=r'$\\tilde{m}_2=1/10$')\n",
    "ax2.plot(delta,z3,color=c3,label=r'$\\tilde{m}_2=1/5$')\n",
    "ax2.plot(delta,z4,color=c4,label=r'$\\tilde{m}_2=1/3$')\n",
    "ax2.set_xlabel(r\"$\\eta$\")\n",
    "ax2.set_title(r\"$\\chi_{23}\\vec{e_{23}}_{rescaled}-\\chi_{12}\\vec{e_{12}}_{rescaled}$\")\n",
    "ax2.set_ylabel(\"fractional variation\")"
   ]
  },
  {
   "cell_type": "code",
   "execution_count": null,
   "id": "58a65ee5",
   "metadata": {},
   "outputs": [],
   "source": []
  }
 ],
 "metadata": {
  "kernelspec": {
   "display_name": "Python 3 (ipykernel)",
   "language": "python",
   "name": "python3"
  },
  "language_info": {
   "codemirror_mode": {
    "name": "ipython",
    "version": 3
   },
   "file_extension": ".py",
   "mimetype": "text/x-python",
   "name": "python",
   "nbconvert_exporter": "python",
   "pygments_lexer": "ipython3",
   "version": "3.10.9"
  }
 },
 "nbformat": 4,
 "nbformat_minor": 5
}
