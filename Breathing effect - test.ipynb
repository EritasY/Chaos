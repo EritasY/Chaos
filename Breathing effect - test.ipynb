{
 "cells": [
  {
   "cell_type": "code",
   "execution_count": 1,
   "id": "f1925b04",
   "metadata": {},
   "outputs": [],
   "source": [
    "import pandas as pd\n",
    "import numpy as np\n",
    "import rebound\n",
    "import matplotlib.pyplot as plt\n",
    "from matplotlib import colors\n",
    "from rebound.interruptible_pool import InterruptiblePool\n",
    "import scipy.optimize as opt"
   ]
  },
  {
   "cell_type": "code",
   "execution_count": 2,
   "id": "138ad90c",
   "metadata": {},
   "outputs": [],
   "source": [
    "from celmech.disturbing_function import df_coefficient_Ctilde\n",
    "from celmech.disturbing_function import evaluate_df_coefficient_dict\n",
    "from celmech.disturbing_function import laplace_b as b"
   ]
  },
  {
   "cell_type": "code",
   "execution_count": 3,
   "id": "72a2d6e1",
   "metadata": {},
   "outputs": [],
   "source": [
    "def b1(alpha):\n",
    "    return b(1.5, 1, 0, alpha)\n",
    "def b2(alpha):\n",
    "    return b(1.5, 2, 0, alpha)"
   ]
  },
  {
   "cell_type": "code",
   "execution_count": 4,
   "id": "632903cb",
   "metadata": {},
   "outputs": [],
   "source": [
    "def StoG(mass, amp, phi):\n",
    "    m1, m3 = mass\n",
    "    A1, A2, A3 = amp\n",
    "    p1, p2, p3 = phi\n",
    "    \n",
    "    e1_x = 1/np.sqrt(m1)*(np.sqrt(m1/(m1+m3))*A1*np.cos(p1) - np.sqrt(m3/(m1+m3))*A2*np.cos(p2))\n",
    "    e2_x = 1/np.sqrt(m1+m3)*A1*np.cos(p1) - A3*np.cos(p3)\n",
    "    e3_x = 1/np.sqrt(m3)*(np.sqrt(m3/(m1+m3))*A1*np.cos(p1) + np.sqrt(m1/(m1+m3))*A2*np.cos(p2))\n",
    "    \n",
    "    e1_y = 1/np.sqrt(m1)*(np.sqrt(m1/(m1+m3))*A1*np.sin(p1) - np.sqrt(m3/(m1+m3))*A2*np.sin(p2))\n",
    "    e2_y = 1/np.sqrt(m1+m3)*A1*np.sin(p1) - A3*np.sin(p3)\n",
    "    e3_y = 1/np.sqrt(m3)*(np.sqrt(m3/(m1+m3))*A1*np.sin(p1) + np.sqrt(m1/(m1+m3))*A2*np.sin(p2))\n",
    "    \n",
    "    e1, e2, e3 = np.sqrt(e1_x**2 + e1_y**2), np.sqrt(e2_x**2 + e2_y**2), np.sqrt(e3_x**2 + e3_y**2)\n",
    "    pom1, pom2, pom3 = np.arctan2(e1_y,e1_x), np.arctan2(e2_y,e2_x), np.arctan2(e3_y,e3_x)\n",
    "    \n",
    "    return (e1, e2, e3), (pom1, pom2, pom3)"
   ]
  },
  {
   "cell_type": "code",
   "execution_count": 5,
   "id": "4b29ad75",
   "metadata": {},
   "outputs": [],
   "source": [
    "def GtoS(alpha, mass, ecc, pomega):\n",
    "    alpha12, alpha23 = alpha\n",
    "    alpha13 = alpha12*alpha23\n",
    "    m1, m3 = mass\n",
    "    ecc1, ecc2, ecc3 = ecc\n",
    "    pom1, pom2, pom3 = pomega\n",
    "\n",
    "    e1_x, e2_x, e3_x = ecc1*np.cos(pom1), ecc2*np.cos(pom2), ecc3*np.cos(pom3)\n",
    "    e1_y, e2_y, e3_y = ecc1*np.sin(pom1), ecc2*np.sin(pom2), ecc3*np.sin(pom3)\n",
    "    \n",
    "    amp1 = 1/np.sqrt(m1+m3) * np.sqrt((m1*e1_y + m3*e3_y)**2 + (m1*e1_x + m3*e3_x)**2)\n",
    "    amp2 = np.sqrt(m1*m3/(m1+m3)) * np.sqrt((e3_y-e1_y)**2 + (e3_x-e1_x)**2)\n",
    "    amp3 = 1/(m1+m3) * np.sqrt((m3*(e3_y-e2_y)-m1*(e2_y-e1_y))**2+(m3*(e3_x-e2_x)-m1*(e2_x-e1_x))**2)\n",
    "    \n",
    "    phase1 = np.arctan2(m1*e1_y+m3*e3_y, m1*e1_x+m3*e3_x)\n",
    "    phase2 = np.arctan2(e3_y-e1_y, e3_x-e1_x)\n",
    "    phase3 = np.arctan2(m3*(e3_y-e2_y)-m1*(e2_y-e1_y), m3*(e3_x-e2_x)-m1*(e2_x-e1_x))\n",
    "    \n",
    "    omega2 = (alpha12+alpha13+alpha23)/3 * (m1+m3)/(2*(1-alpha13)**2)\n",
    "    omega3 = (alpha12+alpha13+alpha23)/3 * (m1/(2*(1-alpha12)**2) + m3/(2*(1-alpha23)**2))\n",
    "    \n",
    "    return amp1, amp2, amp3, phase1, phase2, phase3, omega2, omega3"
   ]
  },
  {
   "cell_type": "code",
   "execution_count": 6,
   "id": "90260877",
   "metadata": {},
   "outputs": [],
   "source": [
    "# set A2 to zero\n",
    "def breathingON1(mass, A3_p):\n",
    "    m1, m3 = mass\n",
    "    \n",
<<<<<<< HEAD
    "    x1 = np.sqrt(m3/(m1*(m1+m3)))\n",
    "    x2 = 1\n",
    "    y1 = np.sqrt(m1/(m3*(m1+m3)))\n",
    "    y2 = 1\n",
    "\n",
    "    if m1==m3:\n",
=======
    "    x1 = np.cos(phi)*np.sqrt(m3/(m1*(m1+m3))) - np.sin(phi)*np.sqrt(m2/(m_tot*(m1+m3))) - np.sin(phi)*np.sqrt((m1+m3)/(m2*m_tot))\n",
    "    x2 = np.sin(phi)*np.sqrt(m3/(m1*(m1+m3))) + np.cos(phi)*np.sqrt(m2/(m_tot*(m1+m3))) + np.cos(phi)*np.sqrt((m1+m3)/(m2*m_tot))\n",
    "    y1 = np.cos(phi)*np.sqrt(m1/(m3*(m1+m3))) + np.sin(phi)*np.sqrt(m2/(m_tot*(m1+m3))) + np.sin(phi)*np.sqrt((m1+m3)/(m2*m_tot))\n",
    "    y2 = -np.sin(phi)*np.sqrt(m1/(m3*(m1+m3))) + np.cos(phi)*np.sqrt(m2/(m_tot*(m1+m3))) + np.cos(phi)*np.sqrt((m1+m3)/(m2*m_tot))\n",
    "    \n",
    "    if (np.fabs(np.round(x1))==np.fabs(np.round(y1))) and (np.fabs(np.round(x2))==np.fabs(np.round(y2))):\n",
>>>>>>> 6902a43a49fd40628950a3adc39cb3460baa36ac
    "        A3_b = A3_p / np.sqrt(2)\n",
    "        A2_b = A3_b*x2/x1\n",
    "        theta = np.pi/2\n",
    "    else:\n",
    "        def A2(theta):\n",
<<<<<<< HEAD
    "            return np.fabs(2*A3_p*x2*y2*np.cos(theta) / np.sqrt((x1*y2-x2*y1)**2 + 4*x1*x2*y1*y2*(np.cos(theta))**2))\n",
    "        def A3(theta):\n",
    "            return np.fabs(A3_p*(x1*y2-x2*y1) / np.sqrt((x1*y2-x2*y1)**2 + 4*x1*x2*y1*y2*(np.cos(theta))**2))\n",
=======
    "            if x1*y2 - x2*y1 < 0:\n",
    "                return -2*A3_p*x2*y2*np.cos(theta) / np.sqrt((x1*y2-x2*y1)**2 + 4*x1*x2*y1*y2*(np.cos(theta))**2)\n",
    "            else:\n",
    "                return 2*A3_p*x2*y2*np.cos(theta) / np.sqrt((x1*y2-x2*y1)**2 + 4*x1*x2*y1*y2*(np.cos(theta))**2)\n",
    "        \n",
    "        def A3(theta):\n",
    "            if x1*y2 - x2*y1 < 0:\n",
    "                return -A3_p*(x1*y2-x2*y1) / np.sqrt((x1*y2-x2*y1)**2 + 4*x1*x2*y1*y2*(np.cos(theta))**2)\n",
    "            else:\n",
    "                return A3_p*(x1*y2-x2*y1) / np.sqrt((x1*y2-x2*y1)**2 + 4*x1*x2*y1*y2*(np.cos(theta))**2)\n",
    "        \n",
>>>>>>> 6902a43a49fd40628950a3adc39cb3460baa36ac
    "        def e21_min(theta):\n",
    "            return -(x1*A2(theta) + x2*A3(theta))**2\n",
    "        def e32_min(theta):\n",
    "            return -(y1*A2(theta) + y2*A3(theta))**2\n",
    "        \n",
<<<<<<< HEAD
    "        minimizer_kwargs = dict(method=\"L-BFGS-B\", bounds=[(0,2*np.pi)])\n",
=======
    "        minimizer_kwargs = {\"method\":\"L-BFGS-B\", \"bounds\":[(0,2*np.pi)]} #\"constraints\":{'type':'ineq','fun': A2}\n",
>>>>>>> 6902a43a49fd40628950a3adc39cb3460baa36ac
    "        result21 = opt.basinhopping(e21_min, x0=0, minimizer_kwargs=minimizer_kwargs, niter=50)\n",
    "        result32 = opt.basinhopping(e32_min, x0=0, minimizer_kwargs=minimizer_kwargs, niter=50)\n",
    "        \n",
    "        if np.fabs(result21.fun) > np.fabs(result32.fun):\n",
    "            theta = result21.x\n",
    "            A2_b, A3_b = A2(theta), A3(theta)\n",
    "        else:\n",
    "            theta = result32.x\n",
    "            A2_b, A3_b = A2(theta), A3(theta)\n",
    "    \n",
    "    return A2_b, A3_b, theta"
   ]
  },
  {
   "cell_type": "code",
   "execution_count": 7,
   "id": "5f18aa82",
   "metadata": {},
   "outputs": [],
   "source": [
<<<<<<< HEAD
    "# set A3 to zero\n",
    "def breathingON2(mass, A2_p):\n",
    "    m1, m3 = mass\n",
    "    \n",
    "    x1 = np.sqrt(m3/(m1*(m1+m3)))\n",
    "    x2 = 1\n",
    "    y1 = np.sqrt(m1/(m3*(m1+m3)))\n",
    "    y2 = 1\n",
    "\n",
    "    if m1==m3:\n",
    "        A2_b = A2_p / np.sqrt(2)\n",
    "        A3_b = A2_b*x1/x2\n",
    "        theta = np.pi/2\n",
    "    else:\n",
    "        def A2(theta):\n",
    "            return np.fabs(A2_p*(x1*y2-x2*y1) / np.sqrt((x1*y2-x2*y1)**2 + 4*x1*x2*y1*y2*(np.cos(theta))**2))\n",
    "        def A3(theta):\n",
    "            return np.fabs(2*A2_p*x1*y1*np.cos(theta) / np.sqrt((x1*y2-x2*y1)**2 + 4*x1*x2*y1*y2*(np.cos(theta))**2))\n",
    "        def e21_min(theta):\n",
    "            return -(x1*A2(theta) + x2*A3(theta))**2\n",
    "        def e32_min(theta):\n",
    "            return -(y1*A2(theta) + y2*A3(theta))**2\n",
    "        \n",
    "        minimizer_kwargs = dict(method=\"L-BFGS-B\", bounds=[(0,2*np.pi)])\n",
    "        result21 = opt.basinhopping(e21_min, x0=0, minimizer_kwargs=minimizer_kwargs, niter=50)\n",
    "        result32 = opt.basinhopping(e32_min, x0=0, minimizer_kwargs=minimizer_kwargs, niter=50)\n",
    "        \n",
    "        if np.fabs(result21.fun) > np.fabs(result32.fun):\n",
    "            theta = result21.x\n",
    "            A2_b, A3_b = A2(theta), A3(theta)\n",
    "        else:\n",
    "            theta = result32.x\n",
    "            A2_b, A3_b = A2(theta), A3(theta)\n",
    "    \n",
    "    return A2_b, A3_b, theta"
=======
    "MASS = 2e-6, 1e-6, 1e-6\n",
    "POMEGA = 0, 0, np.pi\n",
    "ECC = 0.05, 0.05, 0.05"
>>>>>>> 6902a43a49fd40628950a3adc39cb3460baa36ac
   ]
  },
  {
   "cell_type": "code",
   "execution_count": 8,
   "id": "77e5ec16",
   "metadata": {},
   "outputs": [],
   "source": [
    "MASS = 1e-7, 1e-7\n",
    "POMEGA = 0, 0, np.pi/3\n",
    "ECC = 0.02, 0.02, 0.02"
   ]
  },
  {
   "cell_type": "code",
   "execution_count": 9,
   "id": "a6b6cb2d",
   "metadata": {},
   "outputs": [],
   "source": [
    "def simNoBreathing(alpha):\n",
    "    alpha12, alpha23 = alpha\n",
    "    P1, P2, P3 = alpha12**(3/2), 1, 1/alpha23**(3/2)\n",
    "    mu1, mu3 = MASS\n",
    "#     ECC = 0.2*(1-alpha12), 0.2*(1-(alpha12+alpha23)/2), 0.2*(1-alpha23)\n",
    "    \n",
    "    amp1, amp2, amp3, phase1, phase2, phase3, omega2, omega3,  = GtoS(alpha, MASS, ECC, POMEGA)\n",
    "    ecc_nb, pomega_nb = StoG(MASS, (amp1, 0, amp3), (phase1, phase2, phase3))\n",
    "    ecc1, ecc2, ecc3 = ecc_nb\n",
    "    pomega1, pomega2, pomega3 = pomega_nb\n",
    "    \n",
    "    # start simulation\n",
    "    sim = rebound.Simulation()\n",
    "    sim.units = ('yr', 'AU', 'Msun')\n",
    "\n",
    "    # add star, planet 1, planet 2\n",
    "    sim.add(m=1.)\n",
    "    sim.add(m=mu1, P=P1, e=ecc1, pomega=pomega1)\n",
    "    sim.add(P=P2, e=ecc2, pomega=pomega2)\n",
    "    sim.add(m=mu3, P=P3, e=ecc3, pomega=pomega3)\n",
    "    ps = sim.particles\n",
    "    ps[1].r = ps[1].a*(ps[1].m/3/ps[0].m)**(1/3)\n",
    "    ps[2].r = ps[2].a*(ps[2].m/3/ps[0].m)**(1/3)\n",
    "\n",
    "    sim.move_to_com()\n",
    "    sim.integrator = \"whfast\"\n",
    "    sim.dt = sim.particles[1].P/20\n",
    "    sim.collision = \"direct\"\n",
    "    \n",
    "    time = np.logspace(0,6,num=400)\n",
    "    e21, e32 = np.zeros(400), np.zeros(400)\n",
    "    for i, T in enumerate(time):\n",
    "        try:\n",
    "            sim.integrate(T, exact_finish_time=0)\n",
    "            info_1 = sim.particles[1].calculate_orbit(primary=sim.particles[0])\n",
    "            info_2 = sim.particles[2].calculate_orbit(primary=sim.particles[0])\n",
    "            info_3 = sim.particles[3].calculate_orbit(primary=sim.particles[0])\n",
    "            p1, p2, p3, e1, e2, e3 = info_1.pomega, info_2.pomega, info_3.pomega, info_1.e, info_2.e, info_3.e\n",
    "            e1_x, e1_y = e1*np.cos(p1), e1*np.sin(p1)\n",
    "            e2_x, e2_y = e2*np.cos(p2), e2*np.sin(p2)\n",
    "            e3_x, e3_y = e3*np.cos(p3), e3*np.sin(p3)  \n",
    "            \n",
    "            e21[i] = np.sqrt((e2_x-e1_x)**2 + (e2_y-e1_y)**2)\n",
    "            e32[i] = np.sqrt((e3_x-e2_x)**2 + (e3_y-e2_y)**2)\n",
    "        except rebound.Collision:\n",
    "            break\n",
    "    return np.max(e21)/e21[0]"
   ]
  },
  {
   "cell_type": "code",
   "execution_count": 10,
   "id": "c31d1647",
   "metadata": {},
   "outputs": [],
   "source": [
    "def simWithBreathing(alpha):\n",
    "    alpha12, alpha23 = alpha\n",
    "    P1, P2, P3 = alpha12**(3/2), 1, 1/alpha23**(3/2)\n",
    "    mu1, mu3 = MASS\n",
    "#     ECC = 0.2*(1-alpha12), 0.2*(1-(alpha12+alpha23)/2), 0.2*(1-alpha23)\n",
    "    \n",
    "    amp1, amp2, amp3, phase1, phase2, phase3, omega2, omega3 = GtoS(alpha, MASS, ECC, POMEGA)   \n",
    "    amp2_wb, amp3_wb, theta = breathingON1(MASS, amp3)\n",
    "    ecc_wb, pomega_wb = StoG(MASS, (amp1, amp2_wb, amp3_wb), (phase1, phase2, phase2+theta))\n",
    "    \n",
    "    ecc1, ecc2, ecc3 = ecc_wb\n",
    "    pomega1, pomega2, pomega3 = pomega_wb\n",
    "    \n",
    "    # start simulation\n",
    "    sim = rebound.Simulation()\n",
    "    sim.units = ('yr', 'AU', 'Msun')\n",
    "\n",
    "    # add star, planet 1, planet 2\n",
    "    sim.add(m=1.)\n",
    "    sim.add(m=mu1, P=P1, e=ecc1, pomega=pomega1)\n",
    "    sim.add(P=P2, e=ecc2, pomega=pomega2)\n",
    "    sim.add(m=mu3, P=P3, e=ecc3, pomega=pomega3)\n",
    "    ps = sim.particles\n",
    "    ps[1].r = ps[1].a*(ps[1].m/3/ps[0].m)**(1/3)\n",
    "    ps[2].r = ps[2].a*(ps[2].m/3/ps[0].m)**(1/3)\n",
    "\n",
    "    sim.move_to_com()\n",
    "    sim.integrator = \"whfast\"\n",
    "    sim.dt = sim.particles[1].P/20\n",
    "    sim.collision = \"direct\"\n",
    "    \n",
    "    time = np.logspace(0,6,num=400)\n",
    "    e21, e32 = np.zeros(400), np.zeros(400)\n",
    "    for i, T in enumerate(time):\n",
    "        try:\n",
    "            sim.integrate(T, exact_finish_time=0)\n",
    "            info_1 = sim.particles[1].calculate_orbit(primary=sim.particles[0])\n",
    "            info_2 = sim.particles[2].calculate_orbit(primary=sim.particles[0])\n",
    "            info_3 = sim.particles[3].calculate_orbit(primary=sim.particles[0])\n",
    "            p1, p2, p3, e1, e2, e3 = info_1.pomega, info_2.pomega, info_3.pomega, info_1.e, info_2.e, info_3.e\n",
    "            e1_x, e1_y = e1*np.cos(p1), e1*np.sin(p1)\n",
    "            e2_x, e2_y = e2*np.cos(p2), e2*np.sin(p2)\n",
    "            e3_x, e3_y = e3*np.cos(p3), e3*np.sin(p3)  \n",
    "            \n",
    "            e21[i] = np.sqrt((e2_x-e1_x)**2 + (e2_y-e1_y)**2)\n",
    "            e32[i] = np.sqrt((e3_x-e2_x)**2 + (e3_y-e2_y)**2)\n",
    "        except rebound.Collision:\n",
    "            break\n",
    "    return np.max(e21)/e21[0]"
   ]
  },
  {
   "cell_type": "code",
   "execution_count": 11,
   "id": "77a99f39",
   "metadata": {},
   "outputs": [],
   "source": [
    "# time, e21_nb, e32_nb = simNoBreathing((0.91,0.91))\n",
    "# time, e21_wb, e32_wb = simWithBreathing((0.91,0.91))"
   ]
  },
  {
   "cell_type": "code",
   "execution_count": 12,
   "id": "c8994c55",
   "metadata": {},
   "outputs": [],
   "source": [
    "# plt.plot(time, e21_nb, color='darkorange', linestyle='-', label='$e_{12,OFF}$')\n",
    "# plt.plot(time, e32_nb, color='darkcyan', linestyle='-', label='$e_{23,OFF}$')\n",
    "# plt.plot(time, e21_wb, color='darkorange', linestyle=':', label='$e_{12,ON}$')\n",
    "# plt.plot(time, e32_wb, color='darkcyan', linestyle=':', label='$e_{23,ON}$')\n",
    "# plt.legend()"
   ]
  },
  {
   "cell_type": "code",
   "execution_count": 13,
   "id": "eac18456",
   "metadata": {},
   "outputs": [],
   "source": [
    "Ngrid_x = 10\n",
    "Ngrid_y = 10\n",
    "\n",
<<<<<<< HEAD
    "alpha12 = np.linspace(0.75,0.9,Ngrid_x)\n",
    "alpha23 = np.linspace(0.75,0.9,Ngrid_y)\n",
=======
    "alpha12 = np.linspace(0.8,0.9,Ngrid_x)\n",
    "alpha23 = np.linspace(0.8,0.9,Ngrid_y)\n",
>>>>>>> 6902a43a49fd40628950a3adc39cb3460baa36ac
    "parameters = [[x,y] for x in alpha12 for y in alpha23]"
   ]
  },
  {
   "cell_type": "code",
   "execution_count": 14,
   "id": "7d371527",
   "metadata": {},
   "outputs": [
    {
     "name": "stderr",
     "output_type": "stream",
     "text": [
      "/mnt/ssd/miniconda3/envs/qiyang/lib/python3.10/site-packages/rebound/particle.py:163: FutureWarning: elementwise comparison failed; returning scalar instead, but in the future will perform elementwise comparison\n",
      "  if pomega == \"uniform\":\n",
      "/mnt/ssd/miniconda3/envs/qiyang/lib/python3.10/site-packages/rebound/particle.py:163: FutureWarning: elementwise comparison failed; returning scalar instead, but in the future will perform elementwise comparison\n",
      "  if pomega == \"uniform\":\n",
      "/mnt/ssd/miniconda3/envs/qiyang/lib/python3.10/site-packages/rebound/particle.py:163: FutureWarning: elementwise comparison failed; returning scalar instead, but in the future will perform elementwise comparison\n",
      "  if pomega == \"uniform\":\n",
      "/mnt/ssd/miniconda3/envs/qiyang/lib/python3.10/site-packages/rebound/particle.py:163: FutureWarning: elementwise comparison failed; returning scalar instead, but in the future will perform elementwise comparison\n",
      "  if pomega == \"uniform\":\n",
      "/mnt/ssd/miniconda3/envs/qiyang/lib/python3.10/site-packages/rebound/particle.py:163: FutureWarning: elementwise comparison failed; returning scalar instead, but in the future will perform elementwise comparison\n",
      "  if pomega == \"uniform\":\n",
      "/mnt/ssd/miniconda3/envs/qiyang/lib/python3.10/site-packages/rebound/particle.py:163: FutureWarning: elementwise comparison failed; returning scalar instead, but in the future will perform elementwise comparison\n",
      "  if pomega == \"uniform\":\n",
      "/mnt/ssd/miniconda3/envs/qiyang/lib/python3.10/site-packages/rebound/particle.py:163: FutureWarning: elementwise comparison failed; returning scalar instead, but in the future will perform elementwise comparison\n",
      "  if pomega == \"uniform\":\n",
      "/mnt/ssd/miniconda3/envs/qiyang/lib/python3.10/site-packages/rebound/particle.py:163: FutureWarning: elementwise comparison failed; returning scalar instead, but in the future will perform elementwise comparison\n",
      "  if pomega == \"uniform\":\n",
      "/mnt/ssd/miniconda3/envs/qiyang/lib/python3.10/site-packages/rebound/particle.py:163: FutureWarning: elementwise comparison failed; returning scalar instead, but in the future will perform elementwise comparison\n",
      "  if pomega == \"uniform\":\n",
      "/mnt/ssd/miniconda3/envs/qiyang/lib/python3.10/site-packages/rebound/particle.py:163: FutureWarning: elementwise comparison failed; returning scalar instead, but in the future will perform elementwise comparison\n",
      "  if pomega == \"uniform\":\n",
      "/mnt/ssd/miniconda3/envs/qiyang/lib/python3.10/site-packages/rebound/particle.py:163: FutureWarning: elementwise comparison failed; returning scalar instead, but in the future will perform elementwise comparison\n",
      "  if pomega == \"uniform\":\n",
      "/mnt/ssd/miniconda3/envs/qiyang/lib/python3.10/site-packages/rebound/particle.py:163: FutureWarning: elementwise comparison failed; returning scalar instead, but in the future will perform elementwise comparison\n",
      "  if pomega == \"uniform\":\n",
      "/mnt/ssd/miniconda3/envs/qiyang/lib/python3.10/site-packages/rebound/particle.py:163: FutureWarning: elementwise comparison failed; returning scalar instead, but in the future will perform elementwise comparison\n",
      "  if pomega == \"uniform\":\n",
      "/mnt/ssd/miniconda3/envs/qiyang/lib/python3.10/site-packages/rebound/particle.py:163: FutureWarning: elementwise comparison failed; returning scalar instead, but in the future will perform elementwise comparison\n",
      "  if pomega == \"uniform\":\n",
      "/mnt/ssd/miniconda3/envs/qiyang/lib/python3.10/site-packages/rebound/particle.py:163: FutureWarning: elementwise comparison failed; returning scalar instead, but in the future will perform elementwise comparison\n",
      "  if pomega == \"uniform\":\n",
      "/mnt/ssd/miniconda3/envs/qiyang/lib/python3.10/site-packages/rebound/particle.py:163: FutureWarning: elementwise comparison failed; returning scalar instead, but in the future will perform elementwise comparison\n",
      "  if pomega == \"uniform\":\n",
      "/mnt/ssd/miniconda3/envs/qiyang/lib/python3.10/site-packages/rebound/particle.py:163: FutureWarning: elementwise comparison failed; returning scalar instead, but in the future will perform elementwise comparison\n",
      "  if pomega == \"uniform\":\n",
      "/mnt/ssd/miniconda3/envs/qiyang/lib/python3.10/site-packages/rebound/particle.py:163: FutureWarning: elementwise comparison failed; returning scalar instead, but in the future will perform elementwise comparison\n",
      "  if pomega == \"uniform\":\n",
      "/mnt/ssd/miniconda3/envs/qiyang/lib/python3.10/site-packages/rebound/particle.py:163: FutureWarning: elementwise comparison failed; returning scalar instead, but in the future will perform elementwise comparison\n",
      "  if pomega == \"uniform\":\n",
      "/mnt/ssd/miniconda3/envs/qiyang/lib/python3.10/site-packages/rebound/particle.py:163: FutureWarning: elementwise comparison failed; returning scalar instead, but in the future will perform elementwise comparison\n",
      "  if pomega == \"uniform\":\n",
      "/mnt/ssd/miniconda3/envs/qiyang/lib/python3.10/site-packages/rebound/particle.py:163: FutureWarning: elementwise comparison failed; returning scalar instead, but in the future will perform elementwise comparison\n",
      "  if pomega == \"uniform\":\n",
      "/mnt/ssd/miniconda3/envs/qiyang/lib/python3.10/site-packages/rebound/particle.py:163: FutureWarning: elementwise comparison failed; returning scalar instead, but in the future will perform elementwise comparison\n",
      "  if pomega == \"uniform\":\n",
      "/mnt/ssd/miniconda3/envs/qiyang/lib/python3.10/site-packages/rebound/particle.py:163: FutureWarning: elementwise comparison failed; returning scalar instead, but in the future will perform elementwise comparison\n",
      "  if pomega == \"uniform\":\n",
      "/mnt/ssd/miniconda3/envs/qiyang/lib/python3.10/site-packages/rebound/particle.py:163: FutureWarning: elementwise comparison failed; returning scalar instead, but in the future will perform elementwise comparison\n",
      "  if pomega == \"uniform\":\n",
      "/mnt/ssd/miniconda3/envs/qiyang/lib/python3.10/site-packages/rebound/particle.py:163: FutureWarning: elementwise comparison failed; returning scalar instead, but in the future will perform elementwise comparison\n",
      "  if pomega == \"uniform\":\n",
      "/mnt/ssd/miniconda3/envs/qiyang/lib/python3.10/site-packages/rebound/particle.py:163: FutureWarning: elementwise comparison failed; returning scalar instead, but in the future will perform elementwise comparison\n",
      "  if pomega == \"uniform\":\n",
      "/mnt/ssd/miniconda3/envs/qiyang/lib/python3.10/site-packages/rebound/particle.py:163: FutureWarning: elementwise comparison failed; returning scalar instead, but in the future will perform elementwise comparison\n",
      "  if pomega == \"uniform\":\n",
      "/mnt/ssd/miniconda3/envs/qiyang/lib/python3.10/site-packages/rebound/particle.py:163: FutureWarning: elementwise comparison failed; returning scalar instead, but in the future will perform elementwise comparison\n",
      "  if pomega == \"uniform\":\n",
      "/mnt/ssd/miniconda3/envs/qiyang/lib/python3.10/site-packages/rebound/particle.py:163: FutureWarning: elementwise comparison failed; returning scalar instead, but in the future will perform elementwise comparison\n",
      "  if pomega == \"uniform\":\n",
      "/mnt/ssd/miniconda3/envs/qiyang/lib/python3.10/site-packages/rebound/particle.py:163: FutureWarning: elementwise comparison failed; returning scalar instead, but in the future will perform elementwise comparison\n",
      "  if pomega == \"uniform\":\n",
      "/mnt/ssd/miniconda3/envs/qiyang/lib/python3.10/site-packages/rebound/particle.py:163: FutureWarning: elementwise comparison failed; returning scalar instead, but in the future will perform elementwise comparison\n",
      "  if pomega == \"uniform\":\n",
      "/mnt/ssd/miniconda3/envs/qiyang/lib/python3.10/site-packages/rebound/particle.py:163: FutureWarning: elementwise comparison failed; returning scalar instead, but in the future will perform elementwise comparison\n",
      "  if pomega == \"uniform\":\n",
      "/mnt/ssd/miniconda3/envs/qiyang/lib/python3.10/site-packages/rebound/particle.py:163: FutureWarning: elementwise comparison failed; returning scalar instead, but in the future will perform elementwise comparison\n",
      "  if pomega == \"uniform\":\n",
      "/mnt/ssd/miniconda3/envs/qiyang/lib/python3.10/site-packages/rebound/particle.py:163: FutureWarning: elementwise comparison failed; returning scalar instead, but in the future will perform elementwise comparison\n",
      "  if pomega == \"uniform\":\n",
      "/mnt/ssd/miniconda3/envs/qiyang/lib/python3.10/site-packages/rebound/particle.py:163: FutureWarning: elementwise comparison failed; returning scalar instead, but in the future will perform elementwise comparison\n",
      "  if pomega == \"uniform\":\n"
     ]
    },
    {
     "name": "stderr",
     "output_type": "stream",
     "text": [
      "/mnt/ssd/miniconda3/envs/qiyang/lib/python3.10/site-packages/rebound/particle.py:163: FutureWarning: elementwise comparison failed; returning scalar instead, but in the future will perform elementwise comparison\n",
      "  if pomega == \"uniform\":\n",
      "/mnt/ssd/miniconda3/envs/qiyang/lib/python3.10/site-packages/rebound/particle.py:163: FutureWarning: elementwise comparison failed; returning scalar instead, but in the future will perform elementwise comparison\n",
      "  if pomega == \"uniform\":\n",
      "/mnt/ssd/miniconda3/envs/qiyang/lib/python3.10/site-packages/rebound/particle.py:163: FutureWarning: elementwise comparison failed; returning scalar instead, but in the future will perform elementwise comparison\n",
      "  if pomega == \"uniform\":\n",
      "/mnt/ssd/miniconda3/envs/qiyang/lib/python3.10/site-packages/rebound/particle.py:163: FutureWarning: elementwise comparison failed; returning scalar instead, but in the future will perform elementwise comparison\n",
      "  if pomega == \"uniform\":\n",
      "/mnt/ssd/miniconda3/envs/qiyang/lib/python3.10/site-packages/rebound/particle.py:163: FutureWarning: elementwise comparison failed; returning scalar instead, but in the future will perform elementwise comparison\n",
      "  if pomega == \"uniform\":\n",
      "/mnt/ssd/miniconda3/envs/qiyang/lib/python3.10/site-packages/rebound/particle.py:163: FutureWarning: elementwise comparison failed; returning scalar instead, but in the future will perform elementwise comparison\n",
      "  if pomega == \"uniform\":\n",
      "/mnt/ssd/miniconda3/envs/qiyang/lib/python3.10/site-packages/rebound/particle.py:163: FutureWarning: elementwise comparison failed; returning scalar instead, but in the future will perform elementwise comparison\n",
      "  if pomega == \"uniform\":\n",
      "/mnt/ssd/miniconda3/envs/qiyang/lib/python3.10/site-packages/rebound/particle.py:163: FutureWarning: elementwise comparison failed; returning scalar instead, but in the future will perform elementwise comparison\n",
      "  if pomega == \"uniform\":\n",
      "/mnt/ssd/miniconda3/envs/qiyang/lib/python3.10/site-packages/rebound/particle.py:163: FutureWarning: elementwise comparison failed; returning scalar instead, but in the future will perform elementwise comparison\n",
      "  if pomega == \"uniform\":\n",
      "/mnt/ssd/miniconda3/envs/qiyang/lib/python3.10/site-packages/rebound/particle.py:163: FutureWarning: elementwise comparison failed; returning scalar instead, but in the future will perform elementwise comparison\n",
      "  if pomega == \"uniform\":\n",
      "/mnt/ssd/miniconda3/envs/qiyang/lib/python3.10/site-packages/rebound/particle.py:163: FutureWarning: elementwise comparison failed; returning scalar instead, but in the future will perform elementwise comparison\n",
      "  if pomega == \"uniform\":\n",
      "/mnt/ssd/miniconda3/envs/qiyang/lib/python3.10/site-packages/rebound/particle.py:163: FutureWarning: elementwise comparison failed; returning scalar instead, but in the future will perform elementwise comparison\n",
      "  if pomega == \"uniform\":\n",
      "/mnt/ssd/miniconda3/envs/qiyang/lib/python3.10/site-packages/rebound/particle.py:163: FutureWarning: elementwise comparison failed; returning scalar instead, but in the future will perform elementwise comparison\n",
      "  if pomega == \"uniform\":\n"
     ]
    }
   ],
   "source": [
    "pool = InterruptiblePool()\n",
    "results_no_breathing = pool.map(simNoBreathing,parameters)\n",
<<<<<<< HEAD
    "results_with_breathing = pool.map(simWithBreathing,parameters)"
=======
    "np.savetxt(\"test_no_breathing.csv\", results_no_breathing, delimiter=\",\")\n",
    "results_with_breathing = pool.map(simWithBreathing,parameters)\n",
    "np.savetxt(\"test_with_breathing.csv\", results_with_breathing, delimiter=\",\")"
>>>>>>> 6902a43a49fd40628950a3adc39cb3460baa36ac
   ]
  },
  {
   "cell_type": "code",
<<<<<<< HEAD
   "execution_count": 17,
=======
   "execution_count": 14,
>>>>>>> 6902a43a49fd40628950a3adc39cb3460baa36ac
   "id": "1c1065f4",
   "metadata": {},
   "outputs": [
    {
     "data": {
<<<<<<< HEAD
      "image/png": "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\n",
=======
      "image/png": "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",
>>>>>>> 6902a43a49fd40628950a3adc39cb3460baa36ac
      "text/plain": [
       "<Figure size 1000x500 with 4 Axes>"
      ]
     },
     "metadata": {},
     "output_type": "display_data"
    }
   ],
   "source": [
<<<<<<< HEAD
    "data_nb = np.array(results_no_breathing).reshape(Ngrid_y,Ngrid_x)\n",
    "data_wb = np.array(results_with_breathing).reshape(Ngrid_y,Ngrid_x)\n",
=======
    "dataframe1 = pd.read_csv('test_no_breathing.csv', header=None)\n",
    "data_nb = dataframe1.values.reshape(Ngrid_y,Ngrid_x)\n",
    "dataframe2 = pd.read_csv('test_with_breathing.csv', header=None)\n",
    "data_wb = dataframe2.values.reshape(Ngrid_y,Ngrid_x)\n",
>>>>>>> 6902a43a49fd40628950a3adc39cb3460baa36ac
    "\n",
    "f, (ax1, ax2) = plt.subplots(1, 2, sharey=True, figsize=(10,5))\n",
    "f.subplots_adjust(wspace=0)\n",
    "\n",
    "extent = [min(alpha12),max(alpha12),min(alpha23),max(alpha23)]\n",
    "ax1.set_xlim(extent[0],extent[1])\n",
    "ax1.set_ylim(extent[2],extent[3])\n",
    "ax1.set_xlabel(r\"$\\alpha_{12}$\")\n",
    "ax1.set_ylabel(r\"$\\alpha_{23}$\")\n",
    "\n",
    "ax2.set_xlim(extent[0],extent[1])\n",
    "ax2.set_ylim(extent[2],extent[3])\n",
    "ax2.set_xlabel(r\"$\\alpha_{12}$\")\n",
    "\n",
<<<<<<< HEAD
    "im1 = ax1.imshow(data_nb.transpose(), vmin=1, vmax=4, interpolation=\"none\", cmap=\"binary\", origin=\"lower\", aspect='auto', extent=extent)\n",
    "cb1 = plt.colorbar(im1, ax=ax1)\n",
    "im2 = ax2.imshow(data_wb.transpose(), vmin=1, vmax=4, interpolation=\"none\", cmap=\"binary\", origin=\"lower\", aspect='auto', extent=extent)\n",
    "cb2 = plt.colorbar(im2, ax=ax2)\n",
    "cb2.set_label(\"$max(e_{12}/$\")"
=======
    "im1 = ax1.imshow(data_nb.transpose(), vmin=0, vmax=0.05, interpolation=\"none\", cmap=\"binary\", origin=\"lower\", aspect='auto', extent=extent)\n",
    "cb1 = plt.colorbar(im1, ax=ax1)\n",
    "im2 = ax2.imshow(data_wb.transpose(), vmin=0, vmax=0.05, interpolation=\"none\", cmap=\"binary\", origin=\"lower\", aspect='auto', extent=extent)\n",
    "cb2 = plt.colorbar(im2, ax=ax2)"
   ]
  },
  {
   "cell_type": "code",
   "execution_count": 15,
   "id": "dfdb1b2c",
   "metadata": {},
   "outputs": [
    {
     "data": {
      "image/png": "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",
      "text/plain": [
       "<Figure size 1000x500 with 4 Axes>"
      ]
     },
     "metadata": {},
     "output_type": "display_data"
    }
   ],
   "source": [
    "f, (ax1, ax2) = plt.subplots(1, 2, sharey=True, figsize=(10,5))\n",
    "# f.subplots_adjust(wspace=0)\n",
    "\n",
    "extent = [min(alpha12)**(3/2),max(alpha12)**(3/2), 1/min(alpha23)**(3/2), 1/max(alpha23)**(3/2)]\n",
    "ax1.set_xlim(extent[0],extent[1])\n",
    "ax1.set_ylim(extent[2], extent[3])\n",
    "ax1.set_xlabel(r\"$P_1$ [P]\")\n",
    "ax1.set_ylabel(r\"$P_2$ [P]\")\n",
    "\n",
    "ax2.set_xlim(extent[0],extent[1])\n",
    "ax2.set_ylim(extent[2], extent[3])\n",
    "ax2.set_xlabel(r\"$P_1$ [P]\")\n",
    "\n",
    "im1 = ax1.imshow(data_nb.transpose(), vmin=0, vmax=0.03, interpolation=\"none\", cmap=\"binary\", origin=\"lower\", aspect='auto', extent=extent)\n",
    "cb1 = plt.colorbar(im1, ax=ax1)\n",
    "ax1.invert_yaxis()\n",
    "im2 = ax2.imshow(data_wb.transpose(), vmin=0, vmax=0.03, interpolation=\"none\", cmap=\"binary\", origin=\"lower\", aspect='auto', extent=extent)\n",
    "cb2 = plt.colorbar(im2, ax=ax2)"
>>>>>>> 6902a43a49fd40628950a3adc39cb3460baa36ac
   ]
  },
  {
   "cell_type": "code",
   "execution_count": null,
   "id": "199f09cb",
   "metadata": {},
   "outputs": [],
   "source": []
  }
 ],
 "metadata": {
  "kernelspec": {
   "display_name": "Python 3 (ipykernel)",
   "language": "python",
   "name": "python3"
  },
  "language_info": {
   "codemirror_mode": {
    "name": "ipython",
    "version": 3
   },
   "file_extension": ".py",
   "mimetype": "text/x-python",
   "name": "python",
   "nbconvert_exporter": "python",
   "pygments_lexer": "ipython3",
   "version": "3.10.11"
  }
 },
 "nbformat": 4,
 "nbformat_minor": 5
}
