{
 "cells": [
  {
   "cell_type": "code",
   "execution_count": 1,
   "id": "f1925b04",
   "metadata": {},
   "outputs": [],
   "source": [
    "import pandas as pd\n",
    "import numpy as np\n",
    "import rebound\n",
    "import matplotlib.pyplot as plt\n",
    "from matplotlib import colors\n",
    "from rebound.interruptible_pool import InterruptiblePool\n",
    "import scipy.optimize as opt"
   ]
  },
  {
   "cell_type": "code",
   "execution_count": 2,
   "id": "138ad90c",
   "metadata": {},
   "outputs": [],
   "source": [
    "from celmech.disturbing_function import df_coefficient_Ctilde\n",
    "from celmech.disturbing_function import evaluate_df_coefficient_dict\n",
    "from celmech.disturbing_function import laplace_b as b"
   ]
  },
  {
   "cell_type": "code",
   "execution_count": 3,
   "id": "72a2d6e1",
   "metadata": {},
   "outputs": [],
   "source": [
    "def b1(alpha):\n",
    "    return b(1.5, 1, 0, alpha)\n",
    "def b2(alpha):\n",
    "    return b(1.5, 2, 0, alpha)"
   ]
  },
  {
   "cell_type": "code",
   "execution_count": 4,
   "id": "632903cb",
   "metadata": {},
   "outputs": [],
   "source": [
    "def GtoS(alpha, mass, ecc, pomega):\n",
    "    alpha12, alpha23 = alpha\n",
    "    alpha13 = alpha12*alpha23\n",
    "    m1, m2, m3 = mass\n",
    "    m_tot = m1+m2+m3\n",
    "    ecc1, ecc2, ecc3 = ecc\n",
    "    pom1, pom2, pom3 = pomega\n",
    "\n",
    "    e1_x, e2_x, e3_x = ecc1*np.cos(pom1), ecc2*np.cos(pom2), ecc3*np.cos(pom3)\n",
    "    e1_y, e2_y, e3_y = ecc1*np.sin(pom1), ecc2*np.sin(pom2), ecc3*np.sin(pom3)\n",
    "    \n",
    "    w2 = 2*m2/(m1+m3) * (m1/(np.pi*(1-alpha23)**2) + m3/(np.pi*(1-alpha12)**2)) + 2*(m1+m3)/(np.pi*(1-alpha13)**2)\n",
    "    w3 = 2*m_tot/(m1+m3) * (m1/(np.pi*(1-alpha12)**2) + m3/(np.pi*(1-alpha23)**2))\n",
    "    k = np.sqrt(m1*m2*m3*m_tot)/(m1+m3) * (2/(np.pi*(1-alpha23)**2) - 2/(np.pi*(1-alpha12)**2))\n",
    "    phi = 1/2*np.arctan2(2*k, w2-w3)\n",
    "    \n",
    "    S1_x = np.sqrt(1/m_tot)*(m1*e1_x + m2*e2_x + m3*e3_x)\n",
    "    S1_y = np.sqrt(1/m_tot)*(m1*e1_y + m2*e2_y + m3*e3_y)\n",
    "    S2_x = np.cos(phi)*(np.sqrt(m1*m3/(m1+m3))*(e3_x-e1_x)) + np.sin(phi)*np.sqrt(m2/((m1+m3)*m_tot))*(m3*(e3_x-e2_x)-m1*(e2_x-e1_x))\n",
    "    S2_y = np.cos(phi)*(np.sqrt(m1*m3/(m1+m3))*(e3_y-e1_y)) + np.sin(phi)*np.sqrt(m2/((m1+m3)*m_tot))*(m3*(e3_y-e2_y)-m1*(e2_y-e1_y))\n",
    "    S3_x = -np.sin(phi)*(np.sqrt(m1*m3/(m1+m3))*(e3_x-e1_x)) + np.cos(phi)*np.sqrt(m2/((m1+m3)*m_tot))*(m3*(e3_x-e2_x)-m1*(e2_x-e1_x))\n",
    "    S3_y = -np.sin(phi)*(np.sqrt(m1*m3/(m1+m3))*(e3_y-e1_y)) + np.cos(phi)*np.sqrt(m2/((m1+m3)*m_tot))*(m3*(e3_y-e2_y)-m1*(e2_y-e1_y))\n",
    "    \n",
    "    amp1, amp2, amp3 = np.sqrt(S1_x**2+S1_y**2), np.sqrt(S2_x**2+S2_y**2), np.sqrt(S3_x**2+S3_y**2)\n",
    "    phase1, phase2, phase3 = np.arctan2(S1_y,S1_x), np.arctan2(S2_y,S2_x), np.arctan2(S3_y,S3_x)\n",
    "    omega2, omega3 = w2*(np.cos(phi))**2 + k*np.sin(2*phi) + w3*(np.sin(phi))**2, w2*(np.sin(phi))**2 - k*np.sin(2*phi) + w3*(np.cos(phi))**2\n",
    "    \n",
    "    return amp1, amp2, amp3, phase1, phase2, phase3, omega2, omega3, phi"
   ]
  },
  {
   "cell_type": "code",
   "execution_count": 5,
   "id": "4b29ad75",
   "metadata": {},
   "outputs": [],
   "source": [
    "def StoG(mass, amp, phase, phi):\n",
    "    m1, m2, m3 = mass\n",
    "    m_tot = m1+m2+m3\n",
    "    A1, A2, A3 = amp\n",
    "    p1, p2, p3 = phase\n",
    "    \n",
    "    e1_x = 1/np.sqrt(m1) * (np.sqrt(m1/m_tot)*A1*np.cos(p1) + (-np.cos(phi)*np.sqrt(m3/(m1+m3)) + np.sin(phi)*np.sqrt(m1*m2/(m_tot*(m1+m3))))*A2*np.cos(p2) + (np.sin(phi)*np.sqrt(m3/(m1+m3)) + np.cos(phi)*np.sqrt(m1*m2/(m_tot*(m1+m3))))*A3*np.cos(p3))\n",
    "    e2_x = 1/np.sqrt(m2) * (np.sqrt(m2/m_tot)*A1*np.cos(p1) - np.sin(phi)*np.sqrt((m1+m3)/m_tot)*A2*np.cos(p2) - np.cos(phi)*np.sqrt((m1+m3)/m_tot)*A3*np.cos(p3))\n",
    "    e3_x = 1/np.sqrt(m3) * (np.sqrt(m3/m_tot)*A1*np.cos(p1) + (np.cos(phi)*np.sqrt(m1/(m1+m3)) + np.sin(phi)*np.sqrt(m2*m3/(m_tot*(m1+m3))))*A2*np.cos(p2) + (-np.sin(phi)*np.sqrt(m1/(m1+m3)) + np.cos(phi)*np.sqrt(m2*m3/(m_tot*(m1+m3))))*A3*np.cos(p3))\n",
    "    \n",
    "    e1_y = 1/np.sqrt(m1) * (np.sqrt(m1/m_tot)*A1*np.sin(p1) + (-np.cos(phi)*np.sqrt(m3/(m1+m3)) + np.sin(phi)*np.sqrt(m1*m2/(m_tot*(m1+m3))))*A2*np.sin(p2) + (np.sin(phi)*np.sqrt(m3/(m1+m3)) + np.cos(phi)*np.sqrt(m1*m2/(m_tot*(m1+m3))))*A3*np.sin(p3))\n",
    "    e2_y = 1/np.sqrt(m2) * (np.sqrt(m2/m_tot)*A1*np.sin(p1) - np.sin(phi)*np.sqrt((m1+m3)/m_tot)*A2*np.sin(p2) - np.cos(phi)*np.sqrt((m1+m3)/m_tot)*A3*np.sin(p3))\n",
    "    e3_y = 1/np.sqrt(m3) * (np.sqrt(m3/m_tot)*A1*np.sin(p1) + (np.cos(phi)*np.sqrt(m1/(m1+m3)) + np.sin(phi)*np.sqrt(m2*m3/(m_tot*(m1+m3))))*A2*np.sin(p2) + (-np.sin(phi)*np.sqrt(m1/(m1+m3)) + np.cos(phi)*np.sqrt(m2*m3/(m_tot*(m1+m3))))*A3*np.sin(p3))\n",
    "    \n",
    "    e1, e2, e3 = np.sqrt(e1_x**2 + e1_y**2), np.sqrt(e2_x**2 + e2_y**2), np.sqrt(e3_x**2 + e3_y**2)\n",
    "    pom1, pom2, pom3 = np.arctan2(e1_y,e1_x), np.arctan2(e2_y,e2_x), np.arctan2(e3_y,e3_x)\n",
    "    \n",
    "    return (e1, e2, e3), (pom1, pom2, pom3)"
   ]
  },
  {
   "cell_type": "code",
   "execution_count": 6,
   "id": "90260877",
   "metadata": {},
   "outputs": [],
   "source": [
    "def breathingON(mass, phi, A3_p):\n",
    "    m1, m2, m3 = mass\n",
    "    m_tot = m1+m2+m3\n",
    "    \n",
    "    x1 = np.cos(phi)*np.sqrt(m3/(m1*(m1+m3))) - np.sin(phi)*np.sqrt(m2/(m_tot*(m1+m3))) - np.sin(phi)*np.sqrt((m1+m3)/(m2*m_tot))\n",
    "    x2 = np.sin(phi)*np.sqrt(m3/(m1*(m1+m3))) + np.cos(phi)*np.sqrt(m2/(m_tot*(m1+m3))) + np.cos(phi)*np.sqrt((m1+m3)/(m2*m_tot))\n",
    "    y1 = np.cos(phi)*np.sqrt(m1/(m3*(m1+m3))) + np.sin(phi)*np.sqrt(m2/(m_tot*(m1+m3))) + np.sin(phi)*np.sqrt((m1+m3)/(m2*m_tot))\n",
    "    y2 = -np.sin(phi)*np.sqrt(m1/(m3*(m1+m3))) + np.cos(phi)*np.sqrt(m2/(m_tot*(m1+m3))) + np.cos(phi)*np.sqrt((m1+m3)/(m2*m_tot))\n",
    "\n",
    "    if ((x1/y1)**2-1 < 1e-3) and ((x2/y2)**2-1 < 1e-3):\n",
    "        A3_b = A3_p / np.sqrt(2)\n",
    "        A2_b = A3_b*x2/x1\n",
    "        theta = np.pi/2\n",
    "    else:\n",
    "        def A2(theta):\n",
    "            return 2*A3_p*x2*y2*np.cos(theta) / np.sqrt((x1*y2-x2*y1)**2 + 4*x1*x2*y1*y2*(np.cos(theta))**2)\n",
    "        def A3(theta):\n",
    "            return A3_p*(x1*y2-x2*y1) / np.sqrt((x1*y2-x2*y1)**2 + 4*x1*x2*y1*y2*(np.cos(theta))**2)\n",
    "        def e21_min(theta):\n",
    "            return -(x1*A2(theta) + x2*A3(theta))**2\n",
    "        theta = opt.minimize(e21_min, x0=0).x\n",
    "        A2_b, A3_b = A2(theta), A3(theta)\n",
    "    \n",
    "    return A2_b, A3_b, theta"
   ]
  },
  {
   "cell_type": "code",
   "execution_count": 7,
   "id": "77e5ec16",
   "metadata": {},
   "outputs": [],
   "source": [
    "MASS = 2e-8, 1e-8, 1e-8\n",
    "POMEGA = 0, 0, np.pi\n",
    "ECC = 0.04, 0.04, 0.04"
   ]
  },
  {
   "cell_type": "code",
   "execution_count": 8,
   "id": "a6b6cb2d",
   "metadata": {},
   "outputs": [],
   "source": [
    "def simNoBreathing(alpha):\n",
    "    alpha12, alpha23 = alpha\n",
    "    P1, P2, P3 = alpha12**(3/2), 1, 1/alpha23**(3/2)\n",
    "    mu1, mu2, mu3 = MASS\n",
    "#     ECC = 0.2*(1-alpha12*alpha23), 0.2*(1-alpha12*alpha23), 0.2*(1-alpha12*alpha23)\n",
    "    \n",
    "    amp1, amp2, amp3, phase1, phase2, phase3, omega2, omega3, phi = GtoS(alpha, MASS, ECC, POMEGA)\n",
    "    ecc_nb, pomega_nb = StoG(MASS, (amp1, 0, amp3), (phase1, phase2, phase3), phi)\n",
    "    ecc1, ecc2, ecc3 = ecc_nb\n",
    "    pomega1, pomega2, pomega3 = pomega_nb\n",
    "    \n",
    "    # start simulation\n",
    "    sim = rebound.Simulation()\n",
    "    sim.units = ('yr', 'AU', 'Msun')\n",
    "\n",
    "    # add star, planet 1, planet 2\n",
    "    sim.add(m=1.)\n",
    "    sim.add(m=mu1, P=P1, e=ecc1, pomega=pomega1)\n",
    "    sim.add(m=mu2, P=P2, e=ecc2, pomega=pomega2)\n",
    "    sim.add(m=mu3, P=P3, e=ecc3, pomega=pomega3)\n",
    "    ps = sim.particles\n",
    "    ps[1].r = ps[1].a*(ps[1].m/3/ps[0].m)**(1/3)\n",
    "    ps[2].r = ps[2].a*(ps[2].m/3/ps[0].m)**(1/3)\n",
    "\n",
    "    sim.move_to_com()\n",
    "    sim.integrator = \"whfast\"\n",
    "    sim.dt = sim.particles[1].P/20\n",
    "    sim.collision = \"direct\"\n",
    "    \n",
    "    time = np.logspace(0,7,num=200)\n",
    "    e21, e32 = np.zeros(200), np.zeros(200)\n",
    "    for i, T in enumerate(time):\n",
    "        try:\n",
    "            sim.integrate(T, exact_finish_time=0)\n",
    "            info_1 = sim.particles[1].calculate_orbit(primary=sim.particles[0])\n",
    "            info_2 = sim.particles[2].calculate_orbit(primary=sim.particles[0])\n",
    "            info_3 = sim.particles[3].calculate_orbit(primary=sim.particles[0])\n",
    "            p1, p2, p3, e1, e2, e3 = info_1.pomega, info_2.pomega, info_3.pomega, info_1.e, info_2.e, info_3.e\n",
    "            e1_x, e1_y = e1*np.cos(p1), e1*np.sin(p1)\n",
    "            e2_x, e2_y = e2*np.cos(p2), e2*np.sin(p2)\n",
    "            e3_x, e3_y = e3*np.cos(p3), e3*np.sin(p3)  \n",
    "            \n",
    "            e21[i] = np.sqrt((e2_x-e1_x)**2 + (e2_y-e1_y)**2)\n",
    "            e32[i] = np.sqrt((e3_x-e2_x)**2 + (e3_y-e2_y)**2)\n",
    "        except rebound.Collision:\n",
    "            break\n",
    "    return np.std(e21)"
   ]
  },
  {
   "cell_type": "code",
   "execution_count": 9,
   "id": "c31d1647",
   "metadata": {},
   "outputs": [],
   "source": [
    "def simWithBreathing(alpha):\n",
    "    alpha12, alpha23 = alpha\n",
    "    P1, P2, P3 = alpha12**(3/2), 1, 1/alpha23**(3/2)\n",
    "    mu1, mu2, mu3 = MASS\n",
    "#     ECC = 0.2*(1-alpha12*alpha23), 0.2*(1-alpha12*alpha23), 0.2*(1-alpha12*alpha23)\n",
    "    \n",
    "    amp1, amp2, amp3, phase1, phase2, phase3, omega2, omega3 , phi = GtoS(alpha, MASS, ECC, POMEGA)   \n",
    "    amp2_wb, amp3_wb, theta = breathingON(MASS, phi, amp3)\n",
    "    ecc_wb, pomega_wb = StoG(MASS, (amp1, amp2_wb, amp3_wb), (phase1, phase2, phase2+theta), phi)\n",
    "    \n",
    "    ecc1, ecc2, ecc3 = ecc_wb\n",
    "    pomega1, pomega2, pomega3 = pomega_wb\n",
    "    \n",
    "    # start simulation\n",
    "    sim = rebound.Simulation()\n",
    "    sim.units = ('yr', 'AU', 'Msun')\n",
    "\n",
    "    # add star, planet 1, planet 2\n",
    "    sim.add(m=1.)\n",
    "    sim.add(m=mu1, P=P1, e=ecc1, pomega=pomega1)\n",
    "    sim.add(m=mu2, P=P2, e=ecc2, pomega=pomega2)\n",
    "    sim.add(m=mu3, P=P3, e=ecc3, pomega=pomega3)\n",
    "    ps = sim.particles\n",
    "    ps[1].r = ps[1].a*(ps[1].m/3/ps[0].m)**(1/3)\n",
    "    ps[2].r = ps[2].a*(ps[2].m/3/ps[0].m)**(1/3)\n",
    "\n",
    "    sim.move_to_com()\n",
    "    sim.integrator = \"whfast\"\n",
    "    sim.dt = sim.particles[1].P/20\n",
    "    sim.collision = \"direct\"\n",
    "    \n",
    "    time = np.logspace(0,7,num=200)\n",
    "    e21, e32 = np.zeros(200), np.zeros(200)\n",
    "    for i, T in enumerate(time):\n",
    "        try:\n",
    "            sim.integrate(T, exact_finish_time=0)\n",
    "            info_1 = sim.particles[1].calculate_orbit(primary=sim.particles[0])\n",
    "            info_2 = sim.particles[2].calculate_orbit(primary=sim.particles[0])\n",
    "            info_3 = sim.particles[3].calculate_orbit(primary=sim.particles[0])\n",
    "            p1, p2, p3, e1, e2, e3 = info_1.pomega, info_2.pomega, info_3.pomega, info_1.e, info_2.e, info_3.e\n",
    "            e1_x, e1_y = e1*np.cos(p1), e1*np.sin(p1)\n",
    "            e2_x, e2_y = e2*np.cos(p2), e2*np.sin(p2)\n",
    "            e3_x, e3_y = e3*np.cos(p3), e3*np.sin(p3)  \n",
    "            \n",
    "            e21[i] = np.sqrt((e2_x-e1_x)**2 + (e2_y-e1_y)**2)\n",
    "            e32[i] = np.sqrt((e3_x-e2_x)**2 + (e3_y-e2_y)**2)\n",
    "        except rebound.Collision:\n",
    "            break\n",
    "    return np.std(e21)"
   ]
  },
  {
   "cell_type": "code",
   "execution_count": 10,
   "id": "eac18456",
   "metadata": {},
   "outputs": [],
   "source": [
    "Ngrid_x = 20\n",
    "Ngrid_y = 20\n",
    "\n",
    "alpha12 = np.linspace(0.85,0.95,Ngrid_x)\n",
    "alpha23 = np.linspace(0.85,0.95,Ngrid_y)\n",
    "parameters = [[x,y] for x in alpha12 for y in alpha23]"
   ]
  },
  {
   "cell_type": "code",
   "execution_count": null,
   "id": "7d371527",
   "metadata": {},
   "outputs": [],
   "source": [
    "pool = InterruptiblePool()\n",
    "results_no_breathing = pool.map(simNoBreathing,parameters)\n",
    "results_with_breathing = pool.map(simWithBreathing,parameters)\n",
    "\n",
    "np.savetxt(\"megno_no_breathing.csv\", results_no_breathing, delimiter=\",\")\n",
    "np.savetxt(\"megno_with_breathing.csv\", results_with_breathing, delimiter=\",\")"
   ]
  },
  {
   "cell_type": "code",
   "execution_count": 34,
   "id": "1c1065f4",
   "metadata": {},
   "outputs": [
    {
     "data": {
      "image/png": "[encoded data removed]",
      "text/plain": [
       "<Figure size 1000x500 with 4 Axes>"
      ]
     },
     "metadata": {},
     "output_type": "display_data"
    }
   ],
   "source": [
    "dataframe1 = pd.read_csv('megno_no_breathing.csv', header=None)\n",
    "data_nb = dataframe1.values.reshape(Ngrid_y,Ngrid_x)\n",
    "dataframe2 = pd.read_csv('megno_with_breathing.csv', header=None)\n",
    "data_wb = dataframe2.values.reshape(Ngrid_y,Ngrid_x)\n",
    "\n",
    "f, (ax1, ax2) = plt.subplots(1, 2, sharey=True, figsize=(10,5))\n",
    "# f.subplots_adjust(wspace=0)\n",
    "\n",
    "extent = [min(alpha12),max(alpha12),min(alpha23),max(alpha23)]\n",
    "ax1.set_xlim(extent[0],extent[1])\n",
    "ax1.set_ylim(extent[2],extent[3])\n",
    "ax1.set_xlabel(r\"$\\alpha_{12}$\")\n",
    "ax1.set_ylabel(r\"$\\alpha_{23}$\")\n",
    "\n",
    "ax2.set_xlim(extent[0],extent[1])\n",
    "ax2.set_ylim(extent[2],extent[3])\n",
    "ax2.set_xlabel(r\"$\\alpha_{12}$\")\n",
    "\n",
    "im1 = ax1.imshow(data_nb.transpose(), vmin=0, vmax=0.03, interpolation=\"none\", cmap=\"binary\", origin=\"lower\", aspect='auto', extent=extent)\n",
    "cb1 = plt.colorbar(im1, ax=ax1)\n",
    "im2 = ax2.imshow(data_wb.transpose(), vmin=0, vmax=0.03, interpolation=\"none\", cmap=\"binary\", origin=\"lower\", aspect='auto', extent=extent)\n",
    "cb2 = plt.colorbar(im2, ax=ax2)"
   ]
  },
  {
   "cell_type": "code",
   "execution_count": 36,
   "id": "dfdb1b2c",
   "metadata": {},
   "outputs": [
    {
     "data": {
      "image/png": "[encoded data removed]",
      "text/plain": [
       "<Figure size 1000x500 with 4 Axes>"
      ]
     },
     "metadata": {},
     "output_type": "display_data"
    }
   ],
   "source": [
    "f, (ax1, ax2) = plt.subplots(1, 2, sharey=True, figsize=(10,5))\n",
    "# f.subplots_adjust(wspace=0)\n",
    "\n",
    "extent = [min(alpha12)**(3/2),max(alpha12)**(3/2), 1/min(alpha23)**(3/2), 1/max(alpha23)**(3/2)]\n",
    "ax1.set_xlim(extent[0],extent[1])\n",
    "ax1.set_ylim(extent[2], extent[3])\n",
    "ax1.set_xlabel(r\"$P_1$ [P]\")\n",
    "ax1.set_ylabel(r\"$P_2$ [P]\")\n",
    "\n",
    "ax2.set_xlim(extent[0],extent[1])\n",
    "ax2.set_ylim(extent[2], extent[3])\n",
    "ax2.set_xlabel(r\"$P_1$ [P]\")\n",
    "\n",
    "im1 = ax1.imshow(data_nb.transpose(), vmin=0, vmax=0.03, interpolation=\"none\", cmap=\"binary\", origin=\"lower\", aspect='auto', extent=extent)\n",
    "cb1 = plt.colorbar(im1, ax=ax1)\n",
    "ax1.invert_yaxis()\n",
    "im2 = ax2.imshow(data_wb.transpose(), vmin=0, vmax=0.03, interpolation=\"none\", cmap=\"binary\", origin=\"lower\", aspect='auto', extent=extent)\n",
    "cb2 = plt.colorbar(im2, ax=ax2)"
   ]
  },
  {
   "cell_type": "code",
   "execution_count": null,
   "id": "26e39829",
   "metadata": {},
   "outputs": [],
   "source": []
  }
 ],
 "metadata": {
  "kernelspec": {
   "display_name": "Python 3 (ipykernel)",
   "language": "python",
   "name": "python3"
  },
  "language_info": {
   "codemirror_mode": {
    "name": "ipython",
    "version": 3
   },
   "file_extension": ".py",
   "mimetype": "text/x-python",
   "name": "python",
   "nbconvert_exporter": "python",
   "pygments_lexer": "ipython3",
   "version": "3.10.9"
  }
 },
 "nbformat": 4,
 "nbformat_minor": 5
}
