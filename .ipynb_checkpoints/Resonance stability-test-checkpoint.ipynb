{
 "cells": [
  {
   "cell_type": "code",
   "execution_count": 1,
   "id": "b16ee68d",
   "metadata": {},
   "outputs": [],
   "source": [
    "import numpy as np\n",
    "import rebound\n",
    "import matplotlib.pyplot as plt\n",
    "from scipy.optimize import curve_fit\n",
    "from matplotlib import colors\n",
    "from rebound.interruptible_pool import InterruptiblePool"
   ]
  },
  {
   "cell_type": "code",
   "execution_count": 2,
   "id": "e4bc8ba6",
   "metadata": {},
   "outputs": [],
   "source": [
    "def line(x, a, b):\n",
    "    return a*x + b"
   ]
  },
  {
   "cell_type": "code",
   "execution_count": 3,
   "id": "806dda91",
   "metadata": {},
   "outputs": [],
   "source": [
    "def simulation(param):\n",
    "    P1, P2 = param\n",
    "    ecc1, ecc0, ecc2 = 0.003, 0.070, 0.016\n",
    "    mu1, mu2 = 36e-6, 28e-6\n",
    "    omega1, omega0, omega2 = -0.4, -0.86, 0\n",
    "    P_0, lambda_0 = 0.05, 0\n",
    "\n",
    "    # start simulation\n",
    "    sim = rebound.Simulation()\n",
    "    sim.units = ('yr', 'AU', 'Msun')\n",
    "\n",
    "    # add star, planet 1, planet 2\n",
    "    sim.add(m=1.)\n",
    "    sim.add(m=mu1, P=P1, e=ecc1, omega=omega1)\n",
    "    sim.add(m=mu2, P=P2, e=ecc2, omega=omega2)\n",
    "    ps = sim.particles\n",
    "    ps[1].r = ps[1].a*(ps[1].m/3/ps[0].m)**(1/3)\n",
    "    ps[2].r = ps[2].a*(ps[2].m/3/ps[0].m)**(1/3)\n",
    "    \n",
    "    # add test particle\n",
    "    sim.add(P=P_0, l=lambda_0, e=ecc0, omega=omega0)\n",
    "    sim.move_to_com()\n",
    "    sim.integrator = \"whfast\"\n",
    "    sim.dt = sim.particles[1].P/20\n",
    "    sim.collision = \"direct\"\n",
    "    \n",
    "    sim.init_megno()\n",
    "    \n",
    "    # calculate megno\n",
    "    time = np.logspace(0,5,num=100)*P_0\n",
    "    for T in time:\n",
    "        sim.integrate(T, exact_finish_time=0)\n",
    "        if sim.calculate_megno() >= 2.5:\n",
    "            megno = np.zeros(200)\n",
    "            sim_time = np.linspace(sim.t, 50*sim.t, num=200)\n",
    "            for i, t in enumerate(sim_time):\n",
    "                try:\n",
    "                    sim.integrate(t, exact_finish_time=0)\n",
    "                    m = sim.calculate_megno()\n",
    "                    megno[i] = m\n",
    "                    if m >= 50:\n",
    "                        break\n",
    "                except rebound.Collision:\n",
    "                    break\n",
    "            y = megno[megno != 0]\n",
    "            x = sim_time[0:len(y)]\n",
    "            plt.plot(x,y,\"o\") \n",
    "            (popt, pcov) = curve_fit(line, x, y, maxfev=90000)\n",
    "            print(f'ly={1/popt[0]}')\n",
    "            return\n",
    "    return\n",
    "\n",
    "#     time = np.logspace(2,5,num=100)\n",
    "#     megno = np.zeros(200)\n",
    "#     for i, T in enumerate(time):\n",
    "#         try:\n",
    "#             sim.integrate(T, exact_finish_time=0)\n",
    "#             megno[i] = sim.calculate_megno()\n",
    "#         except rebound.Collision:\n",
    "#             break\n",
    "#     y = megno[megno != 0]\n",
    "#     x = time[0:len(y)]\n",
    "#     plt.plot(x,y,\"o\")   "
   ]
  },
  {
   "cell_type": "code",
   "execution_count": 4,
   "id": "b951128b",
   "metadata": {},
   "outputs": [],
   "source": [
    "Ngrid_x = 100\n",
    "Ngrid_y = 100\n",
    "P_0 = 0.05\n",
    "\n",
    "r10 = np.linspace(0.49,0.76,Ngrid_x)\n",
    "r20 = np.linspace(1.3,2.04,Ngrid_y)\n",
    "parameters = [[P_0*x, P_0*y] for x in r10 for y in r20]"
   ]
  },
  {
   "cell_type": "code",
   "execution_count": 5,
   "id": "aa99ba52",
   "metadata": {},
   "outputs": [
    {
     "name": "stdout",
     "output_type": "stream",
     "text": [
      "ly=171.30613022291445\n"
     ]
    },
    {
     "data": {
      "image/png": "[encoded data removed]",
      "text/plain": [
       "<Figure size 640x480 with 1 Axes>"
      ]
     },
     "metadata": {},
     "output_type": "display_data"
    }
   ],
   "source": [
    "simulation(parameters[203])"
   ]
  },
  {
   "cell_type": "code",
   "execution_count": null,
   "id": "d266ec2b",
   "metadata": {},
   "outputs": [],
   "source": []
  }
 ],
 "metadata": {
  "kernelspec": {
   "display_name": "Python 3 (ipykernel)",
   "language": "python",
   "name": "python3"
  },
  "language_info": {
   "codemirror_mode": {
    "name": "ipython",
    "version": 3
   },
   "file_extension": ".py",
   "mimetype": "text/x-python",
   "name": "python",
   "nbconvert_exporter": "python",
   "pygments_lexer": "ipython3",
   "version": "3.10.9"
  }
 },
 "nbformat": 4,
 "nbformat_minor": 5
}
