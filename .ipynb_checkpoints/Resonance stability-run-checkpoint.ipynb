{
 "cells": [
  {
   "cell_type": "code",
   "execution_count": 1,
   "id": "b16ee68d",
   "metadata": {},
   "outputs": [],
   "source": [
    "import pandas as pd\n",
    "import numpy as np\n",
    "import rebound\n",
    "import matplotlib.pyplot as plt\n",
    "from scipy.optimize import curve_fit\n",
    "from matplotlib import colors\n",
    "from rebound.interruptible_pool import InterruptiblePool"
   ]
  },
  {
   "cell_type": "code",
   "execution_count": 2,
   "id": "1cf33889",
   "metadata": {},
   "outputs": [],
   "source": [
    "def line(x, a, b):\n",
    "    return a*x + b"
   ]
  },
  {
   "cell_type": "code",
   "execution_count": 3,
   "id": "806dda91",
   "metadata": {},
   "outputs": [],
   "source": [
    "def simulation(param):\n",
    "    P1, P2 = param\n",
    "    ecc1, ecc0, ecc2 = 0.003, 0.070, 0.016\n",
    "    mu1, mu2 = 36e-6, 28e-6\n",
    "    omega1, omega0, omega2 = -0.4, -0.86, 0\n",
    "    P_0, lambda_0 = 0.05, 0\n",
    "\n",
    "    # start simulation\n",
    "    sim = rebound.Simulation()\n",
    "    sim.units = ('yr', 'AU', 'Msun')\n",
    "\n",
    "    # add star, planet 1, planet 2\n",
    "    sim.add(m=1.)\n",
    "    sim.add(m=mu1, P=P1, e=ecc1, omega=omega1)\n",
    "    sim.add(m=mu2, P=P2, e=ecc2, omega=omega2)\n",
    "    ps = sim.particles\n",
    "    ps[1].r = ps[1].a*(ps[1].m/3/ps[0].m)**(1/3)\n",
    "    ps[2].r = ps[2].a*(ps[2].m/3/ps[0].m)**(1/3)\n",
    "    \n",
    "    # add test particle\n",
    "    sim.add(P=P_0, l=lambda_0, e=ecc0, omega=omega0)\n",
    "    sim.move_to_com()\n",
    "    sim.integrator = \"whfast\"\n",
    "    sim.dt = sim.particles[1].P/20\n",
    "    sim.collision = \"direct\"\n",
    "    \n",
    "    sim.init_megno()\n",
    "    \n",
    "    # calculate megno\n",
    "    time = np.logspace(0,5,num=100)*P_0\n",
    "    for T in time:\n",
    "        sim.integrate(T, exact_finish_time=0)\n",
    "        if sim.calculate_megno() >= 2.5:\n",
    "            megno = np.zeros(200)\n",
    "            sim_time = np.linspace(sim.t, 50*sim.t, num=200)\n",
    "            for i, t in enumerate(sim_time):\n",
    "                try:\n",
    "                    sim.integrate(t, exact_finish_time=0)\n",
    "                    m = sim.calculate_megno()\n",
    "                    megno[i] = m\n",
    "                    if m >= 50:\n",
    "                        break\n",
    "                except rebound.Collision:\n",
    "                    break\n",
    "            y = megno[megno != 0]\n",
    "            x = sim_time[0:len(y)]\n",
    "            (popt, pcov) = curve_fit(line, x, y, maxfev=90000)\n",
    "            ly = 1/popt[0]\n",
    "            return ly\n",
    "    return 1e6"
   ]
  },
  {
   "cell_type": "code",
   "execution_count": 4,
   "id": "1baa1e56",
   "metadata": {},
   "outputs": [],
   "source": [
    "Ngrid_x = 100\n",
    "Ngrid_y = 100\n",
    "P_0 = 0.05\n",
    "\n",
    "r10 = np.linspace(0.49,0.76,Ngrid_x)\n",
    "r20 = np.linspace(1.3,2.04,Ngrid_y)\n",
    "parameters = [[P_0*x, P_0*y] for x in r10 for y in r20]\n",
    "results = np.zeros(Ngrid_x*Ngrid_y)"
   ]
  },
  {
   "cell_type": "code",
   "execution_count": null,
   "id": "d513db37",
   "metadata": {},
   "outputs": [],
   "source": [
    "for i,param in enumerate(parameters):\n",
    "    try:\n",
    "        results[i] =simulation(param)\n",
    "    except:\n",
    "        print(f'error in round {i}')\n",
    "        \n",
    "np.savetxt(\"lyapunov.csv\", results, delimiter=\",\")"
   ]
  },
  {
   "cell_type": "code",
   "execution_count": 5,
   "id": "aa9b2298",
   "metadata": {},
   "outputs": [],
   "source": [
    "def rescale(results):\n",
    "    failed = np.zeros(len(results))\n",
    "    ly_rescaled = np.zeros(len(results))\n",
    "    for i in range(0,len(results)):\n",
    "        ly = results[i][0]\n",
    "        if ly > 0:\n",
    "            x = round(np.log10(ly/0.05))\n",
    "            if x > 6:\n",
    "                ly_rescaled[i] = 7\n",
    "            else:\n",
    "                ly_rescaled[i] = x\n",
    "        else:\n",
    "            failed[i] = i\n",
    "            ly_rescaled[i] = 7\n",
    "    return ly_rescaled, failed[failed != 0]"
   ]
  },
  {
   "cell_type": "code",
   "execution_count": 6,
   "id": "7c37caeb",
   "metadata": {},
   "outputs": [
    {
     "data": {
      "image/png": "[encoded data removed]",
      "text/plain": [
       "<Figure size 700x500 with 2 Axes>"
      ]
     },
     "metadata": {},
     "output_type": "display_data"
    }
   ],
   "source": [
    "dataframe = pd.read_csv('lyapunov.csv', header=None)\n",
    "data = dataframe.values\n",
    "ly_rescaled, fail_index = rescale(data)\n",
    "results2d = np.array(ly_rescaled).reshape(Ngrid_y,Ngrid_x)\n",
    "\n",
    "fig = plt.figure(figsize=(7,5))\n",
    "ax = plt.subplot(111)\n",
    "extent = [min(r10),max(r10),min(r20),max(r20)]\n",
    "ax.set_xlim(extent[0],extent[1])\n",
    "ax.set_xlabel(r\"$P_1$\")\n",
    "ax.set_ylim(extent[2],extent[3])\n",
    "ax.set_ylabel(r\"$P_2$\")\n",
    "im = ax.imshow(results2d.transpose(), interpolation=\"none\", vmin=1, vmax=7, cmap=colors.ListedColormap(['r','y','g','b','m','w']), origin=\"lower\", aspect='auto', extent=extent)\n",
    "cb = plt.colorbar(im, ax=ax)\n",
    "cb.set_label(\"MEGNO\")"
   ]
  },
  {
   "cell_type": "code",
   "execution_count": 7,
   "id": "e3f527da",
   "metadata": {},
   "outputs": [
    {
     "data": {
      "text/plain": [
       "array([ 203.,  312.,  318.,  320.,  323.,  340.,  361.,  380.,  391.,\n",
       "        427.,  526.,  903., 1003., 1103., 1501., 1613., 1649., 1803.,\n",
       "       2105., 2303., 2405., 2426., 2457., 2465., 2474., 2478., 2481.,\n",
       "       2486., 2603., 2626., 2803., 2904., 3003., 3032., 3045., 3071.,\n",
       "       3089., 3104., 3225., 3401., 3450., 3482., 3603., 3690., 3703.,\n",
       "       3713., 3794., 4013., 4038., 4159., 4171., 4179., 4183., 4187.,\n",
       "       4194., 4226., 4244., 4424., 4493., 4503., 4513., 4526., 4600.,\n",
       "       4605., 4768., 4803., 4920., 4993., 5103., 5210., 5299., 5631.,\n",
       "       5705., 5717., 6034., 6202., 6223., 6240., 6303., 6331., 6332.,\n",
       "       6335., 6339., 6345., 6346., 6347., 6348., 6355., 6356., 6357.,\n",
       "       6359., 6362., 6364., 6366., 6368., 6370., 6371., 6373., 6377.,\n",
       "       6378., 6380., 6386., 6387., 6391., 6415., 6416., 6417., 6426.,\n",
       "       6438., 6512., 6513., 6560., 6605., 6623., 6654., 6730., 6735.,\n",
       "       6750., 6757., 6761., 6798., 6799., 6827., 6867., 7064., 7101.,\n",
       "       7284., 7422., 7494., 7712., 7770., 7997., 8108., 8110., 8121.,\n",
       "       8133., 8135., 8144., 8154., 8155., 8156., 8169., 8171., 8172.,\n",
       "       8182., 8184., 8186., 8204., 8210., 8212., 8305., 8355., 8358.,\n",
       "       8376., 8389., 8573., 8626., 8666., 8678., 8681., 8691., 8700.,\n",
       "       8721., 8731., 8975., 8977., 8979., 9094., 9218., 9264., 9277.,\n",
       "       9286., 9335., 9336., 9341., 9352., 9354., 9355., 9357., 9359.,\n",
       "       9362., 9365., 9369., 9370., 9378., 9412., 9504., 9521., 9592.,\n",
       "       9608., 9627., 9718., 9721., 9743., 9747., 9775., 9776., 9803.,\n",
       "       9805., 9822., 9860., 9861., 9874., 9879., 9888., 9919.])"
      ]
     },
     "execution_count": 7,
     "metadata": {},
     "output_type": "execute_result"
    }
   ],
   "source": [
    "fail_index"
   ]
  }
 ],
 "metadata": {
  "kernelspec": {
   "display_name": "Python 3 (ipykernel)",
   "language": "python",
   "name": "python3"
  },
  "language_info": {
   "codemirror_mode": {
    "name": "ipython",
    "version": 3
   },
   "file_extension": ".py",
   "mimetype": "text/x-python",
   "name": "python",
   "nbconvert_exporter": "python",
   "pygments_lexer": "ipython3",
   "version": "3.10.9"
  }
 },
 "nbformat": 4,
 "nbformat_minor": 5
}
