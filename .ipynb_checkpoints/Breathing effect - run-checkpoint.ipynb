{
 "cells": [
  {
   "cell_type": "code",
<<<<<<< HEAD
   "execution_count": 86,
=======
   "execution_count": 1,
>>>>>>> 91ab56357258b1501ee4509d2984914c26ff595e
   "id": "f1925b04",
   "metadata": {},
   "outputs": [],
   "source": [
    "import pandas as pd\n",
    "import numpy as np\n",
    "import rebound\n",
    "import matplotlib.pyplot as plt\n",
    "from matplotlib import colors\n",
    "from rebound.interruptible_pool import InterruptiblePool\n",
    "import scipy.optimize as opt"
   ]
  },
  {
   "cell_type": "code",
<<<<<<< HEAD
   "execution_count": 87,
=======
   "execution_count": 2,
>>>>>>> 91ab56357258b1501ee4509d2984914c26ff595e
   "id": "138ad90c",
   "metadata": {},
   "outputs": [],
   "source": [
    "from celmech.disturbing_function import df_coefficient_Ctilde\n",
    "from celmech.disturbing_function import evaluate_df_coefficient_dict\n",
    "from celmech.disturbing_function import laplace_b as b"
   ]
  },
  {
   "cell_type": "code",
<<<<<<< HEAD
   "execution_count": 88,
=======
   "execution_count": 3,
>>>>>>> 91ab56357258b1501ee4509d2984914c26ff595e
   "id": "72a2d6e1",
   "metadata": {},
   "outputs": [],
   "source": [
    "def b1(alpha):\n",
    "    return b(1.5, 1, 0, alpha)\n",
    "def b2(alpha):\n",
    "    return b(1.5, 2, 0, alpha)"
   ]
  },
  {
   "cell_type": "code",
<<<<<<< HEAD
   "execution_count": 89,
=======
   "execution_count": 4,
>>>>>>> 91ab56357258b1501ee4509d2984914c26ff595e
   "id": "632903cb",
   "metadata": {},
   "outputs": [],
   "source": [
    "def StoG(mass, amp, phi):\n",
    "    m1, m3 = mass\n",
    "    A1, A2, A3 = amp\n",
    "    p1, p2, p3 = phi\n",
    "    \n",
    "    e1_x = 1/np.sqrt(m1)*(np.sqrt(m1/(m1+m3))*A1*np.cos(p1) - np.sqrt(m3/(m1+m3))*A2*np.cos(p2))\n",
    "    e2_x = 1/np.sqrt(m1+m3)*A1*np.cos(p1) - A3*np.cos(p3)\n",
    "    e3_x = 1/np.sqrt(m3)*(np.sqrt(m3/(m1+m3))*A1*np.cos(p1) + np.sqrt(m1/(m1+m3))*A2*np.cos(p2))\n",
    "    \n",
    "    e1_y = 1/np.sqrt(m1)*(np.sqrt(m1/(m1+m3))*A1*np.sin(p1) - np.sqrt(m3/(m1+m3))*A2*np.sin(p2))\n",
    "    e2_y = 1/np.sqrt(m1+m3)*A1*np.sin(p1) - A3*np.sin(p3)\n",
    "    e3_y = 1/np.sqrt(m3)*(np.sqrt(m3/(m1+m3))*A1*np.sin(p1) + np.sqrt(m1/(m1+m3))*A2*np.sin(p2))\n",
    "    \n",
    "    e1, e2, e3 = np.sqrt(e1_x**2 + e1_y**2), np.sqrt(e2_x**2 + e2_y**2), np.sqrt(e3_x**2 + e3_y**2)\n",
    "    pom1, pom2, pom3 = np.arctan2(e1_y,e1_x), np.arctan2(e2_y,e2_x), np.arctan2(e3_y,e3_x)\n",
    "    \n",
    "    return (e1, e2, e3), (pom1, pom2, pom3)"
   ]
  },
  {
   "cell_type": "code",
<<<<<<< HEAD
   "execution_count": 90,
=======
   "execution_count": 5,
>>>>>>> 91ab56357258b1501ee4509d2984914c26ff595e
   "id": "4b29ad75",
   "metadata": {},
   "outputs": [],
   "source": [
    "def GtoS(alpha, mass, ecc, pomega):\n",
    "    alpha12, alpha23 = alpha\n",
    "    alpha13 = alpha12*alpha23\n",
    "    m1, m3 = mass\n",
    "    ecc1, ecc2, ecc3 = ecc\n",
    "    pom1, pom2, pom3 = pomega\n",
    "\n",
    "    e1_x, e2_x, e3_x = ecc1*np.cos(pom1), ecc2*np.cos(pom2), ecc3*np.cos(pom3)\n",
    "    e1_y, e2_y, e3_y = ecc1*np.sin(pom1), ecc2*np.sin(pom2), ecc3*np.sin(pom3)\n",
    "    \n",
    "    amp1 = 1/np.sqrt(m1+m3) * np.sqrt((m1*e1_y + m3*e3_y)**2 + (m1*e1_x + m3*e3_x)**2)\n",
    "    amp2 = np.sqrt(m1*m3/(m1+m3)) * np.sqrt((e3_y-e1_y)**2 + (e3_x-e1_x)**2)\n",
    "    amp3 = 1/(m1+m3) * np.sqrt((m3*(e3_y-e2_y)-m1*(e2_y-e1_y))**2+(m3*(e3_x-e2_x)-m1*(e2_x-e1_x))**2)\n",
    "    \n",
    "    phase1 = np.arctan2(m1*e1_y+m3*e3_y, m1*e1_x+m3*e3_x)\n",
    "    phase2 = np.arctan2(e3_y-e1_y, e3_x-e1_x)\n",
    "    phase3 = np.arctan2(m3*(e3_y-e2_y)-m1*(e2_y-e1_y), m3*(e3_x-e2_x)-m1*(e2_x-e1_x))\n",
    "    \n",
    "    omega2 = (alpha12+alpha13+alpha23)/3 * (m1+m3)/(2*(1-alpha13)**2)\n",
    "    omega3 = (alpha12+alpha13+alpha23)/3 * (m1/(2*(1-alpha12)**2) + m3/(2*(1-alpha23)**2))\n",
    "    \n",
    "    return amp1, amp2, amp3, phase1, phase2, phase3, omega2, omega3"
   ]
  },
  {
   "cell_type": "code",
<<<<<<< HEAD
   "execution_count": 91,
=======
   "execution_count": 6,
>>>>>>> 91ab56357258b1501ee4509d2984914c26ff595e
   "id": "90260877",
   "metadata": {},
   "outputs": [],
   "source": [
    "def breathingON(mass, A3_p):\n",
    "    m1, m3 = mass\n",
    "    \n",
    "    x1 = np.sqrt(m3/(m1*(m1+m3)))\n",
    "    x2 = 1\n",
    "    y1 = np.sqrt(m1/(m3*(m1+m3)))\n",
    "    y2 = 1\n",
    "\n",
    "    if m1==m3:\n",
    "        A3_b = A3_p / np.sqrt(2)\n",
    "        A2_b = A3_b*x2/x1\n",
    "        theta = np.pi/2\n",
    "    else:\n",
    "        def A2(theta):\n",
    "            return 2*A3_p*x2*y2*np.cos(theta) / np.sqrt((x1*y2-x2*y1)**2 + 4*x1*x2*y1*y2*(np.cos(theta))**2)\n",
    "        def A3(theta):\n",
    "            return A3_p*(x1*y2-x2*y1) / np.sqrt((x1*y2-x2*y1)**2 + 4*x1*x2*y1*y2*(np.cos(theta))**2)\n",
    "        def e21_min(theta):\n",
    "            return -(x1*A2(theta) + x2*A3(theta))**2\n",
    "        def e32_min(theta):\n",
    "            return -(y1*A2(theta) + y2*A3(theta))**2\n",
    "        \n",
    "        minimizer_kwargs = dict(method=\"L-BFGS-B\", bounds=[(0,2*np.pi)])\n",
    "        result21 = opt.basinhopping(e21_min, x0=0, minimizer_kwargs=minimizer_kwargs, niter=50)\n",
    "        result32 = opt.basinhopping(e32_min, x0=0, minimizer_kwargs=minimizer_kwargs, niter=50)\n",
    "        \n",
    "        if np.fabs(result21.fun) > np.fabs(result32.fun):\n",
    "            theta = result21.x\n",
    "            A2_b, A3_b = A2(theta), A3(theta)\n",
    "        else:\n",
    "            theta = result32.x\n",
    "            A2_b, A3_b = A2(theta), A3(theta)\n",
    "    \n",
    "    return A2_b, A3_b, theta"
   ]
  },
  {
   "cell_type": "code",
<<<<<<< HEAD
   "execution_count": 92,
=======
   "execution_count": 7,
>>>>>>> 91ab56357258b1501ee4509d2984914c26ff595e
   "id": "77e5ec16",
   "metadata": {},
   "outputs": [],
   "source": [
    "MASS = 3e-6, 3e-6\n",
    "POMEGA = 0, 2*np.pi/3, -2*np.pi/3\n",
<<<<<<< HEAD
    "f = 0.2\n",
=======
    "f = 0.1\n",
>>>>>>> 91ab56357258b1501ee4509d2984914c26ff595e
    "timescale = 1.5e6"
   ]
  },
  {
   "cell_type": "code",
<<<<<<< HEAD
   "execution_count": 93,
=======
   "execution_count": 8,
>>>>>>> 91ab56357258b1501ee4509d2984914c26ff595e
   "id": "a6b6cb2d",
   "metadata": {},
   "outputs": [],
   "source": [
    "def simNoBreathing(alpha):\n",
    "    alpha12, alpha23 = alpha\n",
    "    P1, P2, P3 = alpha12**(3/2), 1, 1/alpha23**(3/2)\n",
    "    mu1, mu3 = MASS\n",
    "    ECC = f*(1-alpha12), f*(1-(alpha12+alpha23)/2), f*(1-alpha23)\n",
    "    \n",
    "    amp1, amp2, amp3, phase1, phase2, phase3, omega2, omega3,  = GtoS(alpha, MASS, ECC, POMEGA)\n",
    "    ecc_nb, pomega_nb = StoG(MASS, (amp1, 0, amp3), (phase1, phase2, phase3))\n",
    "    ecc1, ecc2, ecc3 = ecc_nb\n",
    "    pomega1, pomega2, pomega3 = pomega_nb\n",
    "    \n",
    "    # start simulation\n",
    "    sim = rebound.Simulation()\n",
    "    sim.units = ('yr', 'AU', 'Msun')\n",
    "\n",
    "    # add star, planet 1, planet 2\n",
    "    sim.add(m=1.)\n",
    "    sim.add(m=mu1, P=P1, e=ecc1, pomega=pomega1)\n",
    "    sim.add(P=P2, e=ecc2, pomega=pomega2)\n",
    "    sim.add(m=mu3, P=P3, e=ecc3, pomega=pomega3)\n",
    "    ps = sim.particles\n",
    "    ps[1].r = ps[1].a*(ps[1].m/3/ps[0].m)**(1/3)\n",
    "    ps[2].r = ps[2].a*(ps[2].m/3/ps[0].m)**(1/3)\n",
    "\n",
    "    sim.move_to_com()\n",
    "    sim.integrator = \"whfast\"\n",
    "    sim.dt = sim.particles[1].P/20\n",
    "    sim.collision = \"direct\"\n",
    "    \n",
    "    sim.init_megno()\n",
    "    try:\n",
    "        sim.integrate(timescale, exact_finish_time=0)\n",
    "        megno = sim.calculate_megno() \n",
    "        return megno\n",
    "    except rebound.Collision:\n",
    "        return 4000\n",
    "\n",
    "#     time = np.logspace(0,7,num=100)\n",
    "#     for T in time:\n",
    "#         try:\n",
    "#             sim.integrate(T, exact_finish_time=0)\n",
    "#         except rebound.Collision:\n",
    "#             return sim.t\n",
    "#     return 1e8"
   ]
  },
  {
   "cell_type": "code",
<<<<<<< HEAD
   "execution_count": 94,
=======
   "execution_count": 9,
>>>>>>> 91ab56357258b1501ee4509d2984914c26ff595e
   "id": "c31d1647",
   "metadata": {},
   "outputs": [],
   "source": [
    "def simWithBreathing(alpha):\n",
    "    alpha12, alpha23 = alpha\n",
    "    P1, P2, P3 = alpha12**(3/2), 1, 1/alpha23**(3/2)\n",
    "    mu1, mu3 = MASS\n",
    "    ECC = f*(1-alpha12), f*(1-(alpha12+alpha23)/2), f*(1-alpha23)\n",
    "    \n",
    "    amp1, amp2, amp3, phase1, phase2, phase3, omega2, omega3 = GtoS(alpha, MASS, ECC, POMEGA)   \n",
    "    amp2_wb, amp3_wb, theta = breathingON(MASS, amp3)\n",
    "    ecc_wb, pomega_wb = StoG(MASS, (amp1, amp2_wb, amp3_wb), (phase1, phase2, phase2+theta))\n",
    "    \n",
    "    ecc1, ecc2, ecc3 = ecc_wb\n",
    "    pomega1, pomega2, pomega3 = pomega_wb\n",
    "    \n",
    "    # start simulation\n",
    "    sim = rebound.Simulation()\n",
    "    sim.units = ('yr', 'AU', 'Msun')\n",
    "\n",
    "    # add star, planet 1, planet 2\n",
    "    sim.add(m=1.)\n",
    "    sim.add(m=mu1, P=P1, e=ecc1, pomega=pomega1)\n",
    "    sim.add(P=P2, e=ecc2, pomega=pomega2)\n",
    "    sim.add(m=mu3, P=P3, e=ecc3, pomega=pomega3)\n",
    "    ps = sim.particles\n",
    "    ps[1].r = ps[1].a*(ps[1].m/3/ps[0].m)**(1/3)\n",
    "    ps[2].r = ps[2].a*(ps[2].m/3/ps[0].m)**(1/3)\n",
    "\n",
    "    sim.move_to_com()\n",
    "    sim.integrator = \"whfast\"\n",
    "    sim.dt = sim.particles[1].P/20\n",
    "    sim.collision = \"direct\"\n",
    "    \n",
    "    sim.init_megno()\n",
    "    try:\n",
    "        sim.integrate(timescale, exact_finish_time=0)\n",
    "        megno = sim.calculate_megno() \n",
    "        return megno\n",
    "    except rebound.Collision:\n",
    "        return 4000\n",
    "\n",
    "#     time = np.logspace(0,7,num=100)\n",
    "#     for T in time:\n",
    "#         try:\n",
    "#             sim.integrate(T, exact_finish_time=0)\n",
    "#         except rebound.Collision:\n",
    "#             return sim.t\n",
    "#     return 1e8"
   ]
  },
  {
   "cell_type": "code",
<<<<<<< HEAD
   "execution_count": 95,
=======
   "execution_count": 10,
>>>>>>> 91ab56357258b1501ee4509d2984914c26ff595e
   "id": "eac18456",
   "metadata": {},
   "outputs": [],
   "source": [
<<<<<<< HEAD
    "Ngrid_x = 100\n",
    "Ngrid_y = 100\n",
    "\n",
    "alpha12 = np.linspace(0.75,0.9,Ngrid_x)\n",
    "alpha23 = np.linspace(0.75,0.9,Ngrid_y)\n",
    "parameters = [[x,y] for x in alpha12 for y in alpha23]"
=======
    "# Ngrid_x = 100\n",
    "# Ngrid_y = 100\n",
    "\n",
    "# alpha12 = np.linspace(0.75,0.9,Ngrid_x)\n",
    "# alpha23 = np.linspace(0.75,0.9,Ngrid_y)\n",
    "# parameters = [[x,y] for x in alpha12 for y in alpha23]\n",
    "\n",
    "Ngrid = 10000\n",
    "alpha12 = np.linspace(0.75,0.9,Ngrid)\n",
    "parameters = [[x,x] for x in alpha12]"
>>>>>>> 91ab56357258b1501ee4509d2984914c26ff595e
   ]
  },
  {
   "cell_type": "code",
   "execution_count": null,
   "id": "7d371527",
   "metadata": {},
   "outputs": [],
   "source": [
    "pool = InterruptiblePool()\n",
    "results_no_breathing = pool.map(simNoBreathing,parameters)\n",
<<<<<<< HEAD
    "np.savetxt(\"MEGNO_nb_20%_1ME.csv\", results_no_breathing, delimiter=\",\")\n",
    "\n",
    "results_with_breathing = pool.map(simWithBreathing,parameters)\n",
    "np.savetxt(\"MEGNO_wb_20%_1ME.csv\", results_with_breathing, delimiter=\",\")"
=======
    "np.savetxt(\"DIAG_nb_10%_ME.csv\", results_no_breathing, delimiter=\",\")\n",
    "\n",
    "results_with_breathing = pool.map(simWithBreathing,parameters)\n",
    "np.savetxt(\"DIAG_wb_10%_ME.csv\", results_with_breathing, delimiter=\",\")"
>>>>>>> 91ab56357258b1501ee4509d2984914c26ff595e
   ]
  },
  {
   "cell_type": "code",
   "execution_count": null,
   "id": "955ace76",
   "metadata": {},
   "outputs": [],
   "source": [
<<<<<<< HEAD
    "def rescale(results):\n",
    "    return results\n",
    "#     time_rescaled = np.zeros(len(results))\n",
    "#     for i, value in enumerate(results):\n",
    "#         time_rescaled[i] = round(np.log10(value)[0])\n",
    "#     return time_rescaled"
=======
    "# def rescale(results):\n",
    "#     return results\n",
    "# #     time_rescaled = np.zeros(len(results))\n",
    "# #     for i, value in enumerate(results):\n",
    "# #         time_rescaled[i] = round(np.log10(value)[0])\n",
    "# #     return time_rescaled"
>>>>>>> 91ab56357258b1501ee4509d2984914c26ff595e
   ]
  },
  {
   "cell_type": "code",
<<<<<<< HEAD
   "execution_count": 69,
   "id": "c90c9b3f",
   "metadata": {},
   "outputs": [],
   "source": [
    "def compare(results, threshold):\n",
    "    count = 0\n",
    "    for x in results:\n",
    "        if x > threshold:\n",
    "            count = count + 1\n",
    "    return count"
   ]
  },
  {
   "cell_type": "code",
   "execution_count": 79,
   "id": "37c142aa",
   "metadata": {},
   "outputs": [],
   "source": [
    "dataframe1 = pd.read_csv('/mnt/ssd/home/qiyang/Chaos/megno files/MEGNO_nb_20%_1ME.csv', header=None)\n",
    "data_nb = rescale(dataframe1.values).reshape(Ngrid_y,Ngrid_x)\n",
    "dataframe2 = pd.read_csv('/mnt/ssd/home/qiyang/Chaos/megno files/MEGNO_wb_20%_1ME.csv', header=None)\n",
    "data_wb = rescale(dataframe2.values).reshape(Ngrid_y,Ngrid_x)"
   ]
  },
  {
   "cell_type": "code",
   "execution_count": 80,
   "id": "d22cc1a0",
   "metadata": {},
   "outputs": [
    {
     "data": {
      "text/plain": [
       "<matplotlib.collections.PathCollection at 0x7f4445a40280>"
      ]
     },
     "execution_count": 80,
     "metadata": {},
     "output_type": "execute_result"
    },
    {
     "data": {
      "image/png": "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\n",
      "text/plain": [
       "<Figure size 1000x500 with 2 Axes>"
      ]
     },
     "metadata": {},
     "output_type": "display_data"
    }
   ],
   "source": [
    "print(compare(data_nb, 4),compare(data_wb, 4))"
   ]
  },
  {
   "cell_type": "code",
   "execution_count": 85,
   "id": "1425c5ae",
   "metadata": {},
   "outputs": [
    {
     "data": {
      "image/png": "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\n",
      "text/plain": [
       "<Figure size 1000x500 with 4 Axes>"
      ]
     },
     "metadata": {},
     "output_type": "display_data"
    }
   ],
   "source": [
    "dataframe1 = pd.read_csv('megno_no_breathing.csv', header=None)\n",
    "data_nb = rescale(dataframe1.values).reshape(100,100)\n",
    "dataframe2 = pd.read_csv('megno_with_breathing.csv', header=None)\n",
    "data_wb = rescale(dataframe2.values).reshape(100,100)\n",
    "\n",
    "f, (ax1, ax2) = plt.subplots(1, 2, sharey=True, figsize=(10,5))\n",
    "f.subplots_adjust(wspace=0)\n",
    "\n",
    "extent = [min(alpha12),max(alpha12),min(alpha23),max(alpha23)]\n",
    "ax1.set_xlim(extent[0],extent[1])\n",
    "ax1.set_ylim(extent[2],extent[3])\n",
    "ax1.set_ylabel(r\"$\\alpha_{23}$\")\n",
    "ax1.set_xlabel(r\"$\\alpha_{12}$\")\n",
    "ax1.set_title(\"without secular effect\")\n",
    "\n",
    "ax2.set_xlim(extent[0],extent[1])\n",
    "ax2.set_ylim(extent[2],extent[3])\n",
    "ax2.set_xlabel(r\"$\\alpha_{12}$\")\n",
    "ax2.set_title(\"with secular effect\")\n",
    "\n",
    "im1 = ax1.imshow(data_nb.transpose(), vmin=2, vmax=7, interpolation=\"none\", cmap=\"binary\", origin=\"lower\", aspect='auto', extent=extent)\n",
    "cb1 = plt.colorbar(im1, ax=ax1)\n",
    "im2 = ax2.imshow(data_wb.transpose(), vmin=2, vmax=7, interpolation=\"none\", cmap=\"binary\", origin=\"lower\", aspect='auto', extent=extent)\n",
    "cb2 = plt.colorbar(im2, ax=ax2)\n",
    "cb2.set_label(\"MEGNO\")\n",
=======
   "execution_count": null,
   "id": "1425c5ae",
   "metadata": {},
   "outputs": [],
   "source": [
    "# dataframe1 = pd.read_csv('MEGNO_nb_20%_ME.csv', header=None)\n",
    "# data_nb = rescale(dataframe1.values).reshape(Ngrid_y,Ngrid_x)\n",
    "# dataframe2 = pd.read_csv('MEGNO_wb_20%_ME.csv', header=None)\n",
    "# data_wb = rescale(dataframe2.values).reshape(Ngrid_y,Ngrid_x)\n",
    "\n",
    "# f, (ax1, ax2) = plt.subplots(1, 2, sharey=True, figsize=(10,5))\n",
    "# f.subplots_adjust(wspace=0)\n",
    "\n",
    "# extent = [min(alpha12),max(alpha12),min(alpha23),max(alpha23)]\n",
    "# ax1.set_xlim(extent[0],extent[1])\n",
    "# ax1.set_ylim(extent[2],extent[3])\n",
    "# ax1.set_ylabel(r\"$\\alpha_{23}$\")\n",
    "# ax1.set_xlabel(r\"$\\alpha_{12}$\")\n",
    "# ax1.set_title(\"without secular effect\")\n",
    "\n",
    "# ax2.set_xlim(extent[0],extent[1])\n",
    "# ax2.set_ylim(extent[2],extent[3])\n",
    "# ax2.set_xlabel(r\"$\\alpha_{12}$\")\n",
    "# ax2.set_title(\"with secular effect\")\n",
    "\n",
    "# im1 = ax1.imshow(data_nb.transpose(), vmin=2, vmax=7, interpolation=\"none\", cmap=\"binary\", origin=\"lower\", aspect='auto', extent=extent)\n",
    "# cb1 = plt.colorbar(im1, ax=ax1)\n",
    "# im2 = ax2.imshow(data_wb.transpose(), vmin=2, vmax=7, interpolation=\"none\", cmap=\"binary\", origin=\"lower\", aspect='auto', extent=extent)\n",
    "# cb2 = plt.colorbar(im2, ax=ax2)\n",
    "# cb2.set_label(\"MEGNO\")\n",
>>>>>>> 91ab56357258b1501ee4509d2984914c26ff595e
    "\n",
    "# # im1 = ax1.imshow(data_nb.transpose(),vmin=2, vmax=8, cmap=colors.ListedColormap(['r','y','g','b','m','w']), origin=\"lower\", aspect='auto', extent=extent)\n",
    "# # cb1 = plt.colorbar(im1, ax=ax1)\n",
    "# # im2 = ax2.imshow(data_wb.transpose(),vmin=2, vmax=8, cmap=colors.ListedColormap(['r','y','g','b','m','w']), origin=\"lower\", aspect='auto', extent=extent)\n",
    "# # cb2 = plt.colorbar(im2, ax=ax2)\n",
    "# # cb2.set_label(\"Collision Time\")"
   ]
<<<<<<< HEAD
  },
  {
   "cell_type": "code",
   "execution_count": null,
   "id": "93cec0e9",
   "metadata": {},
   "outputs": [],
   "source": []
=======
>>>>>>> 91ab56357258b1501ee4509d2984914c26ff595e
  }
 ],
 "metadata": {
  "kernelspec": {
   "display_name": "Python 3 (ipykernel)",
   "language": "python",
   "name": "python3"
  },
  "language_info": {
   "codemirror_mode": {
    "name": "ipython",
    "version": 3
   },
   "file_extension": ".py",
   "mimetype": "text/x-python",
   "name": "python",
   "nbconvert_exporter": "python",
   "pygments_lexer": "ipython3",
<<<<<<< HEAD
   "version": "3.10.9"
=======
   "version": "3.10.11"
>>>>>>> 91ab56357258b1501ee4509d2984914c26ff595e
  }
 },
 "nbformat": 4,
 "nbformat_minor": 5
}
