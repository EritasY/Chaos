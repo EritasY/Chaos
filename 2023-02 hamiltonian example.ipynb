{
 "cells": [
  {
   "attachments": {},
   "cell_type": "markdown",
   "metadata": {},
   "source": [
    "The relevant Hamiltonian (A7) is \n",
    "\n",
    "$H(\\phi, p, t_{rescaled}) = \\frac{p^2}{2} - \\epsilon_1 \\cos\\phi - \\epsilon_2 \\cos(r(\\phi - \\nu t_{rescaled}))$\n",
    "\n",
    "where $p$ is the conjugate momentum of $\\phi$.\n",
    "\n",
    "From Hamiltonian mechanics, Hamilton's equations of motion are given by \n",
    "\n",
    "$\\dot q = \\frac{\\partial H}{\\partial p} \\quad \\text{ and } \\quad \\dot p = \\frac{\\partial H}{\\partial q}$\n",
    "\n",
    "for each coordinate $q$ and its conjugate momentum $p$. So, for this Hamiltonian, the relevant equations are\n",
    "\n",
    "$\\dot \\phi = \\frac{\\partial H}{\\partial p} = p$\n",
    "\n",
    "$\\dot p = \\frac{\\partial H}{\\partial \\phi} = \\epsilon_1 \\sin\\phi + \\epsilon_2 r\\sin(r(\\phi-\\nu t)).$"
   ]
  },
  {
   "cell_type": "code",
   "execution_count": null,
   "metadata": {
    "vscode": {
     "languageId": "plaintext"
    }
   },
   "outputs": [],
   "source": []
  }
 ],
 "metadata": {
  "language_info": {
   "name": "python"
  },
  "orig_nbformat": 4
 },
 "nbformat": 4,
 "nbformat_minor": 2
}
