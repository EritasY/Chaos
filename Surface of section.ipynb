{
 "cells": [
  {
   "cell_type": "code",
   "execution_count": null,
   "id": "0a375c76",
   "metadata": {},
   "outputs": [],
   "source": [
    "import numpy as np\n",
    "import rebound\n",
    "from scipy.integrate import odeint\n",
    "import matplotlib.pyplot as plt\n",
    "from celmech.disturbing_function import df_coefficient_Ctilde\n",
    "from celmech.disturbing_function import evaluate_df_coefficient_dict"
   ]
  },
  {
   "cell_type": "code",
   "execution_count": null,
   "id": "ba9c7c1c",
   "metadata": {},
   "outputs": [],
   "source": [
    "def wrapRad(theta, k):\n",
    "    return (theta + k*np.pi) % (2*k*np.pi) - k*np.pi"
   ]
  },
  {
   "cell_type": "markdown",
   "id": "b72d7355",
   "metadata": {},
   "source": [
    "$$ param: \\qquad\n",
    "r = \\frac{j_2}{j_1},\\qquad\n",
    "\\epsilon_1 = \\mu_1 |C_1| e^{k_1},\\qquad\n",
    "\\epsilon_2 = \\mu_2 |C_2| e^{k_2}, \\qquad\n",
    "\\nu = \\frac{1}{\\sqrt{3}}\\frac{n_{r2}-n_{r1}}{n_{r1}} = \\frac{1}{\\sqrt{3}}\\left(\\frac{j_1(j_2+k_2)}{j_2(j_1-k_1)}\\frac{n_2}{n_1}-1\\right)$$"
   ]
  },
  {
   "cell_type": "code",
   "execution_count": null,
   "id": "44449a0a",
   "metadata": {},
   "outputs": [],
   "source": [
    "def param2OE(param, userDefined):\n",
    "    r, nu, epsilon1, epsilon2 = param\n",
    "    ecc, P1, j1, k1, k2 = userDefined\n",
    "    \n",
    "    j2 = r*j1\n",
    "    \n",
    "    #calculate C1 and C2\n",
    "    coeff1 = (j1,-(j1-k1),0,-k1,0,0)\n",
    "    C1 = df_coefficient_Ctilde(*coeff1,*(0,0,0,0))\n",
    "    alpha1 = ((j1-k1)/j1)**(2/3)\n",
    "    Cval1 = evaluate_df_coefficient_dict(C1,alpha1)\n",
    "\n",
    "    coeff2 = (j2+k2,-j2,-k2,0,0,0)\n",
    "    C2 = df_coefficient_Ctilde(*coeff2,*(0,0,0,0))\n",
    "    alpha2 = (j2/(j2+k2))**(2/3)\n",
    "    Cval2 = evaluate_df_coefficient_dict(C2,alpha2)\n",
    "\n",
    "    # get mu1 and mu2\n",
    "    mu1 = epsilon1 / (abs(Cval1) * ecc**k1)\n",
    "    mu2 = epsilon2 / (abs(Cval2) * ecc**k2)\n",
    "    \n",
    "    # get P2\n",
    "    P2 = P1 * j1*(j2+k2) / (j2*(j1-k1)*(np.sqrt(3)*nu + 1))\n",
    "\n",
    "    return mu1, mu2, P1, P2"
   ]
  },
  {
   "cell_type": "code",
   "execution_count": null,
   "id": "204b3b90",
   "metadata": {},
   "outputs": [],
   "source": [
    "def OE2param(OE, userDefined):\n",
    "    ecc, P1, P2, mu1, mu2 = OE\n",
    "    j1, k1, j2, k2 = userDefined\n",
    "    \n",
    "    # get r\n",
    "    r = j2/j1\n",
    "\n",
    "    # calculate C1 and C2\n",
    "    coeff1 = (j1,-(j1-k1),0,-k1,0,0)\n",
    "    C1 = df_coefficient_Ctilde(*coeff1,*(0,0,0,0))\n",
    "    alpha1 = ((j1-k1)/j1)**(2/3)\n",
    "    Cval1 = evaluate_df_coefficient_dict(C1,alpha1)\n",
    "\n",
    "    coeff2 = (j2+k2,-j2,-k2,0,0,0)\n",
    "    C2 = df_coefficient_Ctilde(*coeff2,*(0,0,0,0))\n",
    "    alpha2 = (j2/(j2+k2))**(2/3)\n",
    "    Cval2 = evaluate_df_coefficient_dict(C2,alpha2)\n",
    "\n",
    "    # get epsilon1 and epsilon2\n",
    "    epsilon1 = mu1 * abs(Cval1) * ecc**k1\n",
    "    epsilon2 = mu2 * abs(Cval2) * ecc**k2\n",
    "\n",
    "    # get nu\n",
    "    n1 = 2*np.pi/P1\n",
    "    n_r1 = (j1-k1) * n1 / j1\n",
    "    n2 = 2*np.pi/P2\n",
    "    n_r2 = (j2+k2) * n2 / j2\n",
    "    nu = 1/np.sqrt(3) * (n_r2/n_r1 - 1)\n",
    "    \n",
    "    return r, nu, epsilon1, epsilon2"
   ]
  },
  {
   "cell_type": "markdown",
   "id": "bc4d8d3c",
   "metadata": {},
   "source": [
    "$$ ICs: \\qquad\n",
    "\\phi = j_1(\\lambda-n_{r1}t),\\qquad \n",
    "p = -\\sqrt{3}\\left[\\left(\\frac{n_{r1}}{2\\pi/P_0}\\right)^{1/3}-1\\right]$$"
   ]
  },
  {
   "cell_type": "code",
   "execution_count": null,
   "id": "ecced792",
   "metadata": {},
   "outputs": [],
   "source": [
    "def param2OE_IC(j1, k1, P1, IC):\n",
    "    n_r1 = (j1-k1)*2*np.pi / (j1*P1)\n",
    "    return [[phi_0/j1 ,(1-p_0/np.sqrt(3))**3 * (2*np.pi/n_r1)] for phi_0, p_0 in IC]\n",
    "\n",
    "def OE2param_IC(j1, k1, P1, IC):\n",
    "    n_r1 = (j1-k1)*2*np.pi / (j1*P1)\n",
    "    return [[j1*lambda_0, -np.sqrt(3) * ((n_r1 / (2*np.pi/P_0))**(1/3) - 1)] for lambda_0, P_0 in IC]"
   ]
  },
  {
   "cell_type": "code",
   "execution_count": null,
   "id": "0c88230c",
   "metadata": {},
   "outputs": [],
   "source": [
    "s = 1/4000\n",
    "nu = 0.0015\n",
    "ecc, P1, j1, k1, k2 = 0.05, 1, 5, 1, 1\n",
    "r, epsilon1, epsilon2 = 1, s**2, 0.4*s**2\n",
    "j2 = r*j1\n",
    "mu1, mu2, P1, P2 = param2OE((r, nu, epsilon1, epsilon2), (ecc, P1, j1, k1, k2))"
   ]
  },
  {
   "cell_type": "code",
   "execution_count": null,
   "id": "3f8d0c55",
   "metadata": {},
   "outputs": [],
   "source": [
    "# set lambda_0 and P_0\n",
    "ic_param = [[0,x] for x in np.linspace(-0.5*nu, 1.5*nu, 20)]\n",
    "ic_OE = param2OE_IC(j1, k1, P1, ic_param)"
   ]
  },
  {
   "cell_type": "code",
   "execution_count": null,
   "id": "a5997a81",
   "metadata": {},
   "outputs": [],
   "source": [
    "def hamilton(y, t, epsilon1, epsilon2, r, nu):\n",
    "    phi, p = y\n",
    "    dydt = [p, -epsilon1*np.sin(phi) - r*epsilon2*np.sin(r*(phi-nu*t))]\n",
    "    return dydt"
   ]
  },
  {
   "cell_type": "markdown",
   "id": "05799959",
   "metadata": {},
   "source": [
    "We define\n",
    "$$\\phi = j_1(\\lambda-n_{r1}t) - k_1\\varpi.$$\n",
    "The two resonance terms in the Hamiltonian become\n",
    "$$H_{res,1}+H_{res,2} = \\cos{(\\phi-\\zeta_1)} + \\cos{(r(\\phi-\\nu t'_r) - \\zeta_2)},$$\n",
    "where\n",
    "$$t'_{r} = t_r - \\frac{rk_1+k_2}{r\\nu}\\varpi$$\n",
    "$$\\zeta_1 = (j_1-k_1)\\lambda_{1,initial} = -\\pi$$\n",
    "$$\\zeta_2 = (j_2+k_2)\\lambda_{2,initial} = \\begin{cases}0 & k_2\\text{ is odd} \\\\ -\\pi & k_2\\text{ is even} \\end{cases}$$"
   ]
  },
  {
   "cell_type": "code",
   "execution_count": null,
   "id": "ec7dc81f",
   "metadata": {
    "scrolled": false
   },
   "outputs": [],
   "source": [
    "# Plot surface of section by rebound and by Hamiltonian\n",
    "span = 1\n",
    "#---------------------------------REBOUND-------------------------------------\n",
    "f, (ax1, ax2) = plt.subplots(1, 2, sharey=True, figsize=(13,8))\n",
    "f.subplots_adjust(wspace=0)\n",
    "    \n",
    "n_r1 = (j1-k1) * 2*np.pi / (j1*P1)\n",
    "n_r2 = (j2+k2) * 2*np.pi / (j2*P2)\n",
    "pomega0 = 0\n",
    "    \n",
    "for lambda_0, P_0 in ic_OE:\n",
    "    # start simulation\n",
    "    sim = rebound.Simulation()\n",
    "    sim.units = ('yr', 'AU', 'Msun')\n",
    "\n",
    "    # add star, planet 1, planet 2\n",
    "    sim.add(m=1.)\n",
    "    sim.add(m=mu1, P=P1, l=-np.pi/(j1-k1))\n",
    "    sim.add(m=mu2, P=P2, l=-(k2+1)%2*np.pi/(j2+k2))\n",
    "    ps = sim.particles\n",
    "    ps[1].r = ps[1].a*(ps[1].m/3/ps[0].m)**(1/3)\n",
    "    ps[2].r = ps[2].a*(ps[2].m/3/ps[0].m)**(1/3)\n",
    "    \n",
    "    # add test particle\n",
    "    sim.add(P=P_0, l=lambda_0, e=ecc, pomega=pomega0)\n",
    "    sim.move_to_com()\n",
    "    sim.integrator = \"whfast\"\n",
    "    sim.dt = sim.particles[1].P/20\n",
    "    sim.collision = \"direct\"\n",
    "    \n",
    "    # track how system developes in time\n",
    "    num = 201\n",
    "    phi, p = np.zeros(num), np.zeros(num)\n",
    "    \n",
    "    time_rescaled = np.linspace(0,num-1,num)* 2*np.pi/(r*nu)\n",
    "    info = sim.particles[3].calculate_orbit(primary=sim.particles[0])\n",
    "    for i,t_r in enumerate(time_rescaled):\n",
    "        try:\n",
    "            t_unscaled = (t_r + (k2+r*k1)*info.pomega/(r*nu))/(np.sqrt(3)*j1*n_r1)\n",
    "            sim.integrate(t_unscaled)\n",
    "        except rebound.Collision:\n",
    "            print('Collision')\n",
    "        info = sim.particles[3].calculate_orbit(primary=sim.particles[0])\n",
    "        \n",
    "        phi[i] = wrapRad(j1*(info.l - n_r1*t_unscaled) - k1*info.pomega, span)\n",
    "        p[i] = -np.sqrt(3)*((n_r1 / info.n)**(1/3) - 1)\n",
    "    ax1.scatter(phi,p,[1],color='black')\n",
    "ax1.set_ylabel(r'$p$')\n",
    "ax1.set_xlabel(r'$\\phi$')\n",
    "ax1.set_xticks(np.arange(-np.pi/2, np.pi, step=(np.pi/2)), ['-π/2', '0', 'π/2'])\n",
    "ax1.set_title(fr'$\\nu={nu}$')\n",
    "\n",
    "\n",
    "#-------------------------------------Hamiltonian---------------------------------------------\n",
    "t = np.linspace(0,num-1,num)*2*np.pi/(r*nu)  # Note: t is the rescaled time\n",
    "for y0 in ic_param:\n",
    "    sol = odeint(hamilton, y0, t, args=(epsilon1,epsilon2,r,nu))\n",
    "    phi = (sol[:,0] + span*np.pi*np.ones(num)) % (2*span*np.pi) - span*np.pi*np.ones(num)\n",
    "    ax2.scatter(phi, sol[:,1], [1], color='black')\n",
    "ax2.set_xlabel(r'$\\phi$')\n",
    "ax2.set_xticks(np.arange(-np.pi/2, np.pi, step=(np.pi/2)), ['-π/2', '0', 'π/2'])\n",
    "ax2.set_title(fr'$\\nu={nu}$')"
   ]
  },
  {
   "cell_type": "code",
   "execution_count": null,
   "id": "03c548b9",
   "metadata": {},
   "outputs": [],
   "source": []
  }
 ],
 "metadata": {
  "kernelspec": {
   "display_name": "Python 3 (ipykernel)",
   "language": "python",
   "name": "python3"
  },
  "language_info": {
   "codemirror_mode": {
    "name": "ipython",
    "version": 3
   },
   "file_extension": ".py",
   "mimetype": "text/x-python",
   "name": "python",
   "nbconvert_exporter": "python",
   "pygments_lexer": "ipython3",
   "version": "3.10.9"
  }
 },
 "nbformat": 4,
 "nbformat_minor": 5
}
