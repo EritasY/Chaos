{
 "cells": [
  {
   "cell_type": "code",
   "execution_count": 1,
   "id": "0a375c76",
   "metadata": {},
   "outputs": [],
   "source": [
    "import numpy as np\n",
    "import rebound\n",
    "from scipy.integrate import odeint\n",
    "import matplotlib.pyplot as plt\n",
    "from celmech.disturbing_function import df_coefficient_Ctilde\n",
    "from celmech.disturbing_function import evaluate_df_coefficient_dict"
   ]
  },
  {
   "cell_type": "code",
   "execution_count": 2,
   "id": "ba9c7c1c",
   "metadata": {},
   "outputs": [],
   "source": [
    "def wrapRad(theta):\n",
    "    return (theta + np.pi) % (2*np.pi) - np.pi"
   ]
  },
  {
   "cell_type": "markdown",
   "id": "b72d7355",
   "metadata": {},
   "source": [
    "$$ param: \\qquad\n",
    "r = \\frac{j_2}{j_1},\\qquad\n",
    "\\epsilon_1 = \\mu_1 |C_1| e^{k_1},\\qquad\n",
    "\\epsilon_2 = \\mu_2 |C_2| e^{k_2}, \\qquad\n",
    "\\nu = \\frac{1}{\\sqrt{3}}\\frac{n_{r2}-n_{r1}}{n_{r1}} = \\frac{1}{\\sqrt{3}}\\left(\\frac{j_1(j_2+k_2)}{j_2(j_1-k_1)}\\frac{n_2}{n_1}-1\\right)$$"
   ]
  },
  {
   "cell_type": "code",
   "execution_count": 3,
   "id": "44449a0a",
   "metadata": {},
   "outputs": [],
   "source": [
    "def param2OE(param, userDefined):\n",
    "    r, nu, epsilon1, epsilon2 = param\n",
    "    ecc, P1, j1, k1, k2 = userDefined\n",
    "    \n",
    "    j2 = r*j1\n",
    "    \n",
    "    #calculate C1 and C2\n",
    "    coeff1 = (j1,-(j1-k1),0,-k1,0,0)\n",
    "    C1 = df_coefficient_Ctilde(*coeff1,*(0,0,0,0))\n",
    "    alpha1 = ((j1-k1)/j1)**(2/3)\n",
    "    Cval1 = evaluate_df_coefficient_dict(C1,alpha1)\n",
    "\n",
    "    coeff2 = (j2+k2,-j2,-k2,0,0,0)\n",
    "    C2 = df_coefficient_Ctilde(*coeff2,*(0,0,0,0))\n",
    "    alpha2 = (j2/(j2+k2))**(2/3)\n",
    "    Cval2 = evaluate_df_coefficient_dict(C2,alpha2)\n",
    "\n",
    "    # get mu1 and mu2\n",
    "    mu1 = epsilon1 / (abs(Cval1) * ecc**k1)\n",
    "    mu2 = epsilon2 / (abs(Cval2) * ecc**k2)\n",
    "    \n",
    "    # get P2\n",
    "    P2 = P1 * j1*(j2+k2) / (j2*(j1-k1)*(np.sqrt(3)*nu + 1))\n",
    "\n",
    "    return mu1, mu2, P1, P2"
   ]
  },
  {
   "cell_type": "code",
   "execution_count": 4,
   "id": "204b3b90",
   "metadata": {},
   "outputs": [],
   "source": [
    "def OE2param(OE, userDefined):\n",
    "    ecc, P1, P2, mu1, mu2 = OE\n",
    "    j1, k1, j2, k2 = userDefined\n",
    "    \n",
    "    # get r\n",
    "    r = j2/j1\n",
    "\n",
    "    # calculate C1 and C2\n",
    "    coeff1 = (j1,-(j1-k1),0,-k1,0,0)\n",
    "    C1 = df_coefficient_Ctilde(*coeff1,*(0,0,0,0))\n",
    "    alpha1 = ((j1-k1)/j1)**(2/3)\n",
    "    Cval1 = evaluate_df_coefficient_dict(C1,alpha1)\n",
    "\n",
    "    coeff2 = (j2+k2,-j2,-k2,0,0,0)\n",
    "    C2 = df_coefficient_Ctilde(*coeff2,*(0,0,0,0))\n",
    "    alpha2 = (j2/(j2+k2))**(2/3)\n",
    "    Cval2 = evaluate_df_coefficient_dict(C2,alpha2)\n",
    "\n",
    "    # get epsilon1 and epsilon2\n",
    "    epsilon1 = mu1 * abs(Cval1) * ecc**k1\n",
    "    epsilon2 = mu2 * abs(Cval2) * ecc**k2\n",
    "\n",
    "    # get nu\n",
    "    n1 = 2*np.pi/P1\n",
    "    n_r1 = (j1-k1) * n1 / j1\n",
    "    n2 = 2*np.pi/P2\n",
    "    n_r2 = (j2+k2) * n2 / j2\n",
    "    nu = 1/np.sqrt(3) * (n_r2/n_r1 - 1)\n",
    "    \n",
    "    return r, nu, epsilon1, epsilon2"
   ]
  },
  {
   "cell_type": "markdown",
   "id": "bc4d8d3c",
   "metadata": {},
   "source": [
    "$$ ICs: \\qquad\n",
    "\\phi = j_1(\\lambda-n_{r1}t),\\qquad \n",
    "p = -\\sqrt{3}\\left[\\left(\\frac{n_{r1}}{2\\pi/P_0}\\right)^{1/3}-1\\right]$$"
   ]
  },
  {
   "cell_type": "code",
   "execution_count": 5,
   "id": "ecced792",
   "metadata": {},
   "outputs": [],
   "source": [
    "def param2OE_IC(j1, k1, P1, IC):\n",
    "    n_r1 = (j1-k1)*2*np.pi / (j1*P1)\n",
    "    return [[phi_0/j1 ,(1-p_0/np.sqrt(3))**3 * (2*np.pi/n_r1)] for phi_0, p_0 in IC]\n",
    "\n",
    "def OE2param_IC(j1, k1, P1, IC):\n",
    "    n_r1 = (j1-k1)*2*np.pi / (j1*P1)\n",
    "    return [[j1*lambda_0, -np.sqrt(3) * ((n_r1 / (2*np.pi/P_0))**(1/3) - 1)] for lambda_0, P_0 in IC]"
   ]
  },
  {
   "cell_type": "code",
   "execution_count": 6,
   "id": "0c88230c",
   "metadata": {},
   "outputs": [],
   "source": [
    "# user-defined parameters\n",
    "ecc, j1, k1, j2, k2 = 0.01, 5, 1, 5, 1\n",
    "P2_0 = (j2+k2)* j1 / ((j1-k1)*j2)\n",
    "P1, P2 = 1, 0.97*P2_0\n",
    "mu1, mu2 = 1e-6, 1e-6\n",
    "lambda_0 = 0\n",
    "P_0 = j1/(j1-k1)*P1*0.998"
   ]
  },
  {
   "cell_type": "code",
   "execution_count": 7,
   "id": "9f3ec6be",
   "metadata": {},
   "outputs": [],
   "source": [
    "r, nu, epsilon1, epsilon2 = OE2param((ecc, P1, P2, mu1, mu2),(j1, k1, j2, k2))"
   ]
  },
  {
   "cell_type": "code",
   "execution_count": 8,
   "id": "3f8d0c55",
   "metadata": {},
   "outputs": [],
   "source": [
    "# set nu and p_0 and run it for 1e4 orbitals\n",
    "ic = [[0,x] for x in np.linspace(j1/(j1-k1)*P1*0.998, j2/(j2+k2)*P2*1.01, 5)]"
   ]
  },
  {
   "cell_type": "code",
   "execution_count": 9,
   "id": "806dda91",
   "metadata": {},
   "outputs": [
    {
     "data": {
      "image/png": "[encoded data removed]",
      "text/plain": [
       "<Figure size 640x480 with 1 Axes>"
      ]
     },
     "metadata": {},
     "output_type": "display_data"
    }
   ],
   "source": [
    "for lambda_0, P_0 in ic:\n",
    "    # start simulation\n",
    "    sim = rebound.Simulation()\n",
    "    sim.units = ('yr', 'AU', 'Msun')\n",
    "\n",
    "    # add star, planet 1, planet 2\n",
    "    sim.add(m=1.)\n",
    "    sim.add(m=mu1, P=P1)\n",
    "    sim.add(m=mu2, P=P2)\n",
    "    ps = sim.particles\n",
    "    ps[1].r = ps[1].a*(ps[1].m/3/ps[0].m)**(1/3)\n",
    "    ps[2].r = ps[2].a*(ps[2].m/3/ps[0].m)**(1/3)\n",
    "    \n",
    "    # add test particle\n",
    "    sim.add(P=P_0, l=lambda_0, e=ecc)\n",
    "    sim.move_to_com()\n",
    "    sim.integrator = \"whfast\"\n",
    "    sim.dt = sim.particles[1].P/20\n",
    "    sim.collision = \"direct\"\n",
    "    # track how system developes in time\n",
    "    num = 201\n",
    "    time = np.linspace(0,num-1,num)*2*np.pi/(r*nu)\n",
    "\n",
    "    n_r1 = (j1-k1) * 2*np.pi / (j1*P1)\n",
    "    n_r2 = (j2+k2) * 2*np.pi / (j2*P2)\n",
    "\n",
    "    phi, p = np.zeros(num), np.zeros(num)\n",
    "    for i,t in enumerate(time):\n",
    "        try:\n",
    "            sim.integrate(t)\n",
    "        except rebound.Collision:\n",
    "            print('Collision')\n",
    "        info = sim.particles[3].calculate_orbit()\n",
    "        \n",
    "        phi[i] = wrapRad(j1*(info.l - n_r1*t))\n",
    "        p[i] = -np.sqrt(3)*((n_r1 / info.n)**(1/3) - 1)\n",
    "    plt.scatter(phi,p,[1],color='black')\n",
    "\n",
    "plt.xlabel(r'$\\phi$')\n",
    "plt.ylabel(r'$p$')\n",
    "plt.title(fr'phase-space plot for $\\nu={nu}$')\n",
    "plt.show()"
   ]
  },
  {
   "cell_type": "code",
   "execution_count": 10,
   "id": "a5997a81",
   "metadata": {},
   "outputs": [],
   "source": [
    "def hamilton(y,t,epsilon1,epsilon2,r,nu):\n",
    "    phi, p = y\n",
    "    dydt = [p, -epsilon1*np.sin(phi) - r*epsilon2*np.sin(r*(phi-nu*t))]\n",
    "    return dydt"
   ]
  },
  {
   "cell_type": "code",
   "execution_count": 11,
   "id": "7ad003fa",
   "metadata": {},
   "outputs": [],
   "source": [
    "def phasePlot(epsilon1, epsilon2, r, nu, ic):\n",
    "    num = 201  # number of sampled time\n",
    "    t = np.linspace(0,num-1,num)*2*np.pi/(r*nu)\n",
    "    \n",
    "    for y0 in ic:\n",
    "        sol = odeint(hamilton, y0, t, args=(epsilon1,epsilon2,r,nu))\n",
    "        phi = (sol[:,0] + np.pi * np.ones(num)) % (2*np.pi) - np.pi * np.ones(num)  # wrap into [-pi,pi]\n",
    "        plt.plot(phi, sol[:,1], 'k.', ms=0.2)\n",
    "    plt.xlabel(r'$\\phi$')\n",
    "    plt.ylabel(r'$p$')\n",
    "    plt.title(fr'phase-space plot for $\\nu={nu}$')\n",
    "    plt.show()"
   ]
  },
  {
   "cell_type": "code",
   "execution_count": 12,
   "id": "ec7dc81f",
   "metadata": {},
   "outputs": [
    {
     "data": {
      "image/png": "[encoded data removed]",
      "text/plain": [
       "<Figure size 640x480 with 1 Axes>"
      ]
     },
     "metadata": {},
     "output_type": "display_data"
    }
   ],
   "source": [
    "phasePlot(epsilon1, epsilon2, r, nu, OE2param_IC(j1, k1, P1, ic))"
   ]
  }
 ],
 "metadata": {
  "kernelspec": {
   "display_name": "Python 3 (ipykernel)",
   "language": "python",
   "name": "python3"
  },
  "language_info": {
   "codemirror_mode": {
    "name": "ipython",
    "version": 3
   },
   "file_extension": ".py",
   "mimetype": "text/x-python",
   "name": "python",
   "nbconvert_exporter": "python",
   "pygments_lexer": "ipython3",
   "version": "3.10.9"
  }
 },
 "nbformat": 4,
 "nbformat_minor": 5
}
