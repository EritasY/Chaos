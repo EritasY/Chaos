{
 "cells": [
  {
   "cell_type": "code",
   "execution_count": 1,
   "id": "0a375c76",
   "metadata": {},
   "outputs": [],
   "source": [
    "import numpy as np\n",
    "import rebound\n",
    "from scipy.integrate import odeint\n",
    "import matplotlib.pyplot as plt\n",
    "from celmech.disturbing_function import df_coefficient_Ctilde\n",
    "from celmech.disturbing_function import evaluate_df_coefficient_dict\n",
    "from rebound.interruptible_pool import InterruptiblePool"
   ]
  },
  {
   "cell_type": "markdown",
   "id": "b72d7355",
   "metadata": {},
   "source": [
    "$$ param: \\qquad\n",
    "r = \\frac{j_2}{j_1},\\qquad\n",
    "\\epsilon_1 = \\mu_1 |C_1| e^{k_1},\\qquad\n",
    "\\epsilon_2 = \\mu_2 |C_2| e^{k_2}, \\qquad\n",
    "\\nu = \\frac{1}{\\sqrt{3}}\\frac{n_{r2}-n_{r1}}{n_{r1}} = \\frac{1}{\\sqrt{3}}\\left(\\frac{j_1(j_2+k_2)}{j_2(j_1-k_1)}\\frac{n_2}{n_1}-1\\right)$$"
   ]
  },
  {
   "cell_type": "markdown",
   "id": "e882a6d4",
   "metadata": {},
   "source": [
    "$$ ICs: \\qquad\n",
    "\\phi = j_1(\\lambda-n_{r1}t),\\qquad \n",
    "p = -\\sqrt{3}\\left[\\left(\\frac{n_{r1}}{2\\pi/P_0}\\right)^{1/3}-1\\right]$$"
   ]
  },
  {
   "cell_type": "code",
   "execution_count": 2,
   "id": "44449a0a",
   "metadata": {},
   "outputs": [],
   "source": [
    "def param2OE(param, userDefined):\n",
    "    r, nu, epsilon1, epsilon2 = param\n",
    "    ecc, P1, j1, k1, k2 = userDefined\n",
    "    \n",
    "    j2 = r*j1\n",
    "    \n",
    "    #calculate C1 and C2\n",
    "    coeff1 = (j1,-(j1-k1),0,-k1,0,0)\n",
    "    C1 = df_coefficient_Ctilde(*coeff1,*(0,0,0,0))\n",
    "    alpha1 = ((j1-k1)/j1)**(2/3)\n",
    "    Cval1 = evaluate_df_coefficient_dict(C1,alpha1)\n",
    "\n",
    "    coeff2 = (j2+k2,-j2,-k2,0,0,0)\n",
    "    C2 = df_coefficient_Ctilde(*coeff2,*(0,0,0,0))\n",
    "    alpha2 = (j2/(j2+k2))**(2/3)\n",
    "    Cval2 = evaluate_df_coefficient_dict(C2,alpha2)\n",
    "\n",
    "    # get mu1 and mu2\n",
    "    mu1 = epsilon1 / (abs(Cval1) * ecc**k1)\n",
    "    mu2 = epsilon2 / (abs(Cval2) * ecc**k2)\n",
    "    \n",
    "    # get P2\n",
    "    P2 = P1 * j1*(j2+k2) / (j2*(j1-k1)*(np.sqrt(3)*nu + 1))\n",
    "\n",
    "    return mu1, mu2, P1, P2"
   ]
  },
  {
   "cell_type": "code",
   "execution_count": 3,
   "id": "204b3b90",
   "metadata": {},
   "outputs": [],
   "source": [
    "def OE2param(OE, userDefined):\n",
    "    ecc, P1, P2, mu1, mu2 = OE\n",
    "    j1, k1, j2, k2 = userDefined\n",
    "    \n",
    "    # get r\n",
    "    r = j2/j1\n",
    "\n",
    "    # calculate C1 and C2\n",
    "    coeff1 = (j1,-(j1-k1),0,-k1,0,0)\n",
    "    C1 = df_coefficient_Ctilde(*coeff1,*(0,0,0,0))\n",
    "    alpha1 = ((j1-k1)/j1)**(2/3)\n",
    "    Cval1 = evaluate_df_coefficient_dict(C1,alpha1)\n",
    "\n",
    "    coeff2 = (j2+k2,-j2,-k2,0,0,0)\n",
    "    C2 = df_coefficient_Ctilde(*coeff2,*(0,0,0,0))\n",
    "    alpha2 = (j2/(j2+k2))**(2/3)\n",
    "    Cval2 = evaluate_df_coefficient_dict(C2,alpha2)\n",
    "\n",
    "    # get epsilon1 and epsilon2\n",
    "    epsilon1 = mu1 * abs(Cval1) * ecc**k1\n",
    "    epsilon2 = mu2 * abs(Cval2) * ecc**k2\n",
    "\n",
    "    # get nu\n",
    "    n1 = 2*np.pi/P1\n",
    "    n_r1 = (j1-k1) * n1 / j1\n",
    "    n2 = 2*np.pi/P2\n",
    "    n_r2 = (j2+k2) * n2 / j2\n",
    "    nu = 1/np.sqrt(3) * (n_r2/n_r1 - 1)\n",
    "    \n",
    "    return r, nu, epsilon1, epsilon2"
   ]
  },
  {
   "cell_type": "code",
   "execution_count": 4,
   "id": "0c88230c",
   "metadata": {},
   "outputs": [
    {
     "name": "stdout",
     "output_type": "stream",
     "text": [
      "r, nu, epsilon1, epsilon2 = (1.0, 0.017856193892462593, 2.041852685898105e-07, 2.2280713925294645e-07)\n",
      "0.050611977398787596\n"
     ]
    }
   ],
   "source": [
    "# user-defined parameters\n",
    "ecc, j1, k1, j2, k2 = 0.05, 5, 1, 5, 1\n",
    "P2_0 = (j2+k2)* j1 / ((j1-k1)*j2)\n",
    "P1, P2 = 1, 0.97*P2_0\n",
    "mu1, mu2 = 1e-6, 1e-6\n",
    "r, nu, epsilon1, epsilon2 = OE2param((ecc, P1, P2, mu1, mu2),(j1, k1, j2, k2))\n",
    "print(f\"r, nu, epsilon1, epsilon2 = {r, nu, epsilon1, epsilon2}\")\n",
    "print(2*np.sqrt(epsilon1)/nu)"
   ]
  },
  {
   "cell_type": "code",
   "execution_count": 5,
   "id": "806dda91",
   "metadata": {},
   "outputs": [],
   "source": [
    "def simulation(param):\n",
    "    nu, p_0 = param\n",
    "    ecc, P1, j1, k1, k2 = 0.05, 1, 5, 1, 1\n",
    "    r, epsilon1, epsilon2 = 1, 1e-6, 1e-6\n",
    "    \n",
    "    mu1, mu2, P1, P2 = param2OE((r, nu, epsilon1, epsilon2),(ecc, P1, j1, k1, k2))\n",
    "    n_r1 = (j1-k1)*2*np.pi / (j1*P1)\n",
    "    lambda_0, P_0 = 0, (1-p_0/np.sqrt(3))**3 * (2*np.pi/n_r1)\n",
    "    \n",
    "    # start simulation\n",
    "    sim = rebound.Simulation()\n",
    "    sim.units = ('yr', 'AU', 'Msun')\n",
    "\n",
    "    # add star, planet 1, planet 2\n",
    "    sim.add(m=1.)\n",
    "    sim.add(m=mu1, P=P1)\n",
    "    sim.add(m=mu2, P=P2)\n",
    "    ps = sim.particles\n",
    "    ps[1].r = ps[1].a*(ps[1].m/3/ps[0].m)**(1/3)\n",
    "    ps[2].r = ps[2].a*(ps[2].m/3/ps[0].m)**(1/3)\n",
    "    \n",
    "    # add test particle\n",
    "    sim.add(P=P_0, l=lambda_0, e=ecc)\n",
    "    sim.move_to_com()\n",
    "    sim.integrator = \"whfast\"\n",
    "    sim.dt = sim.particles[1].P/20\n",
    "    sim.collision = \"direct\"\n",
    "    \n",
    "    sim.init_megno()\n",
    "    \n",
    "    # calculate megno\n",
    "    try:\n",
    "        sim.integrate(1e4*2.*np.pi, exact_finish_time=0) # integrate for 1e4 orbitals, integrating to the nearest\n",
    "        #timestep for each output to keep the timestep constant and preserve WHFast's symplectic nature\n",
    "        megno = sim.calculate_megno() \n",
    "        return megno\n",
    "    except rebound.Collision:\n",
    "#         print('Collision')\n",
    "        return 10.\n",
    "    except rebound.Escape:\n",
    "        return 10. # At least one particle got ejected, returning large MEGNO."
   ]
  },
  {
   "cell_type": "code",
   "execution_count": 6,
   "id": "649ed45b",
   "metadata": {},
   "outputs": [],
   "source": [
    "Ngrid_x = 20\n",
    "Ngrid_y = 20\n",
    "nu = np.linspace(-0.01,0.01,Ngrid_x)\n",
    "p_0 = np.linspace(-0.01,0.01,Ngrid_y)\n",
    "parameters = [[x,y] for x in nu for y in p_0]\n",
    "pool = InterruptiblePool()\n",
    "results = pool.map(simulation,parameters)"
   ]
  },
  {
   "cell_type": "code",
   "execution_count": 7,
   "id": "b3f7fd12",
   "metadata": {},
   "outputs": [
    {
     "data": {
      "image/png": "[encoded data removed]",
      "text/plain": [
       "<Figure size 700x500 with 2 Axes>"
      ]
     },
     "metadata": {},
     "output_type": "display_data"
    }
   ],
   "source": [
    "results2d = np.array(results).reshape(Ngrid_y,Ngrid_x)\n",
    "fig = plt.figure(figsize=(7,5))\n",
    "ax = plt.subplot(111)\n",
    "extent = [min(nu),max(nu),min(p_0),max(p_0)]\n",
    "ax.set_xlim(extent[0],extent[1])\n",
    "ax.set_xlabel(r\"$\\nu$\")\n",
    "ax.set_ylim(extent[2],extent[3])\n",
    "ax.set_ylabel(r\"$p$\")\n",
    "im = ax.imshow(results2d, interpolation=\"none\", vmin=1.9, vmax=4, cmap=\"RdYlGn_r\", origin=\"lower\", aspect='auto', extent=extent)\n",
    "cb = plt.colorbar(im, ax=ax)\n",
    "cb.set_label(\"MEGNO\")"
   ]
  },
  {
   "cell_type": "code",
   "execution_count": null,
   "id": "a967ad9b",
   "metadata": {},
   "outputs": [],
   "source": []
  }
 ],
 "metadata": {
  "kernelspec": {
   "display_name": "Python 3 (ipykernel)",
   "language": "python",
   "name": "python3"
  },
  "language_info": {
   "codemirror_mode": {
    "name": "ipython",
    "version": 3
   },
   "file_extension": ".py",
   "mimetype": "text/x-python",
   "name": "python",
   "nbconvert_exporter": "python",
   "pygments_lexer": "ipython3",
   "version": "3.10.9"
  }
 },
 "nbformat": 4,
 "nbformat_minor": 5
}
