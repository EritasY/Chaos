{
 "cells": [
  {
   "cell_type": "code",
   "execution_count": 1,
   "id": "b16ee68d",
   "metadata": {},
   "outputs": [],
   "source": [
    "import pandas as pd\n",
    "import numpy as np\n",
    "import rebound\n",
    "import matplotlib.pyplot as plt\n",
    "from matplotlib import colors\n",
    "from rebound.interruptible_pool import InterruptiblePool"
   ]
  },
  {
   "cell_type": "code",
   "execution_count": 2,
   "id": "806dda91",
   "metadata": {},
   "outputs": [],
   "source": [
    "def simulation(param):\n",
    "    P1, P2 = param\n",
    "    ecc1, ecc0, ecc2 = 0.04,0.04,0.09\n",
    "    mu1, mu2 = 36e-6, 28e-6\n",
    "    pomega1, pomega0, pomega2 = 0, 0, np.pi\n",
    "    P_0 = 0.05\n",
    "\n",
    "    # start simulation\n",
    "    sim = rebound.Simulation()\n",
    "    sim.units = ('yr', 'AU', 'Msun')\n",
    "\n",
    "    # add star, planet 1, planet 2\n",
    "    sim.add(m=1.)\n",
    "    sim.add(m=mu1, P=P1, e=ecc1, pomega=pomega1)\n",
    "    sim.add(m=mu2, P=P2, e=ecc2, pomega=pomega2)\n",
    "    ps = sim.particles\n",
    "    ps[1].r = ps[1].a*(ps[1].m/3/ps[0].m)**(1/3)\n",
    "    ps[2].r = ps[2].a*(ps[2].m/3/ps[0].m)**(1/3)\n",
    "    \n",
    "    # add test particle\n",
    "    sim.add(P=P_0, e=ecc0, pomega=pomega0)\n",
    "    sim.move_to_com()\n",
    "    sim.integrator = \"whfast\"\n",
    "    sim.dt = sim.particles[1].P/20\n",
    "    sim.collision = \"direct\"\n",
    "    \n",
    "    # record collision time\n",
    "    time = np.logspace(0,6,num=100)*P_0\n",
    "    for T in time:\n",
    "        try:\n",
    "            sim.integrate(T, exact_finish_time=0)\n",
    "        except rebound.Collision:\n",
    "            return sim.t\n",
    "    return 1e7*P_0"
   ]
  },
  {
   "cell_type": "code",
   "execution_count": 3,
   "id": "1baa1e56",
   "metadata": {},
   "outputs": [],
   "source": [
    "Ngrid_x = 200\n",
    "Ngrid_y = 200\n",
    "P_0 = 0.05\n",
    "\n",
    "r10 = np.linspace(0.65,0.76,Ngrid_x)\n",
    "r20 = np.linspace(1.3,1.55,Ngrid_y)\n",
    "parameters = [[P_0*x, P_0*y] for x in r10 for y in r20]"
   ]
  },
  {
   "cell_type": "code",
   "execution_count": 4,
   "id": "308da078",
   "metadata": {},
   "outputs": [],
   "source": [
    "from datetime import datetime\n",
    "with open('log.txt', 'a') as file:\n",
    "    file.write('Collision time (ecc=(0.04,0.04,0.09) pomega=(0,0,pi), 200-by-200), started at %s\\n' %datetime.now())\n",
    "    file.close()"
   ]
  },
  {
   "cell_type": "code",
   "execution_count": null,
   "id": "f29373ba",
   "metadata": {},
   "outputs": [],
   "source": [
    "pool = InterruptiblePool()\n",
    "results = pool.map(simulation,parameters)\n",
    "np.savetxt(\"collision_time_no_force.csv\", results, delimiter=\",\")"
   ]
  },
  {
   "cell_type": "code",
   "execution_count": null,
   "id": "98d387d0",
   "metadata": {},
   "outputs": [],
   "source": [
    "with open('log.txt', 'a') as file:\n",
    "    file.write('Ended at %s\\n' %datetime.now())\n",
    "    file.close()"
   ]
  },
  {
   "cell_type": "code",
   "execution_count": null,
   "id": "aa9b2298",
   "metadata": {},
   "outputs": [],
   "source": [
    "def rescale(results):\n",
    "    time_rescaled = np.zeros(len(results))\n",
    "    for i, value in enumerate(results):\n",
    "        time_rescaled[i] = round(np.log10(value/0.05))\n",
    "    return time_rescaled"
   ]
  },
  {
   "cell_type": "code",
   "execution_count": null,
   "id": "7c37caeb",
   "metadata": {},
   "outputs": [],
   "source": [
    "results_rescaled = rescale(results)\n",
    "results2d = np.array(results_rescaled).reshape(Ngrid_y,Ngrid_x)\n",
    "\n",
    "fig = plt.figure(figsize=(7,5))\n",
    "ax = plt.subplot(111)\n",
    "extent = [min(r10),max(r10),min(r20),max(r20)]\n",
    "ax.set_xlim(extent[0],extent[1])\n",
    "ax.set_xlabel(r\"$P_1$ [$P$]\")\n",
    "ax.set_ylim(extent[2],extent[3])\n",
    "ax.set_ylabel(r\"$P_2$ [$P$]\")\n",
    "im = ax.imshow(results2d.transpose(), interpolation=\"none\", vmin=1, vmax=7, cmap=colors.ListedColormap(['r','y','g','b','m','w']), origin=\"lower\", aspect='auto', extent=extent)\n",
    "cb = plt.colorbar(im, ax=ax)\n",
    "cb.set_label(r\"$\\log_{10}$ ($t_{collision}$ [$P$])\")"
   ]
  },
  {
   "cell_type": "code",
   "execution_count": null,
   "id": "355645bc",
   "metadata": {},
   "outputs": [],
   "source": []
  }
 ],
 "metadata": {
  "kernelspec": {
   "display_name": "Python 3 (ipykernel)",
   "language": "python",
   "name": "python3"
  },
  "language_info": {
   "codemirror_mode": {
    "name": "ipython",
    "version": 3
   },
   "file_extension": ".py",
   "mimetype": "text/x-python",
   "name": "python",
   "nbconvert_exporter": "python",
   "pygments_lexer": "ipython3",
   "version": "3.10.9"
  }
 },
 "nbformat": 4,
 "nbformat_minor": 5
}
