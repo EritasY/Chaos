{
 "cells": [
  {
   "cell_type": "code",
   "execution_count": 1,
   "id": "8ee63318",
   "metadata": {},
   "outputs": [],
   "source": [
    "import numpy as np\n",
    "import matplotlib.pyplot as plt\n",
    "from celmech.disturbing_function import df_coefficient_Ctilde\n",
    "from celmech.disturbing_function import evaluate_df_coefficient_dict\n",
    "from celmech.disturbing_function import laplace_b as b"
   ]
  },
  {
   "cell_type": "code",
   "execution_count": 2,
   "id": "00bbf00f",
   "metadata": {},
   "outputs": [],
   "source": [
    "def b1(alpha):\n",
    "    return b(1.5, 1, 0, alpha)\n",
    "def b2(alpha):\n",
    "    return b(1.5, 2, 0, alpha)"
   ]
  },
  {
   "cell_type": "code",
   "execution_count": 3,
   "id": "e7a6c992",
   "metadata": {},
   "outputs": [],
   "source": [
    "def Mprime(alpha, mass):\n",
    "    m1, m2, m3 = mass\n",
    "    m_tot = m1+m2+m3\n",
    "    alpha12, alpha23 = alpha\n",
    "    alpha13 = alpha12+alpha23\n",
    "    \n",
    "    R = np.array([[np.sqrt(m1/m_tot), np.sqrt(m2/m_tot), np.sqrt(m3/m_tot)],\n",
    "             [-np.sqrt(m3/(m1+m3)), 0, np.sqrt(m1/(m1+m3))],\n",
    "             [np.sqrt(m1*m2/(m1+m3)/m_tot), -np.sqrt((m1+m3)/m_tot), np.sqrt(m2*m3/(m1+m3)/m_tot)]])\n",
    "       \n",
    "    M = np.array([[b1(alpha12)*m2+b1(alpha13)*m3, -b2(alpha12)*np.sqrt(m1*m2), -b2(alpha13)*np.sqrt(m1*m3)],\n",
    "             [-b2(alpha12)*np.sqrt(m1*m2), b1(alpha12)*m1+ b1(alpha23)*m3, -b2(alpha23)*np.sqrt(m2*m3)],\n",
    "             [-b2(alpha13)*np.sqrt(m1*m3), -b2(alpha23)*np.sqrt(m2*m3), b1(alpha13)*m1+b1(alpha23)*m2]])*(-2*alpha[2])*np.pi/4\n",
    "    \n",
    "    return np.matmul(np.matmul(R, M), np.transpose(R))"
   ]
  },
  {
   "cell_type": "code",
   "execution_count": 4,
   "id": "c52fb7fb",
   "metadata": {},
   "outputs": [
    {
     "data": {
      "text/plain": [
       "array([[-4.63070965e-08, -3.85151626e-10,  4.26369912e-09],\n",
       "       [-3.85151626e-10, -1.03631642e-06, -1.50676113e-07],\n",
       "       [ 4.26369912e-09, -1.50676113e-07, -2.50139292e-06]])"
      ]
     },
     "execution_count": 4,
     "metadata": {},
     "output_type": "execute_result"
    }
   ],
   "source": [
    "Mprime((0.9, 0.91),(1e-8,1e-8,1e-8))"
   ]
  },
  {
   "cell_type": "markdown",
   "id": "7266e32b",
   "metadata": {},
   "source": [
    "$$ R \\cdot \\begin{pmatrix}\\vec{G_1}\\\\ \\vec{G_2}\\\\ \\vec{G_3} \\end{pmatrix} = \\begin{pmatrix}\\vec{S_1}\\\\ \\vec{S_2}\\\\ \\vec{S_3} \\end{pmatrix} $$"
   ]
  },
  {
   "cell_type": "code",
   "execution_count": 5,
   "id": "40e0c19f",
   "metadata": {},
   "outputs": [],
   "source": [
    "def StoG(mass, amp, phi):\n",
    "    m1, m2, m3 = mass\n",
    "    m_tot = m1+m2+m3\n",
    "    A1, A2, A3 = amp\n",
    "    p1, p2, p3 = phi\n",
    "    \n",
    "    e1_x = 1/np.sqrt(m1)*(np.sqrt(m1/m_tot)*A1*np.cos(p1) - np.sqrt(m3/(m1+m3))*A2*np.cos(p2) + np.sqrt(m1*m2/(m_tot*(m1+m3)))*A3*np.cos(p3))\n",
    "    e2_x = 1/np.sqrt(m2)*(np.sqrt(m2/m_tot)*A1*np.cos(p1) - np.sqrt((m1+m3)/m_tot)*A3*np.cos(p3))\n",
    "    e3_x = 1/np.sqrt(m3)*(np.sqrt(m3/m_tot)*A1*np.cos(p1) + np.sqrt(m1/(m1+m3))*A2*np.cos(p2) + np.sqrt(m2*m3/(m_tot*(m1+m3)))*A3*np.cos(p3))\n",
    "    \n",
    "    e1_y = 1/np.sqrt(m1)*(np.sqrt(m1/m_tot)*A1*np.sin(p1) - np.sqrt(m3/(m1+m3))*A2*np.sin(p2) + np.sqrt(m1*m2/(m_tot*(m1+m3)))*A3*np.sin(p3))\n",
    "    e2_y = 1/np.sqrt(m2)*(np.sqrt(m2/m_tot)*A1*np.sin(p1) - np.sqrt((m1+m3)/m_tot)*A3*np.sin(p3))\n",
    "    e3_y = 1/np.sqrt(m3)*(np.sqrt(m3/m_tot)*A1*np.sin(p1) + np.sqrt(m1/(m1+m3))*A2*np.sin(p2) + np.sqrt(m2*m3/(m_tot*(m1+m3)))*A3*np.sin(p3))\n",
    "    \n",
    "    e1, e2, e3 = np.sqrt(e1_x**2 + e1_y**2), np.sqrt(e2_x**2 + e2_y**2), np.sqrt(e3_x**2 + e3_y**2)\n",
    "    pom1, pom2, pom3 = np.arctan2(e1_y,e1_x), np.arctan2(e2_y,e2_x), np.arctan2(e3_y,e3_x)\n",
    "    \n",
    "    return (e1, e2, e3), (pom1, pom2, pom3)"
   ]
  },
  {
   "cell_type": "code",
   "execution_count": 6,
   "id": "0ec076df",
   "metadata": {},
   "outputs": [],
   "source": [
    "def GtoS(alpha, mass, ecc, pomega):\n",
    "    alpha12, alpha23, alpha13 = alpha\n",
    "    m1, m2, m3 = mass\n",
    "    m_tot = m1+m2+m3\n",
    "    ecc1, ecc2, ecc3 = ecc\n",
    "    pom1, pom2, pom3 = pomega\n",
    "\n",
    "    e1_x, e2_x, e3_x = ecc1*np.cos(pom1), ecc2*np.cos(pom2), ecc3*np.cos(pom3)\n",
    "    e1_y, e2_y, e3_y = ecc1*np.sin(pom1), ecc2*np.sin(pom2), ecc3*np.sin(pom3)\n",
    "    \n",
    "    amp1 = np.sqrt(1/m_tot) * np.sqrt((m1*e1_y + m2*e2_y + m3*e3_y)**2 + (m1*e1_x + m2*e2_x + m3*e3_x)**2)\n",
    "    amp2 = np.sqrt(m1*m3/(m1+m3)) * np.sqrt((e3_y-e1_y)**2 + (e3_x-e1_x)**2)\n",
    "    amp3 = np.sqrt(m2/((m1+m3)*m_tot)) * np.sqrt((m3*(e3_y-e2_y)-m1*(e2_y-e1_y))**2+(m3*(e3_x-e2_x)-m1*(e2_x-e1_x))**2)\n",
    "    \n",
    "    phase1 = np.arctan2(m1*e1_y+m2*e2_y+m3*e3_y, m1*e1_x+m2*e2_x+m3*e3_x)\n",
    "    phase2 = np.arctan2(e3_y-e1_y, e3_x-e1_x)\n",
    "    phase3 = np.arctan2(m3*(e3_y-e2_y)-m1*(e2_y-e1_y), m3*(e3_x-e2_x)-m1*(e2_x-e1_x))\n",
    "    \n",
    "    omega2 = 1/(m1+m3)*(m2*m3*b1(alpha12) + m1*m2*b1(alpha23) + (m1**2+m3**2)*b1(alpha13) + 2*m1*m3*b2(alpha13)) * (2*alpha13)*np.pi/4\n",
    "    omega3 = (((m1+m3)**2+m2**2)/((m1+m3)*m_tot)*(m1*b1(alpha12) + m3*b1(alpha23)) + 2*m2/m_tot*(m1*b2(alpha12)+m3*b2(alpha23))) * (2*alpha13)*np.pi/4\n",
    "    \n",
    "    return amp1, amp2, amp3, phase1, phase2, phase3, omega2, omega3"
   ]
  },
  {
   "cell_type": "code",
   "execution_count": 7,
   "id": "71d30397",
   "metadata": {},
   "outputs": [],
   "source": [
    "def breathingON(mass, A3):\n",
    "    m1, m2, m3 = mass\n",
    "    m_tot = m1+m2+m3\n",
    "    \n",
    "    A3_b = A3 / np.sqrt(2)\n",
    "    A2_b = (np.sqrt((m1+m3)/(m2*m_tot)) + np.sqrt(m2/((m1+m3)*m_tot)))*A3_b / np.sqrt(m3/(m1*(m1+m3)))\n",
    "    return A2_b, A3_b"
   ]
  },
  {
   "cell_type": "code",
   "execution_count": null,
   "id": "d457c464",
   "metadata": {},
   "outputs": [],
   "source": [
    "def plotEcc(alpha, mass, ecc, pomega, time):\n",
    "    m1, m2, m3 = mass\n",
    "    m_tot = m1+m2+m3\n",
    "    A1, A2, A3, p1, p2, p3, w2, w3 = GtoS(alpha, mass, ecc, pomega)\n",
    "#     print(f\"A1={A1},A2={A2},A3={A3}\")\n",
    "#     print(f\"w2={w2},w3={w3}\")\n",
    "    \n",
    "    t = np.linspace(0,time,400)\n",
    "    \n",
    "    e1_x = 1/np.sqrt(m1)*(np.sqrt(m1/m_tot)*A1*np.cos(p1) - np.sqrt(m3/(m1+m3))*A2*np.cos(w2*t+p2) + np.sqrt(m1*m2/(m_tot*(m1+m3)))*A3*np.cos(w3*t+p3))\n",
    "    e2_x = 1/np.sqrt(m2)*(np.sqrt(m2/m_tot)*A1*np.cos(p1) - np.sqrt((m1+m3)/m_tot)*A3*np.cos(w3*t+p3))\n",
    "    e3_x = 1/np.sqrt(m3)*(np.sqrt(m3/m_tot)*A1*np.cos(p1) + np.sqrt(m1/(m1+m3))*A2*np.cos(w2*t+p2) + np.sqrt(m2*m3/(m_tot*(m1+m3)))*A3*np.cos(w3*t+p3))\n",
    "    \n",
    "    e1_y = 1/np.sqrt(m1)*(np.sqrt(m1/m_tot)*A1*np.sin(p1) - np.sqrt(m3/(m1+m3))*A2*np.sin(w2*t+p2) + np.sqrt(m1*m2/(m_tot*(m1+m3)))*A3*np.sin(w3*t+p3))\n",
    "    e2_y = 1/np.sqrt(m2)*(np.sqrt(m2/m_tot)*A1*np.sin(p1) - np.sqrt((m1+m3)/m_tot)*A3*np.sin(w3*t+p3))\n",
    "    e3_y = 1/np.sqrt(m3)*(np.sqrt(m3/m_tot)*A1*np.sin(p1) + np.sqrt(m1/(m1+m3))*A2*np.sin(w2*t+p2) + np.sqrt(m2*m3/(m_tot*(m1+m3)))*A3*np.sin(w3*t+p3))\n",
    "    \n",
    "    e1 = np.sqrt(e1_x**2 + e1_y**2)\n",
    "    e2 = np.sqrt(e2_x**2 + e2_y**2)\n",
    "    e3 = np.sqrt(e3_x**2 + e3_y**2)\n",
    "    \n",
    "    e21 = np.sqrt((e2_x-e1_x)**2 + (e2_y-e1_y)**2)\n",
    "    e32 = np.sqrt((e3_x-e2_x)**2 + (e3_y-e2_y)**2)\n",
    "    \n",
    "    fig, axarr = plt.subplots(nrows=5, figsize=(12,14))\n",
    "    axarr[0].plot(t, e1, 'k.')\n",
    "    axarr[0].set_ylabel(r\"$e_{1}$\")\n",
    "    \n",
    "    axarr[1].plot(t, e2, 'k.')\n",
    "    axarr[1].set_ylabel(r\"$e_{2}$\")\n",
    "    \n",
    "    axarr[2].plot(t, e3, 'k.')\n",
    "    axarr[2].set_ylabel(r\"$e_{3}$\")\n",
    "    \n",
    "    axarr[3].plot(t, e21, 'k.')\n",
    "    axarr[3].set_ylabel(r\"$e_{21}$\")\n",
    "    \n",
    "    axarr[4].plot(t, e32, 'k.')\n",
    "    axarr[4].set_ylabel(r\"$e_{32}$\")\n",
    "    "
   ]
  },
  {
   "cell_type": "code",
   "execution_count": null,
   "id": "5f6cae94",
   "metadata": {},
   "outputs": [],
   "source": [
    "alpha = 0.87, 0.87, 0.87**2\n",
    "mass = 1e-6,1e-7,1e-7\n",
    "ecc = 0.01, 0.01, 0.01\n",
    "pomega = 0, 0, np.pi\n",
    "\n",
    "amp1, amp2, amp3, phase1, phase2, phase3, omega2, omega3 = GtoS(alpha, mass, ecc, pomega)\n",
    "\n",
    "A2, A3 = breathingON(mass,amp3)\n",
    "print(A2, A3)\n",
    "ecc, pomega = StoG(mass, (amp1, A2, A3), (phase1, phase2, phase3 + np.pi/2))\n",
    "\n",
    "plotEcc(alpha, mass, ecc, pomega, 5e6)"
   ]
  },
  {
   "cell_type": "code",
   "execution_count": null,
   "id": "da386ad3",
   "metadata": {},
   "outputs": [],
   "source": [
    "ecc, pomega = StoG(mass, (amp1, 0, amp3), (phase1, phase2, phase3))\n",
    "print(ecc, pomega)\n",
    "plotEcc(alpha, mass, ecc, pomega,5e6)"
   ]
  },
  {
   "cell_type": "code",
   "execution_count": null,
   "id": "f2b2f356",
   "metadata": {},
   "outputs": [],
   "source": []
  }
 ],
 "metadata": {
  "kernelspec": {
   "display_name": "Python 3 (ipykernel)",
   "language": "python",
   "name": "python3"
  },
  "language_info": {
   "codemirror_mode": {
    "name": "ipython",
    "version": 3
   },
   "file_extension": ".py",
   "mimetype": "text/x-python",
   "name": "python",
   "nbconvert_exporter": "python",
   "pygments_lexer": "ipython3",
   "version": "3.10.9"
  }
 },
 "nbformat": 4,
 "nbformat_minor": 5
}
