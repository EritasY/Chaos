{
 "cells": [
  {
   "cell_type": "code",
   "execution_count": 1,
   "id": "f1925b04",
   "metadata": {},
   "outputs": [],
   "source": [
    "import pandas as pd\n",
    "import numpy as np\n",
    "import rebound\n",
    "import matplotlib.pyplot as plt\n",
    "from matplotlib import colors\n",
    "from rebound.interruptible_pool import InterruptiblePool\n",
    "import scipy.optimize as opt\n",
    "import cmath"
   ]
  },
  {
   "cell_type": "code",
   "execution_count": 2,
   "id": "138ad90c",
   "metadata": {},
   "outputs": [],
   "source": [
    "from celmech.disturbing_function import df_coefficient_Ctilde\n",
    "from celmech.disturbing_function import evaluate_df_coefficient_dict\n",
    "from celmech.disturbing_function import laplace_b as b"
   ]
  },
  {
   "cell_type": "code",
   "execution_count": 3,
   "id": "72a2d6e1",
   "metadata": {},
   "outputs": [],
   "source": [
    "def b1(alpha):\n",
    "    return b(1.5, 1, 0, alpha)\n",
    "def b2(alpha):\n",
    "    return b(1.5, 2, 0, alpha)"
   ]
  },
  {
   "cell_type": "markdown",
   "id": "d47ad713",
   "metadata": {},
   "source": [
    "$$ T\\cdot\\vec{e} = \\vec{A} $$"
   ]
  },
  {
   "cell_type": "code",
   "execution_count": 4,
   "id": "e3d32306",
   "metadata": {},
   "outputs": [],
   "source": [
    "def getT(mass, alpha):\n",
    "    m1, m3 = mass\n",
    "    mu1, mu3 = m1/(m1+m3),m3/(m1+m3)\n",
    "    \n",
    "    alpha12, alpha23 = alpha\n",
    "    alpha13 = alpha12*alpha23\n",
    "    \n",
    "    ec12 = alpha12**(-1/4)*alpha23**(3/4)*alpha23**(-1/8)*(1-alpha12)\n",
    "    ec23 = alpha23**(-1/2)*alpha12**(1/8)*(1-alpha23)\n",
    "    ec13 = alpha13**(-1/2)*(1-alpha13)\n",
    "    \n",
    "    d = (ec12 - ec23)/ec13\n",
    "    mu = (mu3-mu1)/(mu1+mu3)\n",
    "    gamma = 1/(3+6*d**2+8*mu*d-d**4)\n",
    "    T = np.array([[gamma*mu1*(1-d)**3*(3+d), -gamma*(mu3*(1+d)**3*(3-d)+mu1*(1-d)**3*(3+d)), gamma*mu3*(1+d)**3*(3-d)],\n",
    "                 [-np.sqrt(mu1*mu3), 0, np.sqrt(mu1*mu3)],\n",
    "                 [mu1, 0, mu3]])\n",
    "    return T"
   ]
  },
  {
   "cell_type": "code",
   "execution_count": 5,
   "id": "632903cb",
   "metadata": {},
   "outputs": [],
   "source": [
    "def AtoE(alpha, mass, amp, phi):\n",
    "    m1, m3 = mass\n",
    "    A1, A2, A3 = amp\n",
    "    p1, p2, p3 = phi\n",
    "    \n",
    "    invT = np.linalg.inv(getT(mass, alpha))\n",
    "    A_vec = np.array([[A1*cmath.exp(1j*p1)], [A2*cmath.exp(1j*p2)], [A3*cmath.exp(1j*p3)]])\n",
    "    e_vec = invT @ A_vec\n",
    "    \n",
    "    e1, e2, e3 = np.abs(e_vec[0][0]), np.abs(e_vec[1][0]), np.abs(e_vec[2][0])\n",
    "    pom1, pom2, pom3 = cmath.phase(e_vec[0][0]), cmath.phase(e_vec[1][0]), cmath.phase(e_vec[2][0])\n",
    "    \n",
    "    return (e1, e2, e3), (pom1, pom2, pom3)"
   ]
  },
  {
   "cell_type": "code",
   "execution_count": 6,
   "id": "4b29ad75",
   "metadata": {},
   "outputs": [],
   "source": [
    "def EtoA(alpha, mass, ecc, pomega):\n",
    "    e1, e2, e3 = ecc\n",
    "    pom1, pom2, pom3 = pomega\n",
    "    \n",
    "    T = getT(mass, alpha)\n",
    "    e_vec = np.array([[e1*cmath.exp(1j*pom1)], [e2*cmath.exp(1j*pom2)], [e3*cmath.exp(1j*pom3)]])\n",
    "    A_vec = T @ e_vec\n",
    "    \n",
    "    amp1, amp2, amp3 = np.abs(A_vec[0][0]), np.abs(A_vec[1][0]), np.abs(A_vec[2][0])\n",
    "    phi1, phi2, phi3 = cmath.phase(A_vec[0][0]), cmath.phase(A_vec[1][0]), cmath.phase(A_vec[2][0])\n",
    "    \n",
    "    return amp1, amp2, amp3, phi1, phi2, phi3"
   ]
  },
  {
   "cell_type": "code",
   "execution_count": 7,
   "id": "90260877",
   "metadata": {},
   "outputs": [],
   "source": [
    "def breathingON(mass, A1_p):\n",
    "    m1, m3 = mass\n",
    "    \n",
    "    x1, y1 = np.sqrt(m3/m1), np.sqrt(m1/m3)\n",
    "    x2, y2 = 1, 1\n",
    "    \n",
    "    if m1==m3:\n",
    "        A1_b = A1_p / np.sqrt(2)\n",
    "        A2_b = A1_b*x2/x1\n",
    "        theta = np.pi/2\n",
    "    else:\n",
    "        def A2(theta):\n",
    "            return 2*A1_p*x2*y2*np.cos(theta) / np.sqrt((x1*y2-x2*y1)**2 + 4*x1*x2*y1*y2*(np.cos(theta))**2)\n",
    "        def A1(theta):\n",
    "            return A1_p*(x1*y2-x2*y1) / np.sqrt((x1*y2-x2*y1)**2 + 4*x1*x2*y1*y2*(np.cos(theta))**2)\n",
    "        def e21_min(theta):\n",
    "            return -(x1*A2(theta) + x2*A1(theta))**2\n",
    "        def e32_min(theta):\n",
    "            return -(y1*A2(theta) + y2*A1(theta))**2\n",
    "        \n",
    "        minimizer_kwargs = dict(method=\"L-BFGS-B\", bounds=[(0,2*np.pi)])\n",
    "        result21 = opt.basinhopping(e21_min, x0=0, minimizer_kwargs=minimizer_kwargs, niter=50)\n",
    "        result32 = opt.basinhopping(e32_min, x0=0, minimizer_kwargs=minimizer_kwargs, niter=50)\n",
    "        \n",
    "        if np.fabs(result21.fun) > np.fabs(result32.fun):\n",
    "            theta = result21.x\n",
    "            A1_b, A2_b = A1(theta), A2(theta)\n",
    "        else:\n",
    "            theta = result32.x\n",
    "            A1_b, A2_b = A1(theta), A2(theta)\n",
    "    \n",
    "    return A1_b, A2_b, theta"
   ]
  },
  {
   "cell_type": "code",
   "execution_count": 8,
   "id": "77e5ec16",
   "metadata": {},
   "outputs": [],
   "source": [
    "MASS = 3e-6, 3e-6\n",
    "POMEGA = 0, 2*np.pi/3, -2*np.pi/3\n",
    "f = 0.1\n",
    "timescale = 1.5e6"
   ]
  },
  {
   "cell_type": "code",
   "execution_count": 9,
   "id": "a6b6cb2d",
   "metadata": {},
   "outputs": [],
   "source": [
    "def simNoBreathing(alpha):\n",
    "    alpha12, alpha23 = alpha\n",
    "    P1, P2, P3 = alpha12**(3/2), 1, 1/alpha23**(3/2)\n",
    "    mu1, mu3 = MASS\n",
    "    ECC = f*(1-alpha12), f*(1-(alpha12+alpha23)/2), f*(1-alpha23)\n",
    "    \n",
    "    amp1, amp2, amp3, phase1, phase2, phase3  = EtoA(alpha, MASS, ECC, POMEGA)\n",
    "    ecc_nb, pomega_nb = AtoE(alpha, MASS, (amp1, 0, amp3), (phase1, phase2, phase3))\n",
    "    ecc1, ecc2, ecc3 = ecc_nb\n",
    "    pomega1, pomega2, pomega3 = pomega_nb\n",
    "    \n",
    "    # start simulation\n",
    "    sim = rebound.Simulation()\n",
    "    sim.units = ('yr', 'AU', 'Msun')\n",
    "\n",
    "    # add star, planet 1, planet 2\n",
    "    sim.add(m=1.)\n",
    "    sim.add(m=mu1, P=P1, e=ecc1, pomega=pomega1)\n",
    "    sim.add(P=P2, e=ecc2, pomega=pomega2)\n",
    "    sim.add(m=mu3, P=P3, e=ecc3, pomega=pomega3)\n",
    "    ps = sim.particles\n",
    "    ps[1].r = ps[1].a*(ps[1].m/3/ps[0].m)**(1/3)\n",
    "    ps[2].r = ps[2].a*(ps[2].m/3/ps[0].m)**(1/3)\n",
    "\n",
    "    sim.move_to_com()\n",
    "    sim.integrator = \"whfast\"\n",
    "    sim.dt = sim.particles[1].P/20\n",
    "    sim.collision = \"direct\"\n",
    "    \n",
    "    sim.init_megno()\n",
    "    try:\n",
    "        sim.integrate(timescale, exact_finish_time=0)\n",
    "        megno = sim.calculate_megno() \n",
    "        return megno\n",
    "    except rebound.Collision:\n",
    "        return 4000\n",
    "\n",
    "#     time = np.logspace(0,7,num=100)\n",
    "#     for T in time:\n",
    "#         try:\n",
    "#             sim.integrate(T, exact_finish_time=0)\n",
    "#         except rebound.Collision:\n",
    "#             return sim.t\n",
    "#     return 1e8"
   ]
  },
  {
   "cell_type": "code",
   "execution_count": 10,
   "id": "c31d1647",
   "metadata": {},
   "outputs": [],
   "source": [
    "def simWithBreathing(alpha):\n",
    "    alpha12, alpha23 = alpha\n",
    "    P1, P2, P3 = alpha12**(3/2), 1, 1/alpha23**(3/2)\n",
    "    mu1, mu3 = MASS\n",
    "    ECC = f*(1-alpha12), f*(1-(alpha12+alpha23)/2), f*(1-alpha23)\n",
    "    \n",
    "    amp1, amp2, amp3, phase1, phase2, phase3 = EtoA(alpha, MASS, ECC, POMEGA)   \n",
    "    amp1_wb, amp2_wb, theta = breathingON(MASS, amp1)\n",
    "    ecc_wb, pomega_wb = AtoE(alpha, MASS, (amp1_wb, amp2_wb, amp3), (phase1, phase2+theta, phase3))\n",
    "    \n",
    "    ecc1, ecc2, ecc3 = ecc_wb\n",
    "    pomega1, pomega2, pomega3 = pomega_wb\n",
    "    \n",
    "    # start simulation\n",
    "    sim = rebound.Simulation()\n",
    "    sim.units = ('yr', 'AU', 'Msun')\n",
    "\n",
    "    # add star, planet 1, planet 2\n",
    "    sim.add(m=1.)\n",
    "    sim.add(m=mu1, P=P1, e=ecc1, pomega=pomega1)\n",
    "    sim.add(P=P2, e=ecc2, pomega=pomega2)\n",
    "    sim.add(m=mu3, P=P3, e=ecc3, pomega=pomega3)\n",
    "    ps = sim.particles\n",
    "    ps[1].r = ps[1].a*(ps[1].m/3/ps[0].m)**(1/3)\n",
    "    ps[2].r = ps[2].a*(ps[2].m/3/ps[0].m)**(1/3)\n",
    "\n",
    "    sim.move_to_com()\n",
    "    sim.integrator = \"whfast\"\n",
    "    sim.dt = sim.particles[1].P/20\n",
    "    sim.collision = \"direct\"\n",
    "    \n",
    "    sim.init_megno()\n",
    "    try:\n",
    "        sim.integrate(timescale, exact_finish_time=0)\n",
    "        megno = sim.calculate_megno() \n",
    "        return megno\n",
    "    except rebound.Collision:\n",
    "        return 4000\n",
    "\n",
    "#     time = np.logspace(0,7,num=100)\n",
    "#     for T in time:\n",
    "#         try:\n",
    "#             sim.integrate(T, exact_finish_time=0)\n",
    "#         except rebound.Collision:\n",
    "#             return sim.t\n",
    "#     return 1e8"
   ]
  },
  {
   "cell_type": "code",
   "execution_count": 11,
   "id": "eac18456",
   "metadata": {},
   "outputs": [],
   "source": [
    "Ngrid_x = 100\n",
    "Ngrid_y = 100\n",
    "\n",
    "alpha12 = np.linspace(0.75,0.9,Ngrid_x)\n",
    "alpha23 = np.linspace(0.75,0.9,Ngrid_y)\n",
    "parameters = [[x,y] for x in alpha12 for y in alpha23]\n",
    "\n",
    "# Ngrid = 10000\n",
    "# alpha12 = np.linspace(0.75,0.9,Ngrid)\n",
    "# parameters = [[x,x] for x in alpha12]"
   ]
  },
  {
   "cell_type": "code",
   "execution_count": null,
   "id": "7d371527",
   "metadata": {},
   "outputs": [],
   "source": [
    "pool = InterruptiblePool()\n",
    "results_no_breathing = pool.map(simNoBreathing,parameters)\n",
    "np.savetxt(\"MEGNO_nb_10%_ME.csv\", results_no_breathing, delimiter=\",\")\n",
    "\n",
    "results_with_breathing = pool.map(simWithBreathing,parameters)\n",
    "np.savetxt(\"MEGNO_wb_10%_ME.csv\", results_with_breathing, delimiter=\",\")"
   ]
  },
  {
   "cell_type": "code",
   "execution_count": 15,
   "id": "955ace76",
   "metadata": {},
   "outputs": [],
   "source": [
    "def rescale(results):\n",
    "    return results\n",
    "#     time_rescaled = np.zeros(len(results))\n",
    "#     for i, value in enumerate(results):\n",
    "#         time_rescaled[i] = round(np.log10(value)[0])\n",
    "#     return time_rescaled"
   ]
  },
  {
   "cell_type": "code",
   "execution_count": 19,
   "id": "1425c5ae",
   "metadata": {},
   "outputs": [
    {
     "data": {
      "image/png": "[encoded data removed]",
      "text/plain": [
       "<Figure size 1000x500 with 4 Axes>"
      ]
     },
     "metadata": {},
     "output_type": "display_data"
    }
   ],
   "source": [
    "dataframe1 = pd.read_csv('MEGNO_nb_10%_ME.csv', header=None)\n",
    "data_nb = rescale(dataframe1.values).reshape(Ngrid_y,Ngrid_x)\n",
    "dataframe2 = pd.read_csv('MEGNO_wb_10%_ME.csv', header=None)\n",
    "data_wb = rescale(dataframe2.values).reshape(Ngrid_y,Ngrid_x)\n",
    "\n",
    "f, (ax1, ax2) = plt.subplots(1, 2, sharey=True, figsize=(10,5))\n",
    "f.subplots_adjust(wspace=0)\n",
    "\n",
    "extent = [min(alpha12),max(alpha12),min(alpha23),max(alpha23)]\n",
    "ax1.set_xlim(extent[0],extent[1])\n",
    "ax1.set_ylim(extent[2],extent[3])\n",
    "ax1.set_ylabel(r\"$\\alpha_{23}$\")\n",
    "ax1.set_xlabel(r\"$\\alpha_{12}$\")\n",
    "ax1.set_title(\"without secular effect\")\n",
    "\n",
    "ax2.set_xlim(extent[0],extent[1])\n",
    "ax2.set_ylim(extent[2],extent[3])\n",
    "ax2.set_xlabel(r\"$\\alpha_{12}$\")\n",
    "ax2.set_title(\"with secular effect\")\n",
    "\n",
    "im1 = ax1.imshow(data_nb.transpose(), vmin=2, vmax=7, interpolation=\"none\", cmap=\"binary\", origin=\"lower\", aspect='auto', extent=extent)\n",
    "cb1 = plt.colorbar(im1, ax=ax1)\n",
    "im2 = ax2.imshow(data_wb.transpose(), vmin=2, vmax=7, interpolation=\"none\", cmap=\"binary\", origin=\"lower\", aspect='auto', extent=extent)\n",
    "cb2 = plt.colorbar(im2, ax=ax2)\n",
    "cb2.set_label(\"MEGNO\")\n",
    "\n",
    "# im1 = ax1.imshow(data_nb.transpose(),vmin=2, vmax=8, cmap=colors.ListedColormap(['r','y','g','b','m','w']), origin=\"lower\", aspect='auto', extent=extent)\n",
    "# cb1 = plt.colorbar(im1, ax=ax1)\n",
    "# im2 = ax2.imshow(data_wb.transpose(),vmin=2, vmax=8, cmap=colors.ListedColormap(['r','y','g','b','m','w']), origin=\"lower\", aspect='auto', extent=extent)\n",
    "# cb2 = plt.colorbar(im2, ax=ax2)\n",
    "# cb2.set_label(\"Collision Time\")"
   ]
  },
  {
   "cell_type": "code",
   "execution_count": null,
   "id": "56c5aeee",
   "metadata": {},
   "outputs": [],
   "source": []
  }
 ],
 "metadata": {
  "kernelspec": {
   "display_name": "Python 3 (ipykernel)",
   "language": "python",
   "name": "python3"
  },
  "language_info": {
   "codemirror_mode": {
    "name": "ipython",
    "version": 3
   },
   "file_extension": ".py",
   "mimetype": "text/x-python",
   "name": "python",
   "nbconvert_exporter": "python",
   "pygments_lexer": "ipython3",
   "version": "3.10.9"
  }
 },
 "nbformat": 4,
 "nbformat_minor": 5
}
