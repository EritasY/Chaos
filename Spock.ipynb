{
 "cells": [
  {
   "cell_type": "code",
   "execution_count": 1,
   "id": "b16ee68d",
   "metadata": {},
   "outputs": [],
   "source": [
    "import numpy as np\n",
    "import matplotlib.pyplot as plt\n",
    "from spock import FeatureClassifier\n",
    "import rebound\n",
    "%matplotlib inline"
   ]
  },
  {
   "cell_type": "code",
   "execution_count": 2,
   "id": "28231142",
   "metadata": {},
   "outputs": [],
   "source": [
    "def makesim(P1, P2):\n",
    "    ecc1, ecc0, ecc2 = 0.1, 0.07, 0.1\n",
    "    mu1, mu2 = 36e-6, 28e-6\n",
    "    pomega1, pomega0, pomega2 = -0.4, -0.86, 0\n",
    "    P_0, lambda_0 = 0.05, 0\n",
    "\n",
    "    # start simulation\n",
    "    sim = rebound.Simulation()\n",
    "    sim.units = ('yr', 'AU', 'Msun')\n",
    "\n",
    "    # add star, planet 1, planet 2\n",
    "    sim.add(m=1.)\n",
    "    sim.add(m=mu1, P=P1, e=ecc1, pomega=pomega1)\n",
    "    sim.add(m=mu2, P=P2, e=ecc2, pomega=pomega2)\n",
    "    ps = sim.particles\n",
    "    ps[1].r = ps[1].a*(ps[1].m/3/ps[0].m)**(1/3)\n",
    "    ps[2].r = ps[2].a*(ps[2].m/3/ps[0].m)**(1/3)\n",
    "    \n",
    "    # add test particle\n",
    "    sim.add(P=P_0, l=lambda_0, e=ecc0, pomega=pomega0)\n",
    "    sim.move_to_com()\n",
    "    sim.integrator = \"whfast\"\n",
    "    sim.dt = sim.particles[1].P/20\n",
    "    sim.collision = \"direct\"\n",
    "    return sim"
   ]
  },
  {
   "cell_type": "code",
   "execution_count": 3,
   "id": "c0e1228c",
   "metadata": {},
   "outputs": [],
   "source": [
    "def get_sims(xlist, ylist):\n",
    "    sims = []\n",
    "    for y in ylist:\n",
    "        for x in xlist:\n",
    "            sims.append(makesim(x, y))\n",
    "    return sims\n",
    "            \n",
    "def get_centered_grid(xlist, ylist, probs):  \n",
    "    # assumes uniformly spaced values in x and y (can have different lengths)\n",
    "    dx = xlist[1]-xlist[0]\n",
    "    dy = ylist[1]-ylist[0]\n",
    "\n",
    "    xgrid = [x - dx/2 for x in xlist] + [xlist[-1]+dx/2]\n",
    "    ygrid = [y - dy/2 for y in ylist] + [ylist[-1]+dy/2]\n",
    "\n",
    "    X, Y = np.meshgrid(xgrid, ygrid)\n",
    "    Z = np.array(probs).reshape(len(ylist),len(xlist))\n",
    "\n",
    "    return X,Y,Z"
   ]
  },
  {
   "cell_type": "code",
   "execution_count": 4,
   "id": "c7ec93bc",
   "metadata": {},
   "outputs": [],
   "source": [
    "Ngrid_x = 100\n",
    "Ngrid_y = 100\n",
    "P_0 = 0.05\n",
    "\n",
    "P1 = np.linspace(0.49*P_0,0.76*P_0,Ngrid_x)\n",
    "P2 = np.linspace(1.3*P_0,2.04*P_0,Ngrid_y)"
   ]
  },
  {
   "cell_type": "code",
   "execution_count": null,
   "id": "8cc37832",
   "metadata": {},
   "outputs": [
    {
     "name": "stdout",
     "output_type": "stream",
     "text": [
      "[13:33:12] WARNING: /croot/xgboost-split_1675457761144/work/src/learner.cc:888: Found JSON model saved before XGBoost 1.6, please save the model using current version again. The support for old JSON model will be discontinued in XGBoost 2.3.\n"
     ]
    }
   ],
   "source": [
    "%%time\n",
    "model = FeatureClassifier()\n",
    "sims = get_sims(P1, P2)\n",
    "probs = model.predict_stable(sims)"
   ]
  },
  {
   "cell_type": "code",
   "execution_count": null,
   "id": "eb1b94e3",
   "metadata": {},
   "outputs": [],
   "source": [
    "fig, ax = plt.subplots(figsize=(8,6))\n",
    "\n",
    "X,Y,Z = get_centered_grid(P1, P2, probs)\n",
    "im = ax.pcolormesh(X, Y, Z, vmin=0, vmax=1, cmap=\"RdYlGn\")\n",
    "\n",
    "cb = plt.colorbar(im, ax=ax)\n",
    "cb.set_label(\"SPOCK Stability Probability\")\n",
    "ax.set_xlabel(r\"$P_1$ [$P$]\")\n",
    "ax.set_ylabel(r\"$P_2$ [$P$]\")"
   ]
  },
  {
   "cell_type": "code",
   "execution_count": null,
   "id": "4ae51930",
   "metadata": {},
   "outputs": [],
   "source": []
  }
 ],
 "metadata": {
  "kernelspec": {
   "display_name": "Python 3 (ipykernel)",
   "language": "python",
   "name": "python3"
  },
  "language_info": {
   "codemirror_mode": {
    "name": "ipython",
    "version": 3
   },
   "file_extension": ".py",
   "mimetype": "text/x-python",
   "name": "python",
   "nbconvert_exporter": "python",
   "pygments_lexer": "ipython3",
   "version": "3.10.9"
  }
 },
 "nbformat": 4,
 "nbformat_minor": 5
}
